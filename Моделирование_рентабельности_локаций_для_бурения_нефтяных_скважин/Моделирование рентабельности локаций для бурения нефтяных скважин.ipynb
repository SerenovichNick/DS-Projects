{
 "cells": [
  {
   "cell_type": "markdown",
   "metadata": {},
   "source": [
    "# Выбор локации для скважины"
   ]
  },
  {
   "cell_type": "markdown",
   "metadata": {},
   "source": [
    "Допустим, вы работаете в добывающей компании «ГлавРосГосНефть». Нужно решить, где бурить новую скважину.\n",
    "\n",
    "Вам предоставлены пробы нефти в трёх регионах: в каждом 10 000 месторождений, где измерили качество нефти и объём её запасов. Постройте модель машинного обучения, которая поможет определить регион, где добыча принесёт наибольшую прибыль. Проанализируйте возможную прибыль и риски техникой *Bootstrap.*\n",
    "\n",
    "Шаги для выбора локации:\n",
    "\n",
    "- В избранном регионе ищут месторождения, для каждого определяют значения признаков;\n",
    "- Строят модель и оценивают объём запасов;\n",
    "- Выбирают месторождения с самым высокими оценками значений. Количество месторождений зависит от бюджета компании и стоимости разработки одной скважины;\n",
    "- Прибыль равна суммарной прибыли отобранных месторождений."
   ]
  },
  {
   "cell_type": "markdown",
   "metadata": {},
   "source": [
    "## Загрузка и подготовка данных"
   ]
  },
  {
   "cell_type": "markdown",
   "metadata": {},
   "source": [
    "**Установим необходимые библиотеки.**"
   ]
  },
  {
   "cell_type": "code",
   "execution_count": 1,
   "metadata": {},
   "outputs": [],
   "source": [
    "!pip install chart_studio -q\n",
    "!pip install cufflinks -q\n",
    "!pip install phik -q\n",
    "!pip install -U scikit-learn -q"
   ]
  },
  {
   "cell_type": "markdown",
   "metadata": {},
   "source": [
    "**Импортируем библиотеки для работы с данными, графиками и моделями.**"
   ]
  },
  {
   "cell_type": "code",
   "execution_count": 2,
   "metadata": {},
   "outputs": [
    {
     "data": {
      "text/html": [
       "        <script type=\"text/javascript\">\n",
       "        window.PlotlyConfig = {MathJaxConfig: 'local'};\n",
       "        if (window.MathJax) {MathJax.Hub.Config({SVG: {font: \"STIX-Web\"}});}\n",
       "        if (typeof require !== 'undefined') {\n",
       "        require.undef(\"plotly\");\n",
       "        requirejs.config({\n",
       "            paths: {\n",
       "                'plotly': ['https://cdn.plot.ly/plotly-2.6.3.min']\n",
       "            }\n",
       "        });\n",
       "        require(['plotly'], function(Plotly) {\n",
       "            window._Plotly = Plotly;\n",
       "        });\n",
       "        }\n",
       "        </script>\n",
       "        "
      ]
     },
     "metadata": {},
     "output_type": "display_data"
    },
    {
     "data": {
      "text/html": [
       "        <script type=\"text/javascript\">\n",
       "        window.PlotlyConfig = {MathJaxConfig: 'local'};\n",
       "        if (window.MathJax) {MathJax.Hub.Config({SVG: {font: \"STIX-Web\"}});}\n",
       "        if (typeof require !== 'undefined') {\n",
       "        require.undef(\"plotly\");\n",
       "        requirejs.config({\n",
       "            paths: {\n",
       "                'plotly': ['https://cdn.plot.ly/plotly-2.6.3.min']\n",
       "            }\n",
       "        });\n",
       "        require(['plotly'], function(Plotly) {\n",
       "            window._Plotly = Plotly;\n",
       "        });\n",
       "        }\n",
       "        </script>\n",
       "        "
      ]
     },
     "metadata": {},
     "output_type": "display_data"
    }
   ],
   "source": [
    "import pandas as pd\n",
    "from IPython.display import display\n",
    "import os\n",
    "import seaborn as sns\n",
    "import matplotlib.pyplot as plt\n",
    "import numpy as np\n",
    "import warnings\n",
    "warnings.filterwarnings('ignore')\n",
    "\n",
    "#import plotly\n",
    "import chart_studio.plotly as py\n",
    "import cufflinks as cf\n",
    "from plotly.offline import download_plotlyjs, init_notebook_mode, plot, iplot\n",
    "%matplotlib inline\n",
    "init_notebook_mode(connected=True)\n",
    "cf.go_offline()\n",
    "import plotly.express as px\n",
    "import plotly.graph_objects as go\n",
    "from plotly.subplots import make_subplots\n",
    "\n",
    "import phik\n",
    "\n",
    "from sklearn.model_selection import train_test_split\n",
    "from sklearn.metrics import mean_squared_error, make_scorer\n",
    "\n",
    "# загружаем класс pipeline\n",
    "from sklearn.pipeline import Pipeline\n",
    "\n",
    "# загружаем классы для подготовки данных\n",
    "from sklearn.preprocessing import StandardScaler, MinMaxScaler\n",
    "from sklearn.compose import ColumnTransformer\n",
    "\n",
    "# загружаем класс для работы с пропусками\n",
    "from sklearn.impute import SimpleImputer\n",
    "\n",
    "# импортируем класс GridSearchCV\n",
    "from sklearn.model_selection import GridSearchCV\n",
    "\n",
    "# загружаем нужные модели\n",
    "from sklearn.linear_model import LinearRegression, Lasso, Ridge\n",
    "\n",
    "from scipy import stats as st"
   ]
  },
  {
   "cell_type": "markdown",
   "metadata": {},
   "source": [
    "**Считаем данные из csv-файла `/datasets/geo_data_0.csv` в датафрейм, сохраним в переменную и выведем несколько первых строк. Выведем общую информацию загруженного датафрейма.**"
   ]
  },
  {
   "cell_type": "code",
   "execution_count": 3,
   "metadata": {},
   "outputs": [
    {
     "data": {
      "text/html": [
       "<div>\n",
       "<style scoped>\n",
       "    .dataframe tbody tr th:only-of-type {\n",
       "        vertical-align: middle;\n",
       "    }\n",
       "\n",
       "    .dataframe tbody tr th {\n",
       "        vertical-align: top;\n",
       "    }\n",
       "\n",
       "    .dataframe thead th {\n",
       "        text-align: right;\n",
       "    }\n",
       "</style>\n",
       "<table border=\"1\" class=\"dataframe\">\n",
       "  <thead>\n",
       "    <tr style=\"text-align: right;\">\n",
       "      <th></th>\n",
       "      <th>id</th>\n",
       "      <th>f0</th>\n",
       "      <th>f1</th>\n",
       "      <th>f2</th>\n",
       "      <th>product</th>\n",
       "    </tr>\n",
       "  </thead>\n",
       "  <tbody>\n",
       "    <tr>\n",
       "      <th>0</th>\n",
       "      <td>txEyH</td>\n",
       "      <td>0.705745</td>\n",
       "      <td>-0.497823</td>\n",
       "      <td>1.221170</td>\n",
       "      <td>105.280062</td>\n",
       "    </tr>\n",
       "    <tr>\n",
       "      <th>1</th>\n",
       "      <td>2acmU</td>\n",
       "      <td>1.334711</td>\n",
       "      <td>-0.340164</td>\n",
       "      <td>4.365080</td>\n",
       "      <td>73.037750</td>\n",
       "    </tr>\n",
       "    <tr>\n",
       "      <th>2</th>\n",
       "      <td>409Wp</td>\n",
       "      <td>1.022732</td>\n",
       "      <td>0.151990</td>\n",
       "      <td>1.419926</td>\n",
       "      <td>85.265647</td>\n",
       "    </tr>\n",
       "    <tr>\n",
       "      <th>3</th>\n",
       "      <td>iJLyR</td>\n",
       "      <td>-0.032172</td>\n",
       "      <td>0.139033</td>\n",
       "      <td>2.978566</td>\n",
       "      <td>168.620776</td>\n",
       "    </tr>\n",
       "    <tr>\n",
       "      <th>4</th>\n",
       "      <td>Xdl7t</td>\n",
       "      <td>1.988431</td>\n",
       "      <td>0.155413</td>\n",
       "      <td>4.751769</td>\n",
       "      <td>154.036647</td>\n",
       "    </tr>\n",
       "    <tr>\n",
       "      <th>...</th>\n",
       "      <td>...</td>\n",
       "      <td>...</td>\n",
       "      <td>...</td>\n",
       "      <td>...</td>\n",
       "      <td>...</td>\n",
       "    </tr>\n",
       "    <tr>\n",
       "      <th>99995</th>\n",
       "      <td>DLsed</td>\n",
       "      <td>0.971957</td>\n",
       "      <td>0.370953</td>\n",
       "      <td>6.075346</td>\n",
       "      <td>110.744026</td>\n",
       "    </tr>\n",
       "    <tr>\n",
       "      <th>99996</th>\n",
       "      <td>QKivN</td>\n",
       "      <td>1.392429</td>\n",
       "      <td>-0.382606</td>\n",
       "      <td>1.273912</td>\n",
       "      <td>122.346843</td>\n",
       "    </tr>\n",
       "    <tr>\n",
       "      <th>99997</th>\n",
       "      <td>3rnvd</td>\n",
       "      <td>1.029585</td>\n",
       "      <td>0.018787</td>\n",
       "      <td>-1.348308</td>\n",
       "      <td>64.375443</td>\n",
       "    </tr>\n",
       "    <tr>\n",
       "      <th>99998</th>\n",
       "      <td>7kl59</td>\n",
       "      <td>0.998163</td>\n",
       "      <td>-0.528582</td>\n",
       "      <td>1.583869</td>\n",
       "      <td>74.040764</td>\n",
       "    </tr>\n",
       "    <tr>\n",
       "      <th>99999</th>\n",
       "      <td>1CWhH</td>\n",
       "      <td>1.764754</td>\n",
       "      <td>-0.266417</td>\n",
       "      <td>5.722849</td>\n",
       "      <td>149.633246</td>\n",
       "    </tr>\n",
       "  </tbody>\n",
       "</table>\n",
       "<p>100000 rows × 5 columns</p>\n",
       "</div>"
      ],
      "text/plain": [
       "          id        f0        f1        f2     product\n",
       "0      txEyH  0.705745 -0.497823  1.221170  105.280062\n",
       "1      2acmU  1.334711 -0.340164  4.365080   73.037750\n",
       "2      409Wp  1.022732  0.151990  1.419926   85.265647\n",
       "3      iJLyR -0.032172  0.139033  2.978566  168.620776\n",
       "4      Xdl7t  1.988431  0.155413  4.751769  154.036647\n",
       "...      ...       ...       ...       ...         ...\n",
       "99995  DLsed  0.971957  0.370953  6.075346  110.744026\n",
       "99996  QKivN  1.392429 -0.382606  1.273912  122.346843\n",
       "99997  3rnvd  1.029585  0.018787 -1.348308   64.375443\n",
       "99998  7kl59  0.998163 -0.528582  1.583869   74.040764\n",
       "99999  1CWhH  1.764754 -0.266417  5.722849  149.633246\n",
       "\n",
       "[100000 rows x 5 columns]"
      ]
     },
     "metadata": {},
     "output_type": "display_data"
    },
    {
     "name": "stdout",
     "output_type": "stream",
     "text": [
      "<class 'pandas.core.frame.DataFrame'>\n",
      "RangeIndex: 100000 entries, 0 to 99999\n",
      "Data columns (total 5 columns):\n",
      " #   Column   Non-Null Count   Dtype  \n",
      "---  ------   --------------   -----  \n",
      " 0   id       100000 non-null  object \n",
      " 1   f0       100000 non-null  float64\n",
      " 2   f1       100000 non-null  float64\n",
      " 3   f2       100000 non-null  float64\n",
      " 4   product  100000 non-null  float64\n",
      "dtypes: float64(4), object(1)\n",
      "memory usage: 3.8+ MB\n"
     ]
    }
   ],
   "source": [
    "pth = '/datasets/geo_data_0.csv'\n",
    "\n",
    "if os.path.exists(pth):\n",
    "    geo_data_0 = pd.read_csv(pth, sep=',')\n",
    "else:\n",
    "    print('Something is wrong')\n",
    "\n",
    "display(geo_data_0)\n",
    "geo_data_0.info()"
   ]
  },
  {
   "cell_type": "markdown",
   "metadata": {},
   "source": [
    "**Считаем данные из csv-файла `/datasets/geo_data_1.csv` в датафрейм, сохраним в переменную и выведем несколько первых строк. Выведем общую информацию загруженного датафрейма.**"
   ]
  },
  {
   "cell_type": "code",
   "execution_count": 4,
   "metadata": {},
   "outputs": [
    {
     "data": {
      "text/html": [
       "<div>\n",
       "<style scoped>\n",
       "    .dataframe tbody tr th:only-of-type {\n",
       "        vertical-align: middle;\n",
       "    }\n",
       "\n",
       "    .dataframe tbody tr th {\n",
       "        vertical-align: top;\n",
       "    }\n",
       "\n",
       "    .dataframe thead th {\n",
       "        text-align: right;\n",
       "    }\n",
       "</style>\n",
       "<table border=\"1\" class=\"dataframe\">\n",
       "  <thead>\n",
       "    <tr style=\"text-align: right;\">\n",
       "      <th></th>\n",
       "      <th>id</th>\n",
       "      <th>f0</th>\n",
       "      <th>f1</th>\n",
       "      <th>f2</th>\n",
       "      <th>product</th>\n",
       "    </tr>\n",
       "  </thead>\n",
       "  <tbody>\n",
       "    <tr>\n",
       "      <th>0</th>\n",
       "      <td>kBEdx</td>\n",
       "      <td>-15.001348</td>\n",
       "      <td>-8.276000</td>\n",
       "      <td>-0.005876</td>\n",
       "      <td>3.179103</td>\n",
       "    </tr>\n",
       "    <tr>\n",
       "      <th>1</th>\n",
       "      <td>62mP7</td>\n",
       "      <td>14.272088</td>\n",
       "      <td>-3.475083</td>\n",
       "      <td>0.999183</td>\n",
       "      <td>26.953261</td>\n",
       "    </tr>\n",
       "    <tr>\n",
       "      <th>2</th>\n",
       "      <td>vyE1P</td>\n",
       "      <td>6.263187</td>\n",
       "      <td>-5.948386</td>\n",
       "      <td>5.001160</td>\n",
       "      <td>134.766305</td>\n",
       "    </tr>\n",
       "    <tr>\n",
       "      <th>3</th>\n",
       "      <td>KcrkZ</td>\n",
       "      <td>-13.081196</td>\n",
       "      <td>-11.506057</td>\n",
       "      <td>4.999415</td>\n",
       "      <td>137.945408</td>\n",
       "    </tr>\n",
       "    <tr>\n",
       "      <th>4</th>\n",
       "      <td>AHL4O</td>\n",
       "      <td>12.702195</td>\n",
       "      <td>-8.147433</td>\n",
       "      <td>5.004363</td>\n",
       "      <td>134.766305</td>\n",
       "    </tr>\n",
       "    <tr>\n",
       "      <th>...</th>\n",
       "      <td>...</td>\n",
       "      <td>...</td>\n",
       "      <td>...</td>\n",
       "      <td>...</td>\n",
       "      <td>...</td>\n",
       "    </tr>\n",
       "    <tr>\n",
       "      <th>99995</th>\n",
       "      <td>QywKC</td>\n",
       "      <td>9.535637</td>\n",
       "      <td>-6.878139</td>\n",
       "      <td>1.998296</td>\n",
       "      <td>53.906522</td>\n",
       "    </tr>\n",
       "    <tr>\n",
       "      <th>99996</th>\n",
       "      <td>ptvty</td>\n",
       "      <td>-10.160631</td>\n",
       "      <td>-12.558096</td>\n",
       "      <td>5.005581</td>\n",
       "      <td>137.945408</td>\n",
       "    </tr>\n",
       "    <tr>\n",
       "      <th>99997</th>\n",
       "      <td>09gWa</td>\n",
       "      <td>-7.378891</td>\n",
       "      <td>-3.084104</td>\n",
       "      <td>4.998651</td>\n",
       "      <td>137.945408</td>\n",
       "    </tr>\n",
       "    <tr>\n",
       "      <th>99998</th>\n",
       "      <td>rqwUm</td>\n",
       "      <td>0.665714</td>\n",
       "      <td>-6.152593</td>\n",
       "      <td>1.000146</td>\n",
       "      <td>30.132364</td>\n",
       "    </tr>\n",
       "    <tr>\n",
       "      <th>99999</th>\n",
       "      <td>relB0</td>\n",
       "      <td>-3.426139</td>\n",
       "      <td>-7.794274</td>\n",
       "      <td>-0.003299</td>\n",
       "      <td>3.179103</td>\n",
       "    </tr>\n",
       "  </tbody>\n",
       "</table>\n",
       "<p>100000 rows × 5 columns</p>\n",
       "</div>"
      ],
      "text/plain": [
       "          id         f0         f1        f2     product\n",
       "0      kBEdx -15.001348  -8.276000 -0.005876    3.179103\n",
       "1      62mP7  14.272088  -3.475083  0.999183   26.953261\n",
       "2      vyE1P   6.263187  -5.948386  5.001160  134.766305\n",
       "3      KcrkZ -13.081196 -11.506057  4.999415  137.945408\n",
       "4      AHL4O  12.702195  -8.147433  5.004363  134.766305\n",
       "...      ...        ...        ...       ...         ...\n",
       "99995  QywKC   9.535637  -6.878139  1.998296   53.906522\n",
       "99996  ptvty -10.160631 -12.558096  5.005581  137.945408\n",
       "99997  09gWa  -7.378891  -3.084104  4.998651  137.945408\n",
       "99998  rqwUm   0.665714  -6.152593  1.000146   30.132364\n",
       "99999  relB0  -3.426139  -7.794274 -0.003299    3.179103\n",
       "\n",
       "[100000 rows x 5 columns]"
      ]
     },
     "metadata": {},
     "output_type": "display_data"
    },
    {
     "name": "stdout",
     "output_type": "stream",
     "text": [
      "<class 'pandas.core.frame.DataFrame'>\n",
      "RangeIndex: 100000 entries, 0 to 99999\n",
      "Data columns (total 5 columns):\n",
      " #   Column   Non-Null Count   Dtype  \n",
      "---  ------   --------------   -----  \n",
      " 0   id       100000 non-null  object \n",
      " 1   f0       100000 non-null  float64\n",
      " 2   f1       100000 non-null  float64\n",
      " 3   f2       100000 non-null  float64\n",
      " 4   product  100000 non-null  float64\n",
      "dtypes: float64(4), object(1)\n",
      "memory usage: 3.8+ MB\n"
     ]
    }
   ],
   "source": [
    "pth = '/datasets/geo_data_1.csv'\n",
    "\n",
    "if os.path.exists(pth):\n",
    "    geo_data_1 = pd.read_csv(pth, sep=',')\n",
    "else:\n",
    "    print('Something is wrong')\n",
    "\n",
    "display(geo_data_1)\n",
    "geo_data_1.info()"
   ]
  },
  {
   "cell_type": "markdown",
   "metadata": {},
   "source": [
    "**Считаем данные из csv-файла `/datasets/geo_data_2.csv` в датафрейм, сохраним в переменную и выведем несколько первых строк. Выведем общую информацию загруженного датафрейма.**"
   ]
  },
  {
   "cell_type": "code",
   "execution_count": 5,
   "metadata": {},
   "outputs": [
    {
     "data": {
      "text/html": [
       "<div>\n",
       "<style scoped>\n",
       "    .dataframe tbody tr th:only-of-type {\n",
       "        vertical-align: middle;\n",
       "    }\n",
       "\n",
       "    .dataframe tbody tr th {\n",
       "        vertical-align: top;\n",
       "    }\n",
       "\n",
       "    .dataframe thead th {\n",
       "        text-align: right;\n",
       "    }\n",
       "</style>\n",
       "<table border=\"1\" class=\"dataframe\">\n",
       "  <thead>\n",
       "    <tr style=\"text-align: right;\">\n",
       "      <th></th>\n",
       "      <th>id</th>\n",
       "      <th>f0</th>\n",
       "      <th>f1</th>\n",
       "      <th>f2</th>\n",
       "      <th>product</th>\n",
       "    </tr>\n",
       "  </thead>\n",
       "  <tbody>\n",
       "    <tr>\n",
       "      <th>0</th>\n",
       "      <td>fwXo0</td>\n",
       "      <td>-1.146987</td>\n",
       "      <td>0.963328</td>\n",
       "      <td>-0.828965</td>\n",
       "      <td>27.758673</td>\n",
       "    </tr>\n",
       "    <tr>\n",
       "      <th>1</th>\n",
       "      <td>WJtFt</td>\n",
       "      <td>0.262778</td>\n",
       "      <td>0.269839</td>\n",
       "      <td>-2.530187</td>\n",
       "      <td>56.069697</td>\n",
       "    </tr>\n",
       "    <tr>\n",
       "      <th>2</th>\n",
       "      <td>ovLUW</td>\n",
       "      <td>0.194587</td>\n",
       "      <td>0.289035</td>\n",
       "      <td>-5.586433</td>\n",
       "      <td>62.871910</td>\n",
       "    </tr>\n",
       "    <tr>\n",
       "      <th>3</th>\n",
       "      <td>q6cA6</td>\n",
       "      <td>2.236060</td>\n",
       "      <td>-0.553760</td>\n",
       "      <td>0.930038</td>\n",
       "      <td>114.572842</td>\n",
       "    </tr>\n",
       "    <tr>\n",
       "      <th>4</th>\n",
       "      <td>WPMUX</td>\n",
       "      <td>-0.515993</td>\n",
       "      <td>1.716266</td>\n",
       "      <td>5.899011</td>\n",
       "      <td>149.600746</td>\n",
       "    </tr>\n",
       "    <tr>\n",
       "      <th>...</th>\n",
       "      <td>...</td>\n",
       "      <td>...</td>\n",
       "      <td>...</td>\n",
       "      <td>...</td>\n",
       "      <td>...</td>\n",
       "    </tr>\n",
       "    <tr>\n",
       "      <th>99995</th>\n",
       "      <td>4GxBu</td>\n",
       "      <td>-1.777037</td>\n",
       "      <td>1.125220</td>\n",
       "      <td>6.263374</td>\n",
       "      <td>172.327046</td>\n",
       "    </tr>\n",
       "    <tr>\n",
       "      <th>99996</th>\n",
       "      <td>YKFjq</td>\n",
       "      <td>-1.261523</td>\n",
       "      <td>-0.894828</td>\n",
       "      <td>2.524545</td>\n",
       "      <td>138.748846</td>\n",
       "    </tr>\n",
       "    <tr>\n",
       "      <th>99997</th>\n",
       "      <td>tKPY3</td>\n",
       "      <td>-1.199934</td>\n",
       "      <td>-2.957637</td>\n",
       "      <td>5.219411</td>\n",
       "      <td>157.080080</td>\n",
       "    </tr>\n",
       "    <tr>\n",
       "      <th>99998</th>\n",
       "      <td>nmxp2</td>\n",
       "      <td>-2.419896</td>\n",
       "      <td>2.417221</td>\n",
       "      <td>-5.548444</td>\n",
       "      <td>51.795253</td>\n",
       "    </tr>\n",
       "    <tr>\n",
       "      <th>99999</th>\n",
       "      <td>V9kWn</td>\n",
       "      <td>-2.551421</td>\n",
       "      <td>-2.025625</td>\n",
       "      <td>6.090891</td>\n",
       "      <td>102.775767</td>\n",
       "    </tr>\n",
       "  </tbody>\n",
       "</table>\n",
       "<p>100000 rows × 5 columns</p>\n",
       "</div>"
      ],
      "text/plain": [
       "          id        f0        f1        f2     product\n",
       "0      fwXo0 -1.146987  0.963328 -0.828965   27.758673\n",
       "1      WJtFt  0.262778  0.269839 -2.530187   56.069697\n",
       "2      ovLUW  0.194587  0.289035 -5.586433   62.871910\n",
       "3      q6cA6  2.236060 -0.553760  0.930038  114.572842\n",
       "4      WPMUX -0.515993  1.716266  5.899011  149.600746\n",
       "...      ...       ...       ...       ...         ...\n",
       "99995  4GxBu -1.777037  1.125220  6.263374  172.327046\n",
       "99996  YKFjq -1.261523 -0.894828  2.524545  138.748846\n",
       "99997  tKPY3 -1.199934 -2.957637  5.219411  157.080080\n",
       "99998  nmxp2 -2.419896  2.417221 -5.548444   51.795253\n",
       "99999  V9kWn -2.551421 -2.025625  6.090891  102.775767\n",
       "\n",
       "[100000 rows x 5 columns]"
      ]
     },
     "metadata": {},
     "output_type": "display_data"
    },
    {
     "name": "stdout",
     "output_type": "stream",
     "text": [
      "<class 'pandas.core.frame.DataFrame'>\n",
      "RangeIndex: 100000 entries, 0 to 99999\n",
      "Data columns (total 5 columns):\n",
      " #   Column   Non-Null Count   Dtype  \n",
      "---  ------   --------------   -----  \n",
      " 0   id       100000 non-null  object \n",
      " 1   f0       100000 non-null  float64\n",
      " 2   f1       100000 non-null  float64\n",
      " 3   f2       100000 non-null  float64\n",
      " 4   product  100000 non-null  float64\n",
      "dtypes: float64(4), object(1)\n",
      "memory usage: 3.8+ MB\n"
     ]
    }
   ],
   "source": [
    "pth = '/datasets/geo_data_2.csv'\n",
    "\n",
    "if os.path.exists(pth):\n",
    "    geo_data_2 = pd.read_csv(pth, sep=',')\n",
    "else:\n",
    "    print('Something is wrong')\n",
    "\n",
    "display(geo_data_2)\n",
    "geo_data_2.info()"
   ]
  },
  {
   "cell_type": "markdown",
   "metadata": {},
   "source": [
    "**Проверим данные на наличие дубликатов.**"
   ]
  },
  {
   "cell_type": "code",
   "execution_count": 6,
   "metadata": {},
   "outputs": [
    {
     "name": "stdout",
     "output_type": "stream",
     "text": [
      "Количество явных дублей geo0:  10\n",
      "Количество явных дублей geo1:  4\n",
      "Количество явных дублей geo2:  4\n"
     ]
    }
   ],
   "source": [
    "print('Количество явных дублей geo0: ', geo_data_0.duplicated(subset='id').sum())\n",
    "print('Количество явных дублей geo1: ', geo_data_1.duplicated(subset='id').sum())\n",
    "print('Количество явных дублей geo2: ', geo_data_2.duplicated(subset='id').sum())"
   ]
  },
  {
   "cell_type": "code",
   "execution_count": 7,
   "metadata": {},
   "outputs": [
    {
     "name": "stdout",
     "output_type": "stream",
     "text": [
      "Количество явных дублей geo0:  0\n",
      "Количество явных дублей geo1:  0\n",
      "Количество явных дублей geo2:  0\n"
     ]
    }
   ],
   "source": [
    "geo_data_0.drop_duplicates(subset='id', inplace=True, ignore_index=True)\n",
    "geo_data_1.drop_duplicates(subset='id', inplace=True, ignore_index=True)\n",
    "geo_data_2.drop_duplicates(subset='id', inplace=True, ignore_index=True)\n",
    "print('Количество явных дублей geo0: ', geo_data_0.duplicated(subset='id').sum())\n",
    "print('Количество явных дублей geo1: ', geo_data_1.duplicated(subset='id').sum())\n",
    "print('Количество явных дублей geo2: ', geo_data_2.duplicated(subset='id').sum())"
   ]
  },
  {
   "cell_type": "markdown",
   "metadata": {},
   "source": [
    "**Проверим данные на наличие выбросов.**"
   ]
  },
  {
   "cell_type": "code",
   "execution_count": 8,
   "metadata": {
    "scrolled": false
   },
   "outputs": [],
   "source": [
    "def show_violinplot(df):\n",
    "    for column in df.select_dtypes(include='number').columns.to_list():\n",
    "        fig = px.violin(df, y=column, box=True)\n",
    "        fig.update_layout(title_text=f'Распределение данных в колонке {column}')\n",
    "        fig.show()\n",
    "        print(df[column].describe())       \n",
    "\n",
    "show_violinplot(pd.concat([geo_data_0, geo_data_1, geo_data_2])) "
   ]
  },
  {
   "cell_type": "markdown",
   "metadata": {},
   "source": [
    "**Изучим взаимосвязь между признаками. Построим тепловые карты.**"
   ]
  },
  {
   "cell_type": "code",
   "execution_count": 9,
   "metadata": {},
   "outputs": [
    {
     "data": {
      "image/png": "[encoded data removed]",
      "text/plain": [
       "<Figure size 864x576 with 2 Axes>"
      ]
     },
     "metadata": {
      "needs_background": "light"
     },
     "output_type": "display_data"
    },
    {
     "data": {
      "image/png": "[encoded data removed]",
      "text/plain": [
       "<Figure size 864x576 with 2 Axes>"
      ]
     },
     "metadata": {
      "needs_background": "light"
     },
     "output_type": "display_data"
    },
    {
     "data": {
      "image/png": "[encoded data removed]",
      "text/plain": [
       "<Figure size 864x576 with 2 Axes>"
      ]
     },
     "metadata": {
      "needs_background": "light"
     },
     "output_type": "display_data"
    }
   ],
   "source": [
    "interval_cols = ['f0', 'f1', 'f2', 'product']\n",
    "\n",
    "# Вычисление матрицы корреляции с использованием phik\n",
    "corr_matrix = geo_data_0.drop(columns=['id']).phik_matrix(interval_cols=interval_cols)\n",
    "\n",
    "# Визуализация матрицы корреляции\n",
    "plt.figure(figsize=(12, 8))\n",
    "sns.heatmap(corr_matrix, annot=True, cmap='coolwarm')\n",
    "plt.title('Phi_K Correlation Matrix')\n",
    "plt.show()\n",
    "\n",
    "corr_matrix = geo_data_1.drop(columns=['id']).phik_matrix(interval_cols=interval_cols)\n",
    "\n",
    "# Визуализация матрицы корреляции\n",
    "plt.figure(figsize=(12, 8))\n",
    "sns.heatmap(corr_matrix, annot=True, cmap='coolwarm')\n",
    "plt.title('Phi_K Correlation Matrix')\n",
    "plt.show()\n",
    "\n",
    "corr_matrix = geo_data_2.drop(columns=['id']).phik_matrix(interval_cols=interval_cols)\n",
    "\n",
    "# Визуализация матрицы корреляции\n",
    "plt.figure(figsize=(12, 8))\n",
    "sns.heatmap(corr_matrix, annot=True, cmap='coolwarm')\n",
    "plt.title('Phi_K Correlation Matrix')\n",
    "plt.show()"
   ]
  },
  {
   "cell_type": "markdown",
   "metadata": {},
   "source": [
    "Выбросы и артефакты в данных отсутствуют. Так как планируется использование линейной модели, делать проверку на корреляцию признаков не будем.\n",
    "\n",
    "У второго датасета присутствует корреляция с целевым признаком с коэффициентом 1.\n",
    "\n",
    "Приступим к обучению моделей."
   ]
  },
  {
   "cell_type": "markdown",
   "metadata": {},
   "source": [
    "## Обучение и проверка модели"
   ]
  },
  {
   "cell_type": "markdown",
   "metadata": {},
   "source": [
    "**Создадим и построим пайплайн. Разместим необходимую обработку внутри пайплайна.**"
   ]
  },
  {
   "cell_type": "code",
   "execution_count": 10,
   "metadata": {},
   "outputs": [],
   "source": [
    "RANDOM_STATE = 42\n",
    "TEST_SIZE = 0.25\n",
    "\n",
    "X_train_g0, X_valid_g0 , y_train_g0, y_valid_g0 = train_test_split(\n",
    "    geo_data_0.drop(['product', 'id'], axis=1),\n",
    "    geo_data_0['product'],\n",
    "    test_size = TEST_SIZE, \n",
    "    random_state = RANDOM_STATE)\n",
    "\n",
    "num_columns = ['f0', 'f1', 'f2']\n",
    "\n",
    "si_pipe = Pipeline(\n",
    "    [('simpleImputer', SimpleImputer(missing_values=np.nan, strategy='median'))]\n",
    ")\n",
    "\n",
    "data_preprocessor = ColumnTransformer(\n",
    "    [    \n",
    "     ('s_input', si_pipe, num_columns),\n",
    "     ('num', MinMaxScaler(), num_columns)\n",
    "    ], \n",
    "    remainder='passthrough'\n",
    ")\n",
    "\n",
    "pipe_final = Pipeline([\n",
    "    ('preprocessor', data_preprocessor),\n",
    "    ('models', LinearRegression())\n",
    "])\n",
    "\n",
    "param_grid = [\n",
    "    {\n",
    "        'models': [LinearRegression()],\n",
    "        'preprocessor__num': [StandardScaler(), MinMaxScaler()]\n",
    "    },\n",
    "    {\n",
    "        'models': [Ridge()],\n",
    "        'models__alpha': [0, 10, 1],\n",
    "        'preprocessor__num': [StandardScaler(), MinMaxScaler()]\n",
    "    },\n",
    "    {\n",
    "        'models': [Lasso()],\n",
    "        'models__alpha': [0, 10, 1],\n",
    "        'preprocessor__num': [StandardScaler(), MinMaxScaler()]\n",
    "    }\n",
    "]"
   ]
  },
  {
   "cell_type": "markdown",
   "metadata": {},
   "source": [
    "**Обучим модели. На каждый регион будет отдельная. С помощью пайплайна найдем лучшую модель. В качестве метрики используем оценку качества RMSE.**"
   ]
  },
  {
   "cell_type": "code",
   "execution_count": 11,
   "metadata": {},
   "outputs": [
    {
     "name": "stdout",
     "output_type": "stream",
     "text": [
      "Лучшая модель для g0 и её параметры:\n",
      "\n",
      " Pipeline(steps=[('preprocessor',\n",
      "                 ColumnTransformer(remainder='passthrough',\n",
      "                                   transformers=[('s_input',\n",
      "                                                  Pipeline(steps=[('simpleImputer',\n",
      "                                                                   SimpleImputer(strategy='median'))]),\n",
      "                                                  ['f0', 'f1', 'f2']),\n",
      "                                                 ('num', MinMaxScaler(),\n",
      "                                                  ['f0', 'f1', 'f2'])])),\n",
      "                ('models', Ridge(alpha=10))])\n",
      "Метрика RMSE g0 на валидационной выборке: 37.685088864676324\n",
      "Средний запас g0 предсказанного сырья: 92.6098140987406\n",
      "Лучшая модель для g1 и её параметры:\n",
      "\n",
      " Pipeline(steps=[('preprocessor',\n",
      "                 ColumnTransformer(remainder='passthrough',\n",
      "                                   transformers=[('s_input',\n",
      "                                                  Pipeline(steps=[('simpleImputer',\n",
      "                                                                   SimpleImputer(strategy='median'))]),\n",
      "                                                  ['f0', 'f1', 'f2']),\n",
      "                                                 ('num', StandardScaler(),\n",
      "                                                  ['f0', 'f1', 'f2'])])),\n",
      "                ('models', Lasso(alpha=0))])\n",
      "Метрика RMSE g1 на валидационной выборке: 0.8928265978121549\n",
      "Средний запас g1 предсказанного сырья: 68.57703454115176\n",
      "Лучшая модель для g2 и её параметры:\n",
      "\n",
      " Pipeline(steps=[('preprocessor',\n",
      "                 ColumnTransformer(remainder='passthrough',\n",
      "                                   transformers=[('s_input',\n",
      "                                                  Pipeline(steps=[('simpleImputer',\n",
      "                                                                   SimpleImputer(strategy='median'))]),\n",
      "                                                  ['f0', 'f1', 'f2']),\n",
      "                                                 ('num', MinMaxScaler(),\n",
      "                                                  ['f0', 'f1', 'f2'])])),\n",
      "                ('models', Ridge(alpha=10))])\n",
      "Метрика RMSE g2 на валидационной выборке: 40.08082158990819\n",
      "Средний запас g2 предсказанного сырья: 94.93478701553947\n"
     ]
    }
   ],
   "source": [
    "scorer = make_scorer(mean_squared_error, squared=False, greater_is_better=False)\n",
    "\n",
    "grid_search_geo0 = GridSearchCV(\n",
    "    pipe_final, \n",
    "    param_grid, \n",
    "    cv=5,\n",
    "    scoring=scorer, \n",
    "    n_jobs=-1\n",
    ")\n",
    "\n",
    "grid_search_geo0.fit(X_train_g0, y_train_g0)\n",
    "\n",
    "y_preds_geo0 = grid_search_geo0.predict(X_valid_g0)\n",
    "\n",
    "print('Лучшая модель для g0 и её параметры:\\n\\n', grid_search_geo0.best_estimator_)\n",
    "print('Метрика RMSE g0 на валидационной выборке:', mean_squared_error(y_valid_g0, y_preds_geo0, squared=False))\n",
    "print('Средний запас g0 предсказанного сырья:', y_preds_geo0.mean())\n",
    "\n",
    "X_train_g1, X_valid_g1 , y_train_g1, y_valid_g1 = train_test_split(\n",
    "    geo_data_1.drop(['product', 'id'], axis=1),\n",
    "    geo_data_1['product'],\n",
    "    test_size = TEST_SIZE, \n",
    "    random_state = RANDOM_STATE)\n",
    "\n",
    "grid_search_geo1 = GridSearchCV(\n",
    "    pipe_final, \n",
    "    param_grid, \n",
    "    cv=5,\n",
    "    scoring=scorer, \n",
    "    n_jobs=-1\n",
    ")\n",
    "\n",
    "grid_search_geo1.fit(X_train_g1, y_train_g1)\n",
    "\n",
    "y_preds_geo1 = grid_search_geo1.predict(X_valid_g1)\n",
    "\n",
    "print('Лучшая модель для g1 и её параметры:\\n\\n', grid_search_geo1.best_estimator_)\n",
    "print('Метрика RMSE g1 на валидационной выборке:', mean_squared_error(y_valid_g1, y_preds_geo1, squared=False))\n",
    "print('Средний запас g1 предсказанного сырья:', y_preds_geo1.mean())\n",
    "\n",
    "X_train_g2, X_valid_g2 , y_train_g2, y_valid_g2 = train_test_split(\n",
    "    geo_data_2.drop(['product', 'id'], axis=1),\n",
    "    geo_data_2['product'],\n",
    "    test_size = TEST_SIZE, \n",
    "    random_state = RANDOM_STATE)\n",
    "\n",
    "grid_search_geo2 = GridSearchCV(\n",
    "    pipe_final, \n",
    "    param_grid, \n",
    "    cv=5,\n",
    "    scoring=scorer, \n",
    "    n_jobs=-1\n",
    ")\n",
    "\n",
    "grid_search_geo2.fit(X_train_g2, y_train_g2)\n",
    "\n",
    "y_preds_geo2 = grid_search_geo2.predict(X_valid_g2)\n",
    "\n",
    "print('Лучшая модель для g2 и её параметры:\\n\\n', grid_search_geo2.best_estimator_)\n",
    "print('Метрика RMSE g2 на валидационной выборке:', mean_squared_error(y_valid_g2, y_preds_geo2, squared=False))\n",
    "print('Средний запас g2 предсказанного сырья:', y_preds_geo2.mean())"
   ]
  },
  {
   "cell_type": "markdown",
   "metadata": {},
   "source": [
    "Согласно результатам, 1я и 3я геолокации имеют наибольший запас нефтепродуктов: 92.6 и 94.56 соответственно. А вот 2я скважина имеет наименьший объем - 68.61. Значит ее будем бурить в последнюю очередь."
   ]
  },
  {
   "cell_type": "markdown",
   "metadata": {},
   "source": [
    "## Подготовка к расчёту прибыли"
   ]
  },
  {
   "cell_type": "markdown",
   "metadata": {},
   "source": [
    "**Сохраним данные для расчетов в отдельные переменные.**"
   ]
  },
  {
   "cell_type": "code",
   "execution_count": 12,
   "metadata": {},
   "outputs": [],
   "source": [
    "# Количество скважин для бурения\n",
    "n = 200\n",
    "# Бюджет на разработку скважин 10 млрд. рублей\n",
    "budget = 10000000000\n",
    "# Доход на единицу нефтепродукта\n",
    "revenue = 450000"
   ]
  },
  {
   "cell_type": "markdown",
   "metadata": {},
   "source": [
    "**Расчитаем точку безубыточности.**"
   ]
  },
  {
   "cell_type": "code",
   "execution_count": 13,
   "metadata": {},
   "outputs": [
    {
     "name": "stdout",
     "output_type": "stream",
     "text": [
      "Точка безубыточности:  111.11111111111111\n"
     ]
    }
   ],
   "source": [
    "#Себестоимость бурения одной скважины\n",
    "oil_borehole_cost = budget/n\n",
    "#Точка безубыточности\n",
    "breakeven_point = oil_borehole_cost/revenue\n",
    "print('Точка безубыточности: ', breakeven_point)"
   ]
  },
  {
   "cell_type": "markdown",
   "metadata": {},
   "source": [
    "Если каждая скважина даст не менее 111.11 тыс. баррелей нефтепродуктов, то мы достигнем точки безубыточности. Это означает, что нельзя производить бурение на указанных месторождениях выше. С первым и третьим месторождениями, у которых средний запас составляет около 92 тысяч баррелей и более, будет проще определиться, чем с вторым, где запас почти 69 тысяч баррелей."
   ]
  },
  {
   "cell_type": "markdown",
   "metadata": {},
   "source": [
    "## Расчёт прибыли и рисков "
   ]
  },
  {
   "cell_type": "markdown",
   "metadata": {},
   "source": [
    "**Учитывая, что производить бурение планируется только в одном регионе, для расчета прибыли мы просуммируем топ-200 скважин с наибольшим объемом нефтепродуктов, затем вычтем бюджет на разработку, чтобы оценить прибыльность каждого региона.**"
   ]
  },
  {
   "cell_type": "code",
   "execution_count": 14,
   "metadata": {},
   "outputs": [
    {
     "name": "stdout",
     "output_type": "stream",
     "text": [
      "Прибыль 1й геолокации составляет:  3468529787.422388\n",
      "Прибыль 2й геолокации составляет:  2415086696.681511\n",
      "Прибыль 3й геолокации составляет:  2396613000.939848\n"
     ]
    }
   ],
   "source": [
    "def profit(probabilities, target):\n",
    "    probs_sorted = probabilities.sort_values(ascending=False)\n",
    "    targets = target.iloc[probs_sorted.index][:200]\n",
    "    revenue_borehole = targets.sum() * revenue - budget\n",
    "    return revenue_borehole\n",
    "\n",
    "preds_g0 = pd.Series(y_preds_geo0)\n",
    "preds_g1 = pd.Series(y_preds_geo1)\n",
    "preds_g2 = pd.Series(y_preds_geo2)\n",
    "print('Прибыль 1й геолокации составляет: ', profit(preds_g0, y_valid_g0))\n",
    "print('Прибыль 2й геолокации составляет: ', profit(preds_g1, y_valid_g1))\n",
    "print('Прибыль 3й геолокации составляет: ', profit(preds_g2, y_valid_g2))"
   ]
  },
  {
   "cell_type": "markdown",
   "metadata": {},
   "source": [
    "Выгоднее всего проводить бурение скважин на 1й геолокации: потенциальная прибыль составит 3468529787 рублей."
   ]
  },
  {
   "cell_type": "code",
   "execution_count": 15,
   "metadata": {},
   "outputs": [
    {
     "name": "stdout",
     "output_type": "stream",
     "text": [
      "Данные первой геолокации: \n",
      "\n",
      "Доверительный интервал:  (-111412389.7383998, 946225565.1552627)\n",
      "Среднее значение:  417406587.7084314\n",
      "Риск убытков:  0.059\n",
      "Данные второй геолокации: \n",
      "\n",
      "Доверительный интервал:  (35075088.90902001, 835804250.0119643)\n",
      "Среднее значение:  435439669.4604922\n",
      "Риск убытков:  0.019\n",
      "Данные третьей геолокации: \n",
      "\n",
      "Доверительный интервал:  (-188081848.84848356, 899831203.0877123)\n",
      "Среднее значение:  355874677.11961436\n",
      "Риск убытков:  0.098\n"
     ]
    }
   ],
   "source": [
    "bootstrap = 1000\n",
    "\n",
    "state = np.random.RandomState(12345)\n",
    "\n",
    "def risk_calc(predictions, target, count):\n",
    "    values = []\n",
    "    for i in range(bootstrap):\n",
    "        data_sample = pd.Series(predictions).sample(500, replace = True, random_state=state)\n",
    "        values.append(profit(data_sample, target))\n",
    "    \n",
    "    values = pd.Series(values)\n",
    "   \n",
    "    shape_risk = (values < 0).mean()\n",
    "    \n",
    "    interval = st.t.interval(alpha = 0.95,\n",
    "                            df = len(values) - 1,\n",
    "                            loc = values.mean(),\n",
    "                            scale = values.std())\n",
    "        \n",
    "    print(f'Данные {count} геолокации: \\n')\n",
    "    print('Доверительный интервал: ', interval)    \n",
    "    print('Среднее значение: ', values.mean())    \n",
    "    print('Риск убытков: ', shape_risk)\n",
    "\n",
    "risk_calc(preds_g0, y_valid_g0, 'первой')\n",
    "risk_calc(preds_g1, y_valid_g1, 'второй')\n",
    "risk_calc(preds_g2, y_valid_g2, 'третьей')"
   ]
  },
  {
   "cell_type": "markdown",
   "metadata": {},
   "source": [
    "Если говорить о выборе местоположения для бурения нефтяных скважин, следует учесть несколько факторов.\n",
    "\n",
    "- Надежность: Вторая геолокация считается наиболее надежной. Это может означать, что в этой области присутствуют стабильные геологические формации или другие факторы, делающие ее менее подверженной рискам, таким как обрушения скважин или технические проблемы.\n",
    "- Прибыльность: Первая геолокация является самой прибыльной. Это может указывать на наличие высокоэффективных нефтяных месторождений или более высоких уровней добычи в этой области.\n",
    "- Низкая производительность: Третья геолокация имеет наименьшую производительность. Возможно, здесь наблюдаются низкие запасы нефти, проблемы с извлечением или другие факторы, снижающие коммерческую привлекательность этой области."
   ]
  }
 ],
 "metadata": {
  "ExecuteTimeLog": [
   {
    "duration": 164,
    "start_time": "2024-04-27T08:36:58.538Z"
   },
   {
    "duration": 13588,
    "start_time": "2024-04-27T08:39:21.921Z"
   },
   {
    "duration": 1997,
    "start_time": "2024-04-27T08:39:35.512Z"
   },
   {
    "duration": 173,
    "start_time": "2024-04-27T08:39:37.510Z"
   },
   {
    "duration": 148,
    "start_time": "2024-04-27T08:39:37.685Z"
   },
   {
    "duration": 153,
    "start_time": "2024-04-27T08:39:37.834Z"
   },
   {
    "duration": 95,
    "start_time": "2024-04-27T08:39:37.989Z"
   },
   {
    "duration": 0,
    "start_time": "2024-04-27T08:39:38.085Z"
   },
   {
    "duration": 53,
    "start_time": "2024-04-27T08:41:17.850Z"
   },
   {
    "duration": 116,
    "start_time": "2024-04-27T08:41:19.990Z"
   },
   {
    "duration": 11775,
    "start_time": "2024-04-27T08:42:09.550Z"
   },
   {
    "duration": 144,
    "start_time": "2024-04-27T10:02:14.080Z"
   },
   {
    "duration": 145,
    "start_time": "2024-04-27T10:16:20.453Z"
   },
   {
    "duration": 160,
    "start_time": "2024-04-27T10:18:12.007Z"
   },
   {
    "duration": 35,
    "start_time": "2024-04-27T10:34:40.145Z"
   },
   {
    "duration": 70,
    "start_time": "2024-04-27T10:38:30.680Z"
   },
   {
    "duration": 13898,
    "start_time": "2024-04-27T10:39:52.639Z"
   },
   {
    "duration": 15,
    "start_time": "2024-04-27T10:59:49.754Z"
   },
   {
    "duration": 13777,
    "start_time": "2024-04-27T11:00:24.182Z"
   },
   {
    "duration": 2080,
    "start_time": "2024-04-27T11:00:37.961Z"
   },
   {
    "duration": 190,
    "start_time": "2024-04-27T11:00:40.042Z"
   },
   {
    "duration": 160,
    "start_time": "2024-04-27T11:00:40.234Z"
   },
   {
    "duration": 177,
    "start_time": "2024-04-27T11:00:40.397Z"
   },
   {
    "duration": 57,
    "start_time": "2024-04-27T11:00:40.576Z"
   },
   {
    "duration": 145,
    "start_time": "2024-04-27T11:00:40.634Z"
   },
   {
    "duration": 11316,
    "start_time": "2024-04-27T11:00:40.781Z"
   },
   {
    "duration": 484,
    "start_time": "2024-04-27T11:00:52.098Z"
   },
   {
    "duration": 0,
    "start_time": "2024-04-27T11:00:52.584Z"
   },
   {
    "duration": 14,
    "start_time": "2024-04-27T11:02:12.989Z"
   },
   {
    "duration": 13449,
    "start_time": "2024-04-27T11:02:58.149Z"
   },
   {
    "duration": 1960,
    "start_time": "2024-04-27T11:03:11.600Z"
   },
   {
    "duration": 174,
    "start_time": "2024-04-27T11:03:13.562Z"
   },
   {
    "duration": 179,
    "start_time": "2024-04-27T11:03:13.738Z"
   },
   {
    "duration": 169,
    "start_time": "2024-04-27T11:03:13.920Z"
   },
   {
    "duration": 72,
    "start_time": "2024-04-27T11:03:14.091Z"
   },
   {
    "duration": 138,
    "start_time": "2024-04-27T11:03:14.169Z"
   },
   {
    "duration": 10875,
    "start_time": "2024-04-27T11:03:14.309Z"
   },
   {
    "duration": 20,
    "start_time": "2024-04-27T11:03:25.186Z"
   },
   {
    "duration": 79063,
    "start_time": "2024-04-27T11:03:25.208Z"
   },
   {
    "duration": 16,
    "start_time": "2024-04-27T11:14:21.956Z"
   },
   {
    "duration": 14194,
    "start_time": "2024-04-27T11:16:56.261Z"
   },
   {
    "duration": 2138,
    "start_time": "2024-04-27T11:17:10.458Z"
   },
   {
    "duration": 174,
    "start_time": "2024-04-27T11:17:12.598Z"
   },
   {
    "duration": 151,
    "start_time": "2024-04-27T11:17:12.774Z"
   },
   {
    "duration": 152,
    "start_time": "2024-04-27T11:17:12.927Z"
   },
   {
    "duration": 53,
    "start_time": "2024-04-27T11:17:13.081Z"
   },
   {
    "duration": 146,
    "start_time": "2024-04-27T11:17:13.135Z"
   },
   {
    "duration": 10645,
    "start_time": "2024-04-27T11:17:13.283Z"
   },
   {
    "duration": 49,
    "start_time": "2024-04-27T11:17:23.930Z"
   },
   {
    "duration": 31263,
    "start_time": "2024-04-27T11:17:23.981Z"
   },
   {
    "duration": 13182,
    "start_time": "2024-04-27T11:18:45.032Z"
   },
   {
    "duration": 2064,
    "start_time": "2024-04-27T11:18:58.216Z"
   },
   {
    "duration": 194,
    "start_time": "2024-04-27T11:19:00.282Z"
   },
   {
    "duration": 160,
    "start_time": "2024-04-27T11:19:00.479Z"
   },
   {
    "duration": 178,
    "start_time": "2024-04-27T11:19:00.641Z"
   },
   {
    "duration": 96,
    "start_time": "2024-04-27T11:19:00.820Z"
   },
   {
    "duration": 217,
    "start_time": "2024-04-27T11:19:00.918Z"
   },
   {
    "duration": 11135,
    "start_time": "2024-04-27T11:19:01.137Z"
   },
   {
    "duration": 14,
    "start_time": "2024-04-27T11:19:12.274Z"
   },
   {
    "duration": 286388,
    "start_time": "2024-04-27T11:19:12.290Z"
   },
   {
    "duration": 36542,
    "start_time": "2024-04-28T07:02:11.151Z"
   },
   {
    "duration": 2137,
    "start_time": "2024-04-28T07:02:47.695Z"
   },
   {
    "duration": 628,
    "start_time": "2024-04-28T07:02:49.833Z"
   },
   {
    "duration": 558,
    "start_time": "2024-04-28T07:02:50.462Z"
   },
   {
    "duration": 591,
    "start_time": "2024-04-28T07:02:51.021Z"
   },
   {
    "duration": 50,
    "start_time": "2024-04-28T07:02:51.615Z"
   },
   {
    "duration": 118,
    "start_time": "2024-04-28T07:02:51.667Z"
   },
   {
    "duration": 8,
    "start_time": "2024-04-28T07:02:51.786Z"
   },
   {
    "duration": 24,
    "start_time": "2024-04-28T07:02:51.796Z"
   },
   {
    "duration": 223272,
    "start_time": "2024-04-28T07:02:51.822Z"
   },
   {
    "duration": 79169,
    "start_time": "2024-04-28T07:13:08.736Z"
   },
   {
    "duration": 4847,
    "start_time": "2024-04-28T07:15:35.775Z"
   },
   {
    "duration": 0,
    "start_time": "2024-04-28T07:17:17.154Z"
   },
   {
    "duration": 86418,
    "start_time": "2024-04-28T07:17:18.786Z"
   },
   {
    "duration": 254256,
    "start_time": "2024-04-28T07:21:42.244Z"
   },
   {
    "duration": 299530,
    "start_time": "2024-04-28T07:30:22.564Z"
   },
   {
    "duration": 3,
    "start_time": "2024-04-28T09:52:14.333Z"
   },
   {
    "duration": 4,
    "start_time": "2024-04-28T09:52:16.396Z"
   },
   {
    "duration": 19,
    "start_time": "2024-04-28T10:24:40.110Z"
   },
   {
    "duration": 6,
    "start_time": "2024-04-28T10:26:52.404Z"
   },
   {
    "duration": 10,
    "start_time": "2024-04-28T10:27:31.032Z"
   },
   {
    "duration": 9,
    "start_time": "2024-04-28T10:28:11.551Z"
   },
   {
    "duration": 12,
    "start_time": "2024-04-28T10:28:45.767Z"
   },
   {
    "duration": 11,
    "start_time": "2024-04-28T10:29:04.111Z"
   },
   {
    "duration": 5,
    "start_time": "2024-04-28T10:29:25.219Z"
   },
   {
    "duration": 4,
    "start_time": "2024-04-28T10:30:18.078Z"
   },
   {
    "duration": 4,
    "start_time": "2024-04-28T10:31:14.757Z"
   },
   {
    "duration": 214040,
    "start_time": "2024-04-28T10:31:39.796Z"
   },
   {
    "duration": 4,
    "start_time": "2024-04-28T10:35:19.825Z"
   },
   {
    "duration": 10,
    "start_time": "2024-04-28T10:35:40.245Z"
   },
   {
    "duration": 5,
    "start_time": "2024-04-28T10:36:26.691Z"
   },
   {
    "duration": 12,
    "start_time": "2024-04-28T10:36:43.114Z"
   },
   {
    "duration": 3,
    "start_time": "2024-04-28T10:36:47.736Z"
   },
   {
    "duration": 17,
    "start_time": "2024-04-28T10:37:27.086Z"
   },
   {
    "duration": 65356,
    "start_time": "2024-04-28T10:37:38.143Z"
   },
   {
    "duration": 13013,
    "start_time": "2024-04-28T10:44:33.693Z"
   },
   {
    "duration": 2051,
    "start_time": "2024-04-28T10:44:46.708Z"
   },
   {
    "duration": 180,
    "start_time": "2024-04-28T10:44:48.761Z"
   },
   {
    "duration": 173,
    "start_time": "2024-04-28T10:44:48.943Z"
   },
   {
    "duration": 150,
    "start_time": "2024-04-28T10:44:49.117Z"
   },
   {
    "duration": 59,
    "start_time": "2024-04-28T10:44:49.269Z"
   },
   {
    "duration": 126,
    "start_time": "2024-04-28T10:44:49.330Z"
   },
   {
    "duration": 2,
    "start_time": "2024-04-28T10:44:49.458Z"
   },
   {
    "duration": 43,
    "start_time": "2024-04-28T10:44:49.462Z"
   },
   {
    "duration": 98004,
    "start_time": "2024-04-28T10:44:49.507Z"
   },
   {
    "duration": 3,
    "start_time": "2024-04-28T10:46:27.595Z"
   },
   {
    "duration": 13,
    "start_time": "2024-04-28T10:46:27.599Z"
   },
   {
    "duration": 12,
    "start_time": "2024-04-28T10:46:27.614Z"
   },
   {
    "duration": 10,
    "start_time": "2024-04-28T10:46:27.628Z"
   },
   {
    "duration": 187,
    "start_time": "2024-04-28T10:46:27.640Z"
   },
   {
    "duration": 2,
    "start_time": "2024-04-28T11:06:56.578Z"
   },
   {
    "duration": 580,
    "start_time": "2024-04-28T11:08:19.171Z"
   },
   {
    "duration": 1737,
    "start_time": "2024-04-28T11:09:36.460Z"
   },
   {
    "duration": 13,
    "start_time": "2024-04-28T11:12:06.687Z"
   },
   {
    "duration": 12,
    "start_time": "2024-04-28T11:12:34.509Z"
   },
   {
    "duration": 16,
    "start_time": "2024-04-28T11:13:13.293Z"
   },
   {
    "duration": 51113,
    "start_time": "2024-04-28T11:13:17.382Z"
   },
   {
    "duration": 29,
    "start_time": "2024-04-28T12:50:13.203Z"
   },
   {
    "duration": 31,
    "start_time": "2024-04-28T12:50:21.771Z"
   },
   {
    "duration": 62,
    "start_time": "2024-04-28T12:50:33.635Z"
   },
   {
    "duration": 64,
    "start_time": "2024-04-28T13:40:35.433Z"
   },
   {
    "duration": 144,
    "start_time": "2024-04-28T13:43:28.052Z"
   },
   {
    "duration": 4971,
    "start_time": "2024-04-28T13:44:56.161Z"
   },
   {
    "duration": 19,
    "start_time": "2024-04-28T13:45:02.186Z"
   },
   {
    "duration": 158740,
    "start_time": "2024-04-28T13:45:06.459Z"
   },
   {
    "duration": 3,
    "start_time": "2024-04-28T13:50:41.379Z"
   },
   {
    "duration": 5,
    "start_time": "2024-04-28T13:50:48.788Z"
   },
   {
    "duration": 16,
    "start_time": "2024-04-28T13:52:09.399Z"
   },
   {
    "duration": 13,
    "start_time": "2024-04-28T13:53:34.013Z"
   },
   {
    "duration": 12,
    "start_time": "2024-04-28T13:56:57.091Z"
   },
   {
    "duration": 14,
    "start_time": "2024-04-28T13:59:00.891Z"
   },
   {
    "duration": 15,
    "start_time": "2024-04-28T14:11:46.498Z"
   },
   {
    "duration": 13,
    "start_time": "2024-04-28T14:13:41.552Z"
   },
   {
    "duration": 18,
    "start_time": "2024-04-28T14:31:12.567Z"
   },
   {
    "duration": 13,
    "start_time": "2024-04-28T14:31:20.590Z"
   },
   {
    "duration": 1241,
    "start_time": "2024-04-28T14:31:23.649Z"
   },
   {
    "duration": 1276,
    "start_time": "2024-04-28T14:33:37.813Z"
   },
   {
    "duration": 1233,
    "start_time": "2024-04-28T14:35:26.156Z"
   },
   {
    "duration": 1233,
    "start_time": "2024-04-28T14:35:36.101Z"
   },
   {
    "duration": 1248,
    "start_time": "2024-04-28T14:35:53.704Z"
   },
   {
    "duration": 10350,
    "start_time": "2024-04-28T14:37:47.741Z"
   },
   {
    "duration": 1543,
    "start_time": "2024-04-28T14:37:58.094Z"
   },
   {
    "duration": 256,
    "start_time": "2024-04-28T14:37:59.638Z"
   },
   {
    "duration": 160,
    "start_time": "2024-04-28T14:37:59.895Z"
   },
   {
    "duration": 162,
    "start_time": "2024-04-28T14:38:00.057Z"
   },
   {
    "duration": 55,
    "start_time": "2024-04-28T14:38:00.221Z"
   },
   {
    "duration": 302,
    "start_time": "2024-04-28T14:38:00.294Z"
   },
   {
    "duration": 157390,
    "start_time": "2024-04-28T14:38:14.911Z"
   },
   {
    "duration": 3,
    "start_time": "2024-04-28T14:40:52.303Z"
   },
   {
    "duration": 73,
    "start_time": "2024-04-28T14:40:52.307Z"
   },
   {
    "duration": 53,
    "start_time": "2024-04-28T14:40:52.383Z"
   },
   {
    "duration": 17079,
    "start_time": "2024-04-29T09:04:05.244Z"
   },
   {
    "duration": 3950,
    "start_time": "2024-04-29T09:04:22.325Z"
   },
   {
    "duration": 263,
    "start_time": "2024-04-29T09:04:26.277Z"
   },
   {
    "duration": 225,
    "start_time": "2024-04-29T09:04:26.542Z"
   },
   {
    "duration": 233,
    "start_time": "2024-04-29T09:04:26.769Z"
   },
   {
    "duration": 55,
    "start_time": "2024-04-29T09:04:27.004Z"
   },
   {
    "duration": 147,
    "start_time": "2024-04-29T09:04:27.060Z"
   },
   {
    "duration": 10987,
    "start_time": "2024-04-29T09:04:27.209Z"
   },
   {
    "duration": 2511,
    "start_time": "2024-04-29T09:04:38.198Z"
   },
   {
    "duration": 14,
    "start_time": "2024-04-29T09:04:40.711Z"
   },
   {
    "duration": 190257,
    "start_time": "2024-04-29T09:04:40.726Z"
   },
   {
    "duration": 3,
    "start_time": "2024-04-29T09:07:50.984Z"
   },
   {
    "duration": 9,
    "start_time": "2024-04-29T09:07:50.988Z"
   },
   {
    "duration": 14,
    "start_time": "2024-04-29T09:07:50.999Z"
   },
   {
    "duration": 1346,
    "start_time": "2024-04-29T09:07:51.015Z"
   },
   {
    "duration": 3,
    "start_time": "2024-04-29T10:11:49.289Z"
   },
   {
    "duration": 18,
    "start_time": "2024-04-29T10:13:16.714Z"
   },
   {
    "duration": 230,
    "start_time": "2024-04-29T10:13:18.372Z"
   },
   {
    "duration": 16,
    "start_time": "2024-04-29T10:13:28.711Z"
   },
   {
    "duration": 53698,
    "start_time": "2024-04-29T10:13:29.186Z"
   },
   {
    "duration": 14,
    "start_time": "2024-04-29T10:16:24.321Z"
   },
   {
    "duration": 2097,
    "start_time": "2024-04-29T10:16:24.892Z"
   },
   {
    "duration": 1865,
    "start_time": "2024-04-29T10:16:51.624Z"
   },
   {
    "duration": 18018,
    "start_time": "2024-04-30T07:28:27.947Z"
   },
   {
    "duration": 1810,
    "start_time": "2024-04-30T07:28:45.967Z"
   },
   {
    "duration": 700,
    "start_time": "2024-04-30T07:28:47.779Z"
   },
   {
    "duration": 538,
    "start_time": "2024-04-30T07:28:48.481Z"
   },
   {
    "duration": 553,
    "start_time": "2024-04-30T07:28:49.021Z"
   },
   {
    "duration": 55,
    "start_time": "2024-04-30T07:28:49.576Z"
   },
   {
    "duration": 120,
    "start_time": "2024-04-30T07:28:49.633Z"
   },
   {
    "duration": 244353,
    "start_time": "2024-04-30T07:29:03.239Z"
   },
   {
    "duration": 4,
    "start_time": "2024-04-30T07:33:07.594Z"
   },
   {
    "duration": 15,
    "start_time": "2024-04-30T07:33:07.600Z"
   },
   {
    "duration": 18,
    "start_time": "2024-04-30T07:33:07.618Z"
   },
   {
    "duration": 1304,
    "start_time": "2024-04-30T07:33:07.637Z"
   },
   {
    "duration": 201,
    "start_time": "2024-04-30T07:56:49.419Z"
   },
   {
    "duration": 25,
    "start_time": "2024-04-30T07:57:35.056Z"
   },
   {
    "duration": 32,
    "start_time": "2024-04-30T07:57:42.905Z"
   },
   {
    "duration": 32,
    "start_time": "2024-04-30T07:59:00.220Z"
   },
   {
    "duration": 35,
    "start_time": "2024-04-30T07:59:06.921Z"
   },
   {
    "duration": 29,
    "start_time": "2024-04-30T08:00:05.093Z"
   },
   {
    "duration": 29,
    "start_time": "2024-04-30T08:01:45.214Z"
   },
   {
    "duration": 30,
    "start_time": "2024-04-30T08:03:05.382Z"
   },
   {
    "duration": 30,
    "start_time": "2024-04-30T08:05:24.483Z"
   },
   {
    "duration": 6,
    "start_time": "2024-04-30T08:05:48.407Z"
   },
   {
    "duration": 11,
    "start_time": "2024-04-30T08:06:00.555Z"
   },
   {
    "duration": 6,
    "start_time": "2024-04-30T08:06:06.971Z"
   },
   {
    "duration": 33,
    "start_time": "2024-04-30T08:07:11.873Z"
   },
   {
    "duration": 9,
    "start_time": "2024-04-30T08:08:58.455Z"
   },
   {
    "duration": 17,
    "start_time": "2024-04-30T08:09:26.693Z"
   },
   {
    "duration": 16,
    "start_time": "2024-04-30T08:10:09.152Z"
   },
   {
    "duration": 21,
    "start_time": "2024-04-30T08:16:32.951Z"
   },
   {
    "duration": 16,
    "start_time": "2024-04-30T08:17:06.971Z"
   },
   {
    "duration": 24,
    "start_time": "2024-04-30T08:17:09.184Z"
   },
   {
    "duration": 1496,
    "start_time": "2024-04-30T08:18:09.160Z"
   },
   {
    "duration": 4,
    "start_time": "2024-04-30T10:26:23.309Z"
   },
   {
    "duration": 16683,
    "start_time": "2024-04-30T10:41:33.609Z"
   },
   {
    "duration": 16236,
    "start_time": "2024-04-30T10:41:50.295Z"
   },
   {
    "duration": 701,
    "start_time": "2024-04-30T10:42:06.533Z"
   },
   {
    "duration": 547,
    "start_time": "2024-04-30T10:42:07.235Z"
   },
   {
    "duration": 560,
    "start_time": "2024-04-30T10:42:07.784Z"
   },
   {
    "duration": 48,
    "start_time": "2024-04-30T10:42:08.346Z"
   },
   {
    "duration": 132,
    "start_time": "2024-04-30T10:42:08.395Z"
   },
   {
    "duration": 9892,
    "start_time": "2024-04-30T10:42:08.529Z"
   },
   {
    "duration": 2299,
    "start_time": "2024-04-30T10:42:18.423Z"
   },
   {
    "duration": 15,
    "start_time": "2024-04-30T10:42:20.724Z"
   },
   {
    "duration": 181882,
    "start_time": "2024-04-30T10:42:20.741Z"
   },
   {
    "duration": 2,
    "start_time": "2024-04-30T10:45:22.715Z"
   },
   {
    "duration": 5,
    "start_time": "2024-04-30T10:45:22.719Z"
   },
   {
    "duration": 181,
    "start_time": "2024-04-30T10:45:22.726Z"
   },
   {
    "duration": 0,
    "start_time": "2024-04-30T10:45:22.909Z"
   },
   {
    "duration": 0,
    "start_time": "2024-04-30T10:45:22.914Z"
   },
   {
    "duration": 3,
    "start_time": "2024-04-30T11:02:41.993Z"
   },
   {
    "duration": 15,
    "start_time": "2024-04-30T11:02:43.467Z"
   },
   {
    "duration": 35,
    "start_time": "2024-04-30T11:02:53.403Z"
   },
   {
    "duration": 3,
    "start_time": "2024-04-30T11:02:57.832Z"
   },
   {
    "duration": 16940,
    "start_time": "2024-04-30T18:53:32.482Z"
   },
   {
    "duration": 1489,
    "start_time": "2024-04-30T18:53:49.424Z"
   },
   {
    "duration": 611,
    "start_time": "2024-04-30T18:53:50.914Z"
   },
   {
    "duration": 499,
    "start_time": "2024-04-30T18:53:51.527Z"
   },
   {
    "duration": 515,
    "start_time": "2024-04-30T18:53:52.027Z"
   },
   {
    "duration": 37,
    "start_time": "2024-04-30T18:53:52.543Z"
   },
   {
    "duration": 84,
    "start_time": "2024-04-30T18:53:52.582Z"
   },
   {
    "duration": 8535,
    "start_time": "2024-04-30T18:53:52.668Z"
   },
   {
    "duration": 2067,
    "start_time": "2024-04-30T18:54:01.205Z"
   },
   {
    "duration": 16,
    "start_time": "2024-04-30T18:54:03.274Z"
   },
   {
    "duration": 130992,
    "start_time": "2024-04-30T18:54:03.292Z"
   },
   {
    "duration": 3,
    "start_time": "2024-04-30T18:56:14.287Z"
   },
   {
    "duration": 94,
    "start_time": "2024-04-30T18:56:14.293Z"
   },
   {
    "duration": 0,
    "start_time": "2024-04-30T18:56:14.562Z"
   },
   {
    "duration": 0,
    "start_time": "2024-04-30T18:56:14.568Z"
   },
   {
    "duration": 0,
    "start_time": "2024-04-30T18:56:14.570Z"
   },
   {
    "duration": 14,
    "start_time": "2024-04-30T19:03:28.430Z"
   },
   {
    "duration": 1804,
    "start_time": "2024-04-30T19:04:30.050Z"
   },
   {
    "duration": 1781,
    "start_time": "2024-04-30T19:06:29.835Z"
   },
   {
    "duration": 1779,
    "start_time": "2024-04-30T19:06:42.217Z"
   },
   {
    "duration": 587,
    "start_time": "2024-04-30T19:07:12.725Z"
   },
   {
    "duration": 4,
    "start_time": "2024-04-30T19:07:27.101Z"
   },
   {
    "duration": 652,
    "start_time": "2024-04-30T19:07:31.609Z"
   },
   {
    "duration": 571,
    "start_time": "2024-04-30T19:07:38.449Z"
   },
   {
    "duration": 581,
    "start_time": "2024-04-30T19:07:41.945Z"
   },
   {
    "duration": 581,
    "start_time": "2024-04-30T19:07:46.168Z"
   },
   {
    "duration": 576,
    "start_time": "2024-04-30T19:07:59.231Z"
   },
   {
    "duration": 4,
    "start_time": "2024-04-30T19:09:40.841Z"
   },
   {
    "duration": 607,
    "start_time": "2024-04-30T19:09:59.546Z"
   },
   {
    "duration": 578,
    "start_time": "2024-04-30T19:10:17.317Z"
   },
   {
    "duration": 13,
    "start_time": "2024-04-30T19:11:10.290Z"
   },
   {
    "duration": 1039,
    "start_time": "2024-04-30T19:11:18.585Z"
   },
   {
    "duration": 34222,
    "start_time": "2024-05-01T11:02:19.743Z"
   },
   {
    "duration": 4645,
    "start_time": "2024-05-01T11:02:53.969Z"
   },
   {
    "duration": 356,
    "start_time": "2024-05-01T11:02:58.617Z"
   },
   {
    "duration": 260,
    "start_time": "2024-05-01T11:02:58.975Z"
   },
   {
    "duration": 280,
    "start_time": "2024-05-01T11:02:59.238Z"
   },
   {
    "duration": 65,
    "start_time": "2024-05-01T11:02:59.520Z"
   },
   {
    "duration": 139,
    "start_time": "2024-05-01T11:02:59.586Z"
   },
   {
    "duration": 3,
    "start_time": "2024-05-01T11:02:59.727Z"
   },
   {
    "duration": 1968,
    "start_time": "2024-05-01T11:02:59.733Z"
   },
   {
    "duration": 18,
    "start_time": "2024-05-01T11:03:01.703Z"
   },
   {
    "duration": 224751,
    "start_time": "2024-05-01T11:03:01.723Z"
   },
   {
    "duration": 86,
    "start_time": "2024-05-01T11:06:46.476Z"
   },
   {
    "duration": 29,
    "start_time": "2024-05-01T11:06:46.563Z"
   },
   {
    "duration": 28,
    "start_time": "2024-05-01T11:06:46.594Z"
   },
   {
    "duration": 1651,
    "start_time": "2024-05-01T11:06:46.624Z"
   }
  ],
  "kernelspec": {
   "display_name": "Python 3 (ipykernel)",
   "language": "python",
   "name": "python3"
  },
  "language_info": {
   "codemirror_mode": {
    "name": "ipython",
    "version": 3
   },
   "file_extension": ".py",
   "mimetype": "text/x-python",
   "name": "python",
   "nbconvert_exporter": "python",
   "pygments_lexer": "ipython3",
   "version": "3.11.5"
  },
  "toc": {
   "base_numbering": 1,
   "nav_menu": {},
   "number_sections": true,
   "sideBar": true,
   "skip_h1_title": true,
   "title_cell": "Table of Contents",
   "title_sidebar": "Contents",
   "toc_cell": false,
   "toc_position": {
    "height": "calc(100% - 180px)",
    "left": "10px",
    "top": "150px",
    "width": "384px"
   },
   "toc_section_display": true,
   "toc_window_display": true
  }
 },
 "nbformat": 4,
 "nbformat_minor": 2
}
