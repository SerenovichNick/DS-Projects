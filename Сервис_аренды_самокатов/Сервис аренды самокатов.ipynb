{
 "cells": [
  {
   "cell_type": "markdown",
   "id": "498f3ee7",
   "metadata": {},
   "source": [
    "# Статистический анализ сервиса аренды самокатов GoFast"
   ]
  },
  {
   "cell_type": "markdown",
   "id": "65f711c7",
   "metadata": {},
   "source": [
    "В нашем распоряжении данные о некоторых пользователях из нескольких городов, а также об их поездках. Проанализируем данные и проверим некоторые гипотезы, которые могут помочь бизнесу вырасти.<br>\n",
    "Чтобы совершать поездки по городу, пользователи сервиса GoFast пользуются мобильным приложением. Сервисом можно пользоваться:\n",
    "- без подписки\n",
    "    - абонентская плата отсутствует;\n",
    "    - стоимость одной минуты поездки — 8 рублей;\n",
    "    - стоимость старта (начала поездки) — 50 рублей;\n",
    "- с подпиской Ultra\n",
    "    - абонентская плата — 199 рублей в месяц;\n",
    "    - стоимость одной минуты поездки — 6 рублей;\n",
    "    - стоимость старта — бесплатно."
   ]
  },
  {
   "cell_type": "markdown",
   "id": "c42cbe00",
   "metadata": {},
   "source": [
    "## Шаг 1. Загрузка данных"
   ]
  },
  {
   "cell_type": "markdown",
   "id": "c2985f0e",
   "metadata": {},
   "source": [
    "**Импортируем библиотеку Pandas. Считаем данные из csv-файла в датафреймы и сохраним в переменные. Выведем несколько первых строк каждого датафрейма и изучим общую информацию о каждом датафрейме.<br>\n",
    "В качестве разделителя используем `,`**"
   ]
  },
  {
   "cell_type": "code",
   "execution_count": 1,
   "id": "f6983d5a",
   "metadata": {},
   "outputs": [],
   "source": [
    "import pandas as pd\n",
    "data_users = pd.read_csv('/datasets/users_go.csv', sep=',')\n",
    "data_rides = pd.read_csv('/datasets/rides_go.csv', sep=',')\n",
    "data_subscriptions = pd.read_csv('/datasets/subscriptions_go.csv', sep=',')"
   ]
  },
  {
   "cell_type": "markdown",
   "id": "c6d4e49f",
   "metadata": {},
   "source": [
    "**Изучим общую информацию о полученном датафрейме `data_users`.**"
   ]
  },
  {
   "cell_type": "code",
   "execution_count": 2,
   "id": "6538601c",
   "metadata": {},
   "outputs": [
    {
     "name": "stdout",
     "output_type": "stream",
     "text": [
      "<class 'pandas.core.frame.DataFrame'>\n",
      "RangeIndex: 1565 entries, 0 to 1564\n",
      "Data columns (total 5 columns):\n",
      " #   Column             Non-Null Count  Dtype \n",
      "---  ------             --------------  ----- \n",
      " 0   user_id            1565 non-null   int64 \n",
      " 1   name               1565 non-null   object\n",
      " 2   age                1565 non-null   int64 \n",
      " 3   city               1565 non-null   object\n",
      " 4   subscription_type  1565 non-null   object\n",
      "dtypes: int64(2), object(3)\n",
      "memory usage: 61.3+ KB\n"
     ]
    }
   ],
   "source": [
    "data_users.info()"
   ]
  },
  {
   "cell_type": "markdown",
   "id": "3b2ee555",
   "metadata": {},
   "source": [
    "**Выведем первые строки датафрейма `data_users`.**"
   ]
  },
  {
   "cell_type": "code",
   "execution_count": 3,
   "id": "9da82893",
   "metadata": {},
   "outputs": [
    {
     "data": {
      "text/html": [
       "<div>\n",
       "<style scoped>\n",
       "    .dataframe tbody tr th:only-of-type {\n",
       "        vertical-align: middle;\n",
       "    }\n",
       "\n",
       "    .dataframe tbody tr th {\n",
       "        vertical-align: top;\n",
       "    }\n",
       "\n",
       "    .dataframe thead th {\n",
       "        text-align: right;\n",
       "    }\n",
       "</style>\n",
       "<table border=\"1\" class=\"dataframe\">\n",
       "  <thead>\n",
       "    <tr style=\"text-align: right;\">\n",
       "      <th></th>\n",
       "      <th>user_id</th>\n",
       "      <th>name</th>\n",
       "      <th>age</th>\n",
       "      <th>city</th>\n",
       "      <th>subscription_type</th>\n",
       "    </tr>\n",
       "  </thead>\n",
       "  <tbody>\n",
       "    <tr>\n",
       "      <th>0</th>\n",
       "      <td>1</td>\n",
       "      <td>Кира</td>\n",
       "      <td>22</td>\n",
       "      <td>Тюмень</td>\n",
       "      <td>ultra</td>\n",
       "    </tr>\n",
       "    <tr>\n",
       "      <th>1</th>\n",
       "      <td>2</td>\n",
       "      <td>Станислав</td>\n",
       "      <td>31</td>\n",
       "      <td>Омск</td>\n",
       "      <td>ultra</td>\n",
       "    </tr>\n",
       "    <tr>\n",
       "      <th>2</th>\n",
       "      <td>3</td>\n",
       "      <td>Алексей</td>\n",
       "      <td>20</td>\n",
       "      <td>Москва</td>\n",
       "      <td>ultra</td>\n",
       "    </tr>\n",
       "    <tr>\n",
       "      <th>3</th>\n",
       "      <td>4</td>\n",
       "      <td>Константин</td>\n",
       "      <td>26</td>\n",
       "      <td>Ростов-на-Дону</td>\n",
       "      <td>ultra</td>\n",
       "    </tr>\n",
       "    <tr>\n",
       "      <th>4</th>\n",
       "      <td>5</td>\n",
       "      <td>Адель</td>\n",
       "      <td>28</td>\n",
       "      <td>Омск</td>\n",
       "      <td>ultra</td>\n",
       "    </tr>\n",
       "    <tr>\n",
       "      <th>5</th>\n",
       "      <td>6</td>\n",
       "      <td>Регина</td>\n",
       "      <td>25</td>\n",
       "      <td>Краснодар</td>\n",
       "      <td>ultra</td>\n",
       "    </tr>\n",
       "    <tr>\n",
       "      <th>6</th>\n",
       "      <td>7</td>\n",
       "      <td>Игорь</td>\n",
       "      <td>23</td>\n",
       "      <td>Омск</td>\n",
       "      <td>ultra</td>\n",
       "    </tr>\n",
       "    <tr>\n",
       "      <th>7</th>\n",
       "      <td>8</td>\n",
       "      <td>Юрий</td>\n",
       "      <td>23</td>\n",
       "      <td>Краснодар</td>\n",
       "      <td>ultra</td>\n",
       "    </tr>\n",
       "    <tr>\n",
       "      <th>8</th>\n",
       "      <td>9</td>\n",
       "      <td>Ян</td>\n",
       "      <td>21</td>\n",
       "      <td>Пятигорск</td>\n",
       "      <td>ultra</td>\n",
       "    </tr>\n",
       "    <tr>\n",
       "      <th>9</th>\n",
       "      <td>10</td>\n",
       "      <td>Валерий</td>\n",
       "      <td>18</td>\n",
       "      <td>Екатеринбург</td>\n",
       "      <td>ultra</td>\n",
       "    </tr>\n",
       "  </tbody>\n",
       "</table>\n",
       "</div>"
      ],
      "text/plain": [
       "   user_id        name  age            city subscription_type\n",
       "0        1        Кира   22          Тюмень             ultra\n",
       "1        2   Станислав   31            Омск             ultra\n",
       "2        3     Алексей   20          Москва             ultra\n",
       "3        4  Константин   26  Ростов-на-Дону             ultra\n",
       "4        5       Адель   28            Омск             ultra\n",
       "5        6      Регина   25       Краснодар             ultra\n",
       "6        7       Игорь   23            Омск             ultra\n",
       "7        8        Юрий   23       Краснодар             ultra\n",
       "8        9          Ян   21       Пятигорск             ultra\n",
       "9       10     Валерий   18    Екатеринбург             ultra"
      ]
     },
     "execution_count": 3,
     "metadata": {},
     "output_type": "execute_result"
    }
   ],
   "source": [
    "data_users.head(10)"
   ]
  },
  {
   "cell_type": "markdown",
   "id": "bb57599a",
   "metadata": {},
   "source": [
    "**Изучим общую информацию о полученном датафрейме `data_rides`.**"
   ]
  },
  {
   "cell_type": "code",
   "execution_count": 4,
   "id": "e2152587",
   "metadata": {},
   "outputs": [
    {
     "name": "stdout",
     "output_type": "stream",
     "text": [
      "<class 'pandas.core.frame.DataFrame'>\n",
      "RangeIndex: 18068 entries, 0 to 18067\n",
      "Data columns (total 4 columns):\n",
      " #   Column    Non-Null Count  Dtype  \n",
      "---  ------    --------------  -----  \n",
      " 0   user_id   18068 non-null  int64  \n",
      " 1   distance  18068 non-null  float64\n",
      " 2   duration  18068 non-null  float64\n",
      " 3   date      18068 non-null  object \n",
      "dtypes: float64(2), int64(1), object(1)\n",
      "memory usage: 564.8+ KB\n"
     ]
    }
   ],
   "source": [
    "data_rides.info()"
   ]
  },
  {
   "cell_type": "markdown",
   "id": "4c08bbbf",
   "metadata": {},
   "source": [
    "**Выведем первые строки датафрейма `data_rides`.**"
   ]
  },
  {
   "cell_type": "code",
   "execution_count": 5,
   "id": "8fbe9738",
   "metadata": {},
   "outputs": [
    {
     "data": {
      "text/html": [
       "<div>\n",
       "<style scoped>\n",
       "    .dataframe tbody tr th:only-of-type {\n",
       "        vertical-align: middle;\n",
       "    }\n",
       "\n",
       "    .dataframe tbody tr th {\n",
       "        vertical-align: top;\n",
       "    }\n",
       "\n",
       "    .dataframe thead th {\n",
       "        text-align: right;\n",
       "    }\n",
       "</style>\n",
       "<table border=\"1\" class=\"dataframe\">\n",
       "  <thead>\n",
       "    <tr style=\"text-align: right;\">\n",
       "      <th></th>\n",
       "      <th>user_id</th>\n",
       "      <th>distance</th>\n",
       "      <th>duration</th>\n",
       "      <th>date</th>\n",
       "    </tr>\n",
       "  </thead>\n",
       "  <tbody>\n",
       "    <tr>\n",
       "      <th>0</th>\n",
       "      <td>1</td>\n",
       "      <td>4409.919140</td>\n",
       "      <td>25.599769</td>\n",
       "      <td>2021-01-01</td>\n",
       "    </tr>\n",
       "    <tr>\n",
       "      <th>1</th>\n",
       "      <td>1</td>\n",
       "      <td>2617.592153</td>\n",
       "      <td>15.816871</td>\n",
       "      <td>2021-01-18</td>\n",
       "    </tr>\n",
       "    <tr>\n",
       "      <th>2</th>\n",
       "      <td>1</td>\n",
       "      <td>754.159807</td>\n",
       "      <td>6.232113</td>\n",
       "      <td>2021-04-20</td>\n",
       "    </tr>\n",
       "    <tr>\n",
       "      <th>3</th>\n",
       "      <td>1</td>\n",
       "      <td>2694.783254</td>\n",
       "      <td>18.511000</td>\n",
       "      <td>2021-08-11</td>\n",
       "    </tr>\n",
       "    <tr>\n",
       "      <th>4</th>\n",
       "      <td>1</td>\n",
       "      <td>4028.687306</td>\n",
       "      <td>26.265803</td>\n",
       "      <td>2021-08-28</td>\n",
       "    </tr>\n",
       "    <tr>\n",
       "      <th>5</th>\n",
       "      <td>1</td>\n",
       "      <td>2770.890808</td>\n",
       "      <td>16.650138</td>\n",
       "      <td>2021-10-09</td>\n",
       "    </tr>\n",
       "    <tr>\n",
       "      <th>6</th>\n",
       "      <td>1</td>\n",
       "      <td>3039.020292</td>\n",
       "      <td>14.927879</td>\n",
       "      <td>2021-10-19</td>\n",
       "    </tr>\n",
       "    <tr>\n",
       "      <th>7</th>\n",
       "      <td>1</td>\n",
       "      <td>2842.118050</td>\n",
       "      <td>23.117468</td>\n",
       "      <td>2021-11-06</td>\n",
       "    </tr>\n",
       "    <tr>\n",
       "      <th>8</th>\n",
       "      <td>1</td>\n",
       "      <td>3412.690668</td>\n",
       "      <td>15.238072</td>\n",
       "      <td>2021-11-14</td>\n",
       "    </tr>\n",
       "    <tr>\n",
       "      <th>9</th>\n",
       "      <td>1</td>\n",
       "      <td>748.690645</td>\n",
       "      <td>15.041884</td>\n",
       "      <td>2021-11-22</td>\n",
       "    </tr>\n",
       "  </tbody>\n",
       "</table>\n",
       "</div>"
      ],
      "text/plain": [
       "   user_id     distance   duration        date\n",
       "0        1  4409.919140  25.599769  2021-01-01\n",
       "1        1  2617.592153  15.816871  2021-01-18\n",
       "2        1   754.159807   6.232113  2021-04-20\n",
       "3        1  2694.783254  18.511000  2021-08-11\n",
       "4        1  4028.687306  26.265803  2021-08-28\n",
       "5        1  2770.890808  16.650138  2021-10-09\n",
       "6        1  3039.020292  14.927879  2021-10-19\n",
       "7        1  2842.118050  23.117468  2021-11-06\n",
       "8        1  3412.690668  15.238072  2021-11-14\n",
       "9        1   748.690645  15.041884  2021-11-22"
      ]
     },
     "execution_count": 5,
     "metadata": {},
     "output_type": "execute_result"
    }
   ],
   "source": [
    "data_rides.head(10)"
   ]
  },
  {
   "cell_type": "markdown",
   "id": "353a3979",
   "metadata": {},
   "source": [
    "**Изучим общую информацию о полученном датафрейме `data_subscriptions`.**"
   ]
  },
  {
   "cell_type": "code",
   "execution_count": 6,
   "id": "f72621a3",
   "metadata": {},
   "outputs": [
    {
     "name": "stdout",
     "output_type": "stream",
     "text": [
      "<class 'pandas.core.frame.DataFrame'>\n",
      "RangeIndex: 2 entries, 0 to 1\n",
      "Data columns (total 4 columns):\n",
      " #   Column             Non-Null Count  Dtype \n",
      "---  ------             --------------  ----- \n",
      " 0   subscription_type  2 non-null      object\n",
      " 1   minute_price       2 non-null      int64 \n",
      " 2   start_ride_price   2 non-null      int64 \n",
      " 3   subscription_fee   2 non-null      int64 \n",
      "dtypes: int64(3), object(1)\n",
      "memory usage: 192.0+ bytes\n"
     ]
    }
   ],
   "source": [
    "data_subscriptions.info()"
   ]
  },
  {
   "cell_type": "code",
   "execution_count": 7,
   "id": "ead84d9e",
   "metadata": {
    "scrolled": true
   },
   "outputs": [
    {
     "data": {
      "text/html": [
       "<div>\n",
       "<style scoped>\n",
       "    .dataframe tbody tr th:only-of-type {\n",
       "        vertical-align: middle;\n",
       "    }\n",
       "\n",
       "    .dataframe tbody tr th {\n",
       "        vertical-align: top;\n",
       "    }\n",
       "\n",
       "    .dataframe thead th {\n",
       "        text-align: right;\n",
       "    }\n",
       "</style>\n",
       "<table border=\"1\" class=\"dataframe\">\n",
       "  <thead>\n",
       "    <tr style=\"text-align: right;\">\n",
       "      <th></th>\n",
       "      <th>subscription_type</th>\n",
       "      <th>minute_price</th>\n",
       "      <th>start_ride_price</th>\n",
       "      <th>subscription_fee</th>\n",
       "    </tr>\n",
       "  </thead>\n",
       "  <tbody>\n",
       "    <tr>\n",
       "      <th>0</th>\n",
       "      <td>free</td>\n",
       "      <td>8</td>\n",
       "      <td>50</td>\n",
       "      <td>0</td>\n",
       "    </tr>\n",
       "    <tr>\n",
       "      <th>1</th>\n",
       "      <td>ultra</td>\n",
       "      <td>6</td>\n",
       "      <td>0</td>\n",
       "      <td>199</td>\n",
       "    </tr>\n",
       "  </tbody>\n",
       "</table>\n",
       "</div>"
      ],
      "text/plain": [
       "  subscription_type  minute_price  start_ride_price  subscription_fee\n",
       "0              free             8                50                 0\n",
       "1             ultra             6                 0               199"
      ]
     },
     "execution_count": 7,
     "metadata": {},
     "output_type": "execute_result"
    }
   ],
   "source": [
    "data_subscriptions.head()"
   ]
  },
  {
   "cell_type": "markdown",
   "id": "e95ebca7",
   "metadata": {},
   "source": [
    "## Шаг 2. Предобработка данных"
   ]
  },
  {
   "cell_type": "markdown",
   "id": "f5503599",
   "metadata": {},
   "source": [
    "**Пропуски во всех датафремах отсутствуют, что говорит о высоком качестве работы по сбору данных. Исправим некоторые шероховатости.<br>\n",
    "Установим корректный тип данных столбцу `data` датафрема `data_rides`. Там явно указан тип даты, а не `object`.**"
   ]
  },
  {
   "cell_type": "code",
   "execution_count": 8,
   "id": "d867a661",
   "metadata": {
    "scrolled": true
   },
   "outputs": [
    {
     "data": {
      "text/plain": [
       "0   2021-01-01\n",
       "1   2021-01-18\n",
       "2   2021-04-20\n",
       "3   2021-08-11\n",
       "4   2021-08-28\n",
       "Name: date, dtype: datetime64[ns]"
      ]
     },
     "execution_count": 8,
     "metadata": {},
     "output_type": "execute_result"
    }
   ],
   "source": [
    "data_rides['date'] = pd.to_datetime(data_rides['date'], format='%Y-%m-%d')\n",
    "data_rides['date'].head()"
   ]
  },
  {
   "cell_type": "markdown",
   "id": "50eb4e67",
   "metadata": {},
   "source": [
    "**Создадим новый столбец `date_month` с номером месяца в основе столбца `date`.**"
   ]
  },
  {
   "cell_type": "code",
   "execution_count": 9,
   "id": "4068d7a8",
   "metadata": {
    "scrolled": true
   },
   "outputs": [
    {
     "data": {
      "text/plain": [
       "0    1\n",
       "1    1\n",
       "2    4\n",
       "3    8\n",
       "4    8\n",
       "Name: date_month, dtype: int64"
      ]
     },
     "execution_count": 9,
     "metadata": {},
     "output_type": "execute_result"
    }
   ],
   "source": [
    "data_rides['date_month'] = data_rides['date'].dt.month\n",
    "data_rides['date_month'].head()"
   ]
  },
  {
   "cell_type": "code",
   "execution_count": 10,
   "id": "54cb79ea",
   "metadata": {},
   "outputs": [
    {
     "name": "stdout",
     "output_type": "stream",
     "text": [
      "2021-01-01 00:00:00\n",
      "2021-12-30 00:00:00\n"
     ]
    }
   ],
   "source": [
    "print(data_rides['date'].min())\n",
    "print(data_rides['date'].max())"
   ]
  },
  {
   "cell_type": "code",
   "execution_count": 11,
   "id": "5cf2d6fe",
   "metadata": {},
   "outputs": [
    {
     "name": "stdout",
     "output_type": "stream",
     "text": [
      "31\n",
      "0\n"
     ]
    }
   ],
   "source": [
    "print(data_users.duplicated().sum())\n",
    "print(data_rides.duplicated().sum())"
   ]
  },
  {
   "cell_type": "code",
   "execution_count": 12,
   "id": "74a3bd46",
   "metadata": {},
   "outputs": [
    {
     "name": "stdout",
     "output_type": "stream",
     "text": [
      "<class 'pandas.core.frame.DataFrame'>\n",
      "Int64Index: 1534 entries, 0 to 1533\n",
      "Data columns (total 5 columns):\n",
      " #   Column             Non-Null Count  Dtype \n",
      "---  ------             --------------  ----- \n",
      " 0   user_id            1534 non-null   int64 \n",
      " 1   name               1534 non-null   object\n",
      " 2   age                1534 non-null   int64 \n",
      " 3   city               1534 non-null   object\n",
      " 4   subscription_type  1534 non-null   object\n",
      "dtypes: int64(2), object(3)\n",
      "memory usage: 71.9+ KB\n"
     ]
    }
   ],
   "source": [
    "data_users.drop_duplicates(inplace=True)\n",
    "data_users.info()"
   ]
  },
  {
   "cell_type": "markdown",
   "id": "212593c7",
   "metadata": {},
   "source": [
    "## Шаг 3. Исследовательский анализ данных"
   ]
  },
  {
   "cell_type": "markdown",
   "id": "8352e95b",
   "metadata": {},
   "source": [
    "**Опишем и визуализируем общую информацию о пользователях и поездках.<br>\n",
    "Для начала выведем частоту встречаемости городов.**"
   ]
  },
  {
   "cell_type": "code",
   "execution_count": 13,
   "id": "4db6826c",
   "metadata": {},
   "outputs": [
    {
     "data": {
      "image/png": "[encoded data removed]",
      "text/plain": [
       "<Figure size 864x576 with 1 Axes>"
      ]
     },
     "metadata": {
      "needs_background": "light"
     },
     "output_type": "display_data"
    }
   ],
   "source": [
    "import matplotlib.pyplot as plt\n",
    "plt.figure(figsize=(12, 8))\n",
    "data_users['city'].value_counts().sort_values().plot.barh(color='royalblue', edgecolor='black')\n",
    "\n",
    "for index, value in enumerate(data_users['city'].value_counts().sort_values()):\n",
    "    plt.text(value, index, str(value), ha='left', va='center', fontsize=10)\n",
    "\n",
    "plt.xlabel('Город')\n",
    "plt.ylabel('Количество пользователей в городе')\n",
    "plt.title('Распределение пользователей по городам')\n",
    "\n",
    "plt.show()"
   ]
  },
  {
   "cell_type": "markdown",
   "id": "71bc920b",
   "metadata": {},
   "source": [
    "Присутствуют данные о пользователях из восьми городов. Количество записей для каждого города варьируется около 200."
   ]
  },
  {
   "cell_type": "markdown",
   "id": "2902e3ea",
   "metadata": {},
   "source": [
    "**Выведем соотношение пользователей с подпиской и без.**"
   ]
  },
  {
   "cell_type": "code",
   "execution_count": 14,
   "id": "534f8f34",
   "metadata": {
    "scrolled": true
   },
   "outputs": [
    {
     "data": {
      "image/png": "[encoded data removed]",
      "text/plain": [
       "<Figure size 648x360 with 1 Axes>"
      ]
     },
     "metadata": {},
     "output_type": "display_data"
    }
   ],
   "source": [
    "plt.figure(figsize=(9, 5))\n",
    "data_users['subscription_type'].value_counts().plot.pie(autopct='%1.1f%%', colors=['royalblue', 'lightcoral'])\n",
    "\n",
    "plt.title('Распределение пользователей по подпискам')\n",
    "\n",
    "plt.show()"
   ]
  },
  {
   "cell_type": "markdown",
   "id": "e4eb3fa3",
   "metadata": {},
   "source": [
    "Соотношение пользователей по подпискам примерно равно и варьируется около 800."
   ]
  },
  {
   "cell_type": "markdown",
   "id": "9a6d76d8",
   "metadata": {},
   "source": [
    "**Выведем соотношение пользователей по возрасту.**"
   ]
  },
  {
   "cell_type": "code",
   "execution_count": 15,
   "id": "6d26beee",
   "metadata": {
    "scrolled": true
   },
   "outputs": [
    {
     "data": {
      "image/png": "[encoded data removed]",
      "text/plain": [
       "<Figure size 864x576 with 1 Axes>"
      ]
     },
     "metadata": {
      "needs_background": "light"
     },
     "output_type": "display_data"
    }
   ],
   "source": [
    "plt.figure(figsize=(12, 8))\n",
    "data_users['age'].value_counts().sort_index().plot.bar(color='royalblue', edgecolor='black')\n",
    "\n",
    "plt.xlabel('Возраст')\n",
    "plt.ylabel('Количество пользователей')\n",
    "plt.title('Распределение пользователей по возрасту')\n",
    "\n",
    "plt.show()"
   ]
  },
  {
   "cell_type": "code",
   "execution_count": 16,
   "id": "f70a0657",
   "metadata": {},
   "outputs": [
    {
     "data": {
      "text/plain": [
       "count    1534.000000\n",
       "mean       24.903520\n",
       "std         4.572367\n",
       "min        12.000000\n",
       "25%        22.000000\n",
       "50%        25.000000\n",
       "75%        28.000000\n",
       "max        43.000000\n",
       "Name: age, dtype: float64"
      ]
     },
     "execution_count": 16,
     "metadata": {},
     "output_type": "execute_result"
    }
   ],
   "source": [
    "data_users['age'].describe()"
   ]
  },
  {
   "cell_type": "markdown",
   "id": "9ec59f4a",
   "metadata": {},
   "source": [
    "**Выведем соотношение пользователей по преодоленному расстоянию.**"
   ]
  },
  {
   "cell_type": "code",
   "execution_count": 17,
   "id": "87ebc2cc",
   "metadata": {},
   "outputs": [
    {
     "data": {
      "image/png": "[encoded data removed]",
      "text/plain": [
       "<Figure size 720x432 with 1 Axes>"
      ]
     },
     "metadata": {
      "needs_background": "light"
     },
     "output_type": "display_data"
    }
   ],
   "source": [
    "plt.figure(figsize=(10, 6))\n",
    "data_rides['distance'].plot.hist(bins=20, color='royalblue', edgecolor='black')\n",
    "\n",
    "plt.xlabel('Расстояние поездок')\n",
    "plt.ylabel('Частота')\n",
    "plt.title('Распределение расстояния поездок')\n",
    "\n",
    "plt.show()"
   ]
  },
  {
   "cell_type": "markdown",
   "id": "11d2cd88",
   "metadata": {},
   "source": [
    "По графику видим нормальное распределение со средней дистанцией в 3 км."
   ]
  },
  {
   "cell_type": "markdown",
   "id": "b3b4fb01",
   "metadata": {},
   "source": [
    "**Выведем соотношение пользователей по продолжительности поездок.**"
   ]
  },
  {
   "cell_type": "code",
   "execution_count": 18,
   "id": "9af86a89",
   "metadata": {},
   "outputs": [
    {
     "data": {
      "image/png": "[encoded data removed]",
      "text/plain": [
       "<Figure size 720x432 with 1 Axes>"
      ]
     },
     "metadata": {
      "needs_background": "light"
     },
     "output_type": "display_data"
    }
   ],
   "source": [
    "plt.figure(figsize=(10, 6))\n",
    "data_rides['duration'].plot.hist(bins=20, color='royalblue', edgecolor='black')\n",
    "\n",
    "plt.xlabel('Продолжительность поездок')\n",
    "plt.ylabel('Частота')\n",
    "plt.title('Распределение продолжительности поездок')\n",
    "\n",
    "plt.show()"
   ]
  },
  {
   "cell_type": "markdown",
   "id": "a82b1fdd",
   "metadata": {},
   "source": [
    "Средняя продолжительность поездки составляет около 15-20 минут."
   ]
  },
  {
   "cell_type": "markdown",
   "id": "4ef51331",
   "metadata": {},
   "source": [
    "## Шаг 4. Объединение данных"
   ]
  },
  {
   "cell_type": "markdown",
   "id": "c2df2475",
   "metadata": {},
   "source": [
    "**Объединим данные о пользователях, поездках и подписках в один датафрейм. Для этого воспользуйтесь методом `merge()`.<br>\n",
    "Выведем несколько первых строк.**"
   ]
  },
  {
   "cell_type": "code",
   "execution_count": 19,
   "id": "283f40a7",
   "metadata": {
    "scrolled": true
   },
   "outputs": [
    {
     "data": {
      "text/html": [
       "<div>\n",
       "<style scoped>\n",
       "    .dataframe tbody tr th:only-of-type {\n",
       "        vertical-align: middle;\n",
       "    }\n",
       "\n",
       "    .dataframe tbody tr th {\n",
       "        vertical-align: top;\n",
       "    }\n",
       "\n",
       "    .dataframe thead th {\n",
       "        text-align: right;\n",
       "    }\n",
       "</style>\n",
       "<table border=\"1\" class=\"dataframe\">\n",
       "  <thead>\n",
       "    <tr style=\"text-align: right;\">\n",
       "      <th></th>\n",
       "      <th>user_id</th>\n",
       "      <th>distance</th>\n",
       "      <th>duration</th>\n",
       "      <th>date</th>\n",
       "      <th>date_month</th>\n",
       "      <th>name</th>\n",
       "      <th>age</th>\n",
       "      <th>city</th>\n",
       "      <th>subscription_type</th>\n",
       "      <th>minute_price</th>\n",
       "      <th>start_ride_price</th>\n",
       "      <th>subscription_fee</th>\n",
       "    </tr>\n",
       "  </thead>\n",
       "  <tbody>\n",
       "    <tr>\n",
       "      <th>0</th>\n",
       "      <td>1</td>\n",
       "      <td>4409.919140</td>\n",
       "      <td>25.599769</td>\n",
       "      <td>2021-01-01</td>\n",
       "      <td>1</td>\n",
       "      <td>Кира</td>\n",
       "      <td>22</td>\n",
       "      <td>Тюмень</td>\n",
       "      <td>ultra</td>\n",
       "      <td>6</td>\n",
       "      <td>0</td>\n",
       "      <td>199</td>\n",
       "    </tr>\n",
       "    <tr>\n",
       "      <th>1</th>\n",
       "      <td>1</td>\n",
       "      <td>2617.592153</td>\n",
       "      <td>15.816871</td>\n",
       "      <td>2021-01-18</td>\n",
       "      <td>1</td>\n",
       "      <td>Кира</td>\n",
       "      <td>22</td>\n",
       "      <td>Тюмень</td>\n",
       "      <td>ultra</td>\n",
       "      <td>6</td>\n",
       "      <td>0</td>\n",
       "      <td>199</td>\n",
       "    </tr>\n",
       "    <tr>\n",
       "      <th>2</th>\n",
       "      <td>1</td>\n",
       "      <td>754.159807</td>\n",
       "      <td>6.232113</td>\n",
       "      <td>2021-04-20</td>\n",
       "      <td>4</td>\n",
       "      <td>Кира</td>\n",
       "      <td>22</td>\n",
       "      <td>Тюмень</td>\n",
       "      <td>ultra</td>\n",
       "      <td>6</td>\n",
       "      <td>0</td>\n",
       "      <td>199</td>\n",
       "    </tr>\n",
       "    <tr>\n",
       "      <th>3</th>\n",
       "      <td>1</td>\n",
       "      <td>2694.783254</td>\n",
       "      <td>18.511000</td>\n",
       "      <td>2021-08-11</td>\n",
       "      <td>8</td>\n",
       "      <td>Кира</td>\n",
       "      <td>22</td>\n",
       "      <td>Тюмень</td>\n",
       "      <td>ultra</td>\n",
       "      <td>6</td>\n",
       "      <td>0</td>\n",
       "      <td>199</td>\n",
       "    </tr>\n",
       "    <tr>\n",
       "      <th>4</th>\n",
       "      <td>1</td>\n",
       "      <td>4028.687306</td>\n",
       "      <td>26.265803</td>\n",
       "      <td>2021-08-28</td>\n",
       "      <td>8</td>\n",
       "      <td>Кира</td>\n",
       "      <td>22</td>\n",
       "      <td>Тюмень</td>\n",
       "      <td>ultra</td>\n",
       "      <td>6</td>\n",
       "      <td>0</td>\n",
       "      <td>199</td>\n",
       "    </tr>\n",
       "  </tbody>\n",
       "</table>\n",
       "</div>"
      ],
      "text/plain": [
       "   user_id     distance   duration       date  date_month  name  age    city  \\\n",
       "0        1  4409.919140  25.599769 2021-01-01           1  Кира   22  Тюмень   \n",
       "1        1  2617.592153  15.816871 2021-01-18           1  Кира   22  Тюмень   \n",
       "2        1   754.159807   6.232113 2021-04-20           4  Кира   22  Тюмень   \n",
       "3        1  2694.783254  18.511000 2021-08-11           8  Кира   22  Тюмень   \n",
       "4        1  4028.687306  26.265803 2021-08-28           8  Кира   22  Тюмень   \n",
       "\n",
       "  subscription_type  minute_price  start_ride_price  subscription_fee  \n",
       "0             ultra             6                 0               199  \n",
       "1             ultra             6                 0               199  \n",
       "2             ultra             6                 0               199  \n",
       "3             ultra             6                 0               199  \n",
       "4             ultra             6                 0               199  "
      ]
     },
     "execution_count": 19,
     "metadata": {},
     "output_type": "execute_result"
    }
   ],
   "source": [
    "merged_table = pd.merge(data_rides, data_users, on='user_id')\n",
    "data = pd.merge(merged_table, data_subscriptions, on='subscription_type')\n",
    "data.head()"
   ]
  },
  {
   "cell_type": "code",
   "execution_count": 20,
   "id": "1484615e",
   "metadata": {},
   "outputs": [
    {
     "name": "stdout",
     "output_type": "stream",
     "text": [
      "<class 'pandas.core.frame.DataFrame'>\n",
      "Int64Index: 18068 entries, 0 to 18067\n",
      "Data columns (total 12 columns):\n",
      " #   Column             Non-Null Count  Dtype         \n",
      "---  ------             --------------  -----         \n",
      " 0   user_id            18068 non-null  int64         \n",
      " 1   distance           18068 non-null  float64       \n",
      " 2   duration           18068 non-null  float64       \n",
      " 3   date               18068 non-null  datetime64[ns]\n",
      " 4   date_month         18068 non-null  int64         \n",
      " 5   name               18068 non-null  object        \n",
      " 6   age                18068 non-null  int64         \n",
      " 7   city               18068 non-null  object        \n",
      " 8   subscription_type  18068 non-null  object        \n",
      " 9   minute_price       18068 non-null  int64         \n",
      " 10  start_ride_price   18068 non-null  int64         \n",
      " 11  subscription_fee   18068 non-null  int64         \n",
      "dtypes: datetime64[ns](1), float64(2), int64(6), object(3)\n",
      "memory usage: 1.8+ MB\n",
      "None\n"
     ]
    }
   ],
   "source": [
    "print(data.info())"
   ]
  },
  {
   "cell_type": "markdown",
   "id": "b9bb7903",
   "metadata": {},
   "source": [
    "**Создадим из полученного датафрейма 2 новых:**\n",
    "- Пользователи с подпиской\n",
    "- Пользователи без подписки\n",
    "\n",
    "**Выведем несколько первых строк.**"
   ]
  },
  {
   "cell_type": "code",
   "execution_count": 21,
   "id": "22fb6ecd",
   "metadata": {},
   "outputs": [
    {
     "data": {
      "text/html": [
       "<div>\n",
       "<style scoped>\n",
       "    .dataframe tbody tr th:only-of-type {\n",
       "        vertical-align: middle;\n",
       "    }\n",
       "\n",
       "    .dataframe tbody tr th {\n",
       "        vertical-align: top;\n",
       "    }\n",
       "\n",
       "    .dataframe thead th {\n",
       "        text-align: right;\n",
       "    }\n",
       "</style>\n",
       "<table border=\"1\" class=\"dataframe\">\n",
       "  <thead>\n",
       "    <tr style=\"text-align: right;\">\n",
       "      <th></th>\n",
       "      <th>user_id</th>\n",
       "      <th>distance</th>\n",
       "      <th>duration</th>\n",
       "      <th>date</th>\n",
       "      <th>date_month</th>\n",
       "      <th>name</th>\n",
       "      <th>age</th>\n",
       "      <th>city</th>\n",
       "      <th>subscription_type</th>\n",
       "      <th>minute_price</th>\n",
       "      <th>start_ride_price</th>\n",
       "      <th>subscription_fee</th>\n",
       "    </tr>\n",
       "  </thead>\n",
       "  <tbody>\n",
       "    <tr>\n",
       "      <th>6500</th>\n",
       "      <td>700</td>\n",
       "      <td>2515.690719</td>\n",
       "      <td>14.944286</td>\n",
       "      <td>2021-01-02</td>\n",
       "      <td>1</td>\n",
       "      <td>Айдар</td>\n",
       "      <td>22</td>\n",
       "      <td>Омск</td>\n",
       "      <td>free</td>\n",
       "      <td>8</td>\n",
       "      <td>50</td>\n",
       "      <td>0</td>\n",
       "    </tr>\n",
       "    <tr>\n",
       "      <th>6501</th>\n",
       "      <td>700</td>\n",
       "      <td>846.932642</td>\n",
       "      <td>16.234663</td>\n",
       "      <td>2021-02-01</td>\n",
       "      <td>2</td>\n",
       "      <td>Айдар</td>\n",
       "      <td>22</td>\n",
       "      <td>Омск</td>\n",
       "      <td>free</td>\n",
       "      <td>8</td>\n",
       "      <td>50</td>\n",
       "      <td>0</td>\n",
       "    </tr>\n",
       "    <tr>\n",
       "      <th>6502</th>\n",
       "      <td>700</td>\n",
       "      <td>4004.434142</td>\n",
       "      <td>20.016628</td>\n",
       "      <td>2021-02-04</td>\n",
       "      <td>2</td>\n",
       "      <td>Айдар</td>\n",
       "      <td>22</td>\n",
       "      <td>Омск</td>\n",
       "      <td>free</td>\n",
       "      <td>8</td>\n",
       "      <td>50</td>\n",
       "      <td>0</td>\n",
       "    </tr>\n",
       "    <tr>\n",
       "      <th>6503</th>\n",
       "      <td>700</td>\n",
       "      <td>1205.911290</td>\n",
       "      <td>9.782872</td>\n",
       "      <td>2021-02-10</td>\n",
       "      <td>2</td>\n",
       "      <td>Айдар</td>\n",
       "      <td>22</td>\n",
       "      <td>Омск</td>\n",
       "      <td>free</td>\n",
       "      <td>8</td>\n",
       "      <td>50</td>\n",
       "      <td>0</td>\n",
       "    </tr>\n",
       "    <tr>\n",
       "      <th>6504</th>\n",
       "      <td>700</td>\n",
       "      <td>3047.379435</td>\n",
       "      <td>17.427673</td>\n",
       "      <td>2021-02-14</td>\n",
       "      <td>2</td>\n",
       "      <td>Айдар</td>\n",
       "      <td>22</td>\n",
       "      <td>Омск</td>\n",
       "      <td>free</td>\n",
       "      <td>8</td>\n",
       "      <td>50</td>\n",
       "      <td>0</td>\n",
       "    </tr>\n",
       "  </tbody>\n",
       "</table>\n",
       "</div>"
      ],
      "text/plain": [
       "      user_id     distance   duration       date  date_month   name  age  \\\n",
       "6500      700  2515.690719  14.944286 2021-01-02           1  Айдар   22   \n",
       "6501      700   846.932642  16.234663 2021-02-01           2  Айдар   22   \n",
       "6502      700  4004.434142  20.016628 2021-02-04           2  Айдар   22   \n",
       "6503      700  1205.911290   9.782872 2021-02-10           2  Айдар   22   \n",
       "6504      700  3047.379435  17.427673 2021-02-14           2  Айдар   22   \n",
       "\n",
       "      city subscription_type  minute_price  start_ride_price  subscription_fee  \n",
       "6500  Омск              free             8                50                 0  \n",
       "6501  Омск              free             8                50                 0  \n",
       "6502  Омск              free             8                50                 0  \n",
       "6503  Омск              free             8                50                 0  \n",
       "6504  Омск              free             8                50                 0  "
      ]
     },
     "execution_count": 21,
     "metadata": {},
     "output_type": "execute_result"
    }
   ],
   "source": [
    "data_users_free = data.query('subscription_type == \"free\"')\n",
    "data_users_free.head()"
   ]
  },
  {
   "cell_type": "code",
   "execution_count": 22,
   "id": "9ae2a139",
   "metadata": {
    "scrolled": true
   },
   "outputs": [
    {
     "name": "stdout",
     "output_type": "stream",
     "text": [
      "<class 'pandas.core.frame.DataFrame'>\n",
      "Int64Index: 6500 entries, 0 to 6499\n",
      "Data columns (total 12 columns):\n",
      " #   Column             Non-Null Count  Dtype         \n",
      "---  ------             --------------  -----         \n",
      " 0   user_id            6500 non-null   int64         \n",
      " 1   distance           6500 non-null   float64       \n",
      " 2   duration           6500 non-null   float64       \n",
      " 3   date               6500 non-null   datetime64[ns]\n",
      " 4   date_month         6500 non-null   int64         \n",
      " 5   name               6500 non-null   object        \n",
      " 6   age                6500 non-null   int64         \n",
      " 7   city               6500 non-null   object        \n",
      " 8   subscription_type  6500 non-null   object        \n",
      " 9   minute_price       6500 non-null   int64         \n",
      " 10  start_ride_price   6500 non-null   int64         \n",
      " 11  subscription_fee   6500 non-null   int64         \n",
      "dtypes: datetime64[ns](1), float64(2), int64(6), object(3)\n",
      "memory usage: 660.2+ KB\n"
     ]
    }
   ],
   "source": [
    "data_users_ultra = data.query('subscription_type == \"ultra\"')\n",
    "data_users_ultra.info()"
   ]
  },
  {
   "cell_type": "markdown",
   "id": "77c4076a",
   "metadata": {},
   "source": [
    "**Визуализируем информацию о расстоянии и времени поездок для пользователей обеих категорий.**"
   ]
  },
  {
   "cell_type": "code",
   "execution_count": 23,
   "id": "838128b8",
   "metadata": {
    "scrolled": true
   },
   "outputs": [
    {
     "data": {
      "image/png": "[encoded data removed]",
      "text/plain": [
       "<Figure size 720x432 with 1 Axes>"
      ]
     },
     "metadata": {
      "needs_background": "light"
     },
     "output_type": "display_data"
    },
    {
     "name": "stdout",
     "output_type": "stream",
     "text": [
      "count    11568.000000\n",
      "mean      3045.495282\n",
      "std       1246.173806\n",
      "min          0.855683\n",
      "25%       2366.562689\n",
      "50%       3114.648465\n",
      "75%       3905.697894\n",
      "max       7211.007745\n",
      "Name: distance, dtype: float64\n",
      "count    6500.000000\n",
      "mean     3115.445388\n",
      "std       836.895330\n",
      "min       244.210438\n",
      "25%      2785.444017\n",
      "50%      3148.637229\n",
      "75%      3560.574425\n",
      "max      5699.769662\n",
      "Name: distance, dtype: float64\n",
      "3114.648464847295\n",
      "3148.6372291760854\n"
     ]
    }
   ],
   "source": [
    "def plot_histogram(data1, data2, title1, title2):\n",
    "    plt.figure(figsize=(10, 6))\n",
    "\n",
    "    plt.hist(data1['distance'], bins=20, color='royalblue', edgecolor='black', alpha=0.7, label=title1)\n",
    "\n",
    "    plt.hist(data2['distance'], bins=20, color='limegreen', edgecolor='black', alpha=0.7, label=title2)\n",
    "\n",
    "    plt.xlabel('Расстояние поездок')\n",
    "    plt.ylabel('Частота')\n",
    "    plt.title('Распределение расстояния поездок')\n",
    "    plt.legend()\n",
    "    plt.show()\n",
    "\n",
    "plot_histogram(data_users_free, data_users_ultra, 'Пользователи без подписки', 'Пользователи с подпиской Ultra')\n",
    "print(data_users_free['distance'].describe())\n",
    "print(data_users_ultra['distance'].describe())\n",
    "print(data_users_free['distance'].median())\n",
    "print(data_users_ultra['distance'].median())"
   ]
  },
  {
   "cell_type": "code",
   "execution_count": 24,
   "id": "3d67810c",
   "metadata": {},
   "outputs": [
    {
     "data": {
      "image/png": "[encoded data removed]",
      "text/plain": [
       "<Figure size 720x432 with 1 Axes>"
      ]
     },
     "metadata": {
      "needs_background": "light"
     },
     "output_type": "display_data"
    },
    {
     "name": "stdout",
     "output_type": "stream",
     "text": [
      "count    11568.000000\n",
      "mean        17.390909\n",
      "std          6.326803\n",
      "min          0.500000\n",
      "25%         12.958437\n",
      "50%         17.326890\n",
      "75%         21.594071\n",
      "max         34.948498\n",
      "Name: duration, dtype: float64\n",
      "count    6500.000000\n",
      "mean       18.541985\n",
      "std         5.572048\n",
      "min         3.760353\n",
      "25%        14.524654\n",
      "50%        18.178153\n",
      "75%        21.884129\n",
      "max        40.823963\n",
      "Name: duration, dtype: float64\n",
      "17.326890226082043\n",
      "18.17815320055055\n"
     ]
    }
   ],
   "source": [
    "def plot_histogram(data1, data2, title1, title2):\n",
    "    plt.figure(figsize=(10, 6))\n",
    "\n",
    "    plt.hist(data1['duration'], bins=20, color='royalblue', edgecolor='black', alpha=0.7, label=title1)\n",
    "\n",
    "    plt.hist(data2['duration'], bins=20, color='limegreen', edgecolor='black', alpha=0.7, label=title2)\n",
    "\n",
    "    plt.xlabel('Длительность поездок')\n",
    "    plt.ylabel('Частота')\n",
    "    plt.title('Распределение продолжительности поездок')\n",
    "    plt.legend()\n",
    "    plt.show()\n",
    "\n",
    "plot_histogram(data_users_free, data_users_ultra, 'Пользователи без подписки', 'Пользователи с подпиской Ultra')\n",
    "print(data_users_free['duration'].describe())\n",
    "print(data_users_ultra['duration'].describe())\n",
    "print(data_users_free['duration'].median())\n",
    "print(data_users_ultra['duration'].median())"
   ]
  },
  {
   "cell_type": "markdown",
   "id": "402d620f",
   "metadata": {},
   "source": [
    "## Шаг 5. Подсчёт выручки"
   ]
  },
  {
   "cell_type": "markdown",
   "id": "2e1e0ac8",
   "metadata": {},
   "source": [
    "**Создадим датафрейм с агрегированными данными о поездках на основе датафрейма с объединёнными данными: найдем суммарное расстояние, количество поездок и суммарное время для каждого пользователя за каждый месяц. Затем добавим столбец с помесячной выручкой, которую принёс каждый пользователь.**"
   ]
  },
  {
   "cell_type": "code",
   "execution_count": 25,
   "id": "7bf04c54",
   "metadata": {
    "scrolled": false
   },
   "outputs": [
    {
     "data": {
      "text/html": [
       "<div>\n",
       "<style scoped>\n",
       "    .dataframe tbody tr th:only-of-type {\n",
       "        vertical-align: middle;\n",
       "    }\n",
       "\n",
       "    .dataframe tbody tr th {\n",
       "        vertical-align: top;\n",
       "    }\n",
       "\n",
       "    .dataframe thead th {\n",
       "        text-align: right;\n",
       "    }\n",
       "</style>\n",
       "<table border=\"1\" class=\"dataframe\">\n",
       "  <thead>\n",
       "    <tr style=\"text-align: right;\">\n",
       "      <th></th>\n",
       "      <th>user_id</th>\n",
       "      <th>date_month</th>\n",
       "      <th>total_distance</th>\n",
       "      <th>total_duration</th>\n",
       "      <th>trip_count</th>\n",
       "      <th>minute_price</th>\n",
       "      <th>start_ride_price</th>\n",
       "      <th>subscription_fee</th>\n",
       "      <th>revenue</th>\n",
       "    </tr>\n",
       "  </thead>\n",
       "  <tbody>\n",
       "    <tr>\n",
       "      <th>0</th>\n",
       "      <td>1</td>\n",
       "      <td>1</td>\n",
       "      <td>7027.511294</td>\n",
       "      <td>42.0</td>\n",
       "      <td>2</td>\n",
       "      <td>6</td>\n",
       "      <td>0</td>\n",
       "      <td>199</td>\n",
       "      <td>451.0</td>\n",
       "    </tr>\n",
       "    <tr>\n",
       "      <th>1</th>\n",
       "      <td>1</td>\n",
       "      <td>4</td>\n",
       "      <td>754.159807</td>\n",
       "      <td>7.0</td>\n",
       "      <td>1</td>\n",
       "      <td>6</td>\n",
       "      <td>0</td>\n",
       "      <td>199</td>\n",
       "      <td>241.0</td>\n",
       "    </tr>\n",
       "    <tr>\n",
       "      <th>2</th>\n",
       "      <td>1</td>\n",
       "      <td>8</td>\n",
       "      <td>6723.470560</td>\n",
       "      <td>46.0</td>\n",
       "      <td>2</td>\n",
       "      <td>6</td>\n",
       "      <td>0</td>\n",
       "      <td>199</td>\n",
       "      <td>475.0</td>\n",
       "    </tr>\n",
       "    <tr>\n",
       "      <th>3</th>\n",
       "      <td>1</td>\n",
       "      <td>10</td>\n",
       "      <td>5809.911100</td>\n",
       "      <td>32.0</td>\n",
       "      <td>2</td>\n",
       "      <td>6</td>\n",
       "      <td>0</td>\n",
       "      <td>199</td>\n",
       "      <td>391.0</td>\n",
       "    </tr>\n",
       "    <tr>\n",
       "      <th>4</th>\n",
       "      <td>1</td>\n",
       "      <td>11</td>\n",
       "      <td>7003.499363</td>\n",
       "      <td>56.0</td>\n",
       "      <td>3</td>\n",
       "      <td>6</td>\n",
       "      <td>0</td>\n",
       "      <td>199</td>\n",
       "      <td>535.0</td>\n",
       "    </tr>\n",
       "    <tr>\n",
       "      <th>5</th>\n",
       "      <td>1</td>\n",
       "      <td>12</td>\n",
       "      <td>6751.629942</td>\n",
       "      <td>28.0</td>\n",
       "      <td>2</td>\n",
       "      <td>6</td>\n",
       "      <td>0</td>\n",
       "      <td>199</td>\n",
       "      <td>367.0</td>\n",
       "    </tr>\n",
       "    <tr>\n",
       "      <th>6</th>\n",
       "      <td>2</td>\n",
       "      <td>3</td>\n",
       "      <td>10187.723006</td>\n",
       "      <td>63.0</td>\n",
       "      <td>3</td>\n",
       "      <td>6</td>\n",
       "      <td>0</td>\n",
       "      <td>199</td>\n",
       "      <td>577.0</td>\n",
       "    </tr>\n",
       "    <tr>\n",
       "      <th>7</th>\n",
       "      <td>2</td>\n",
       "      <td>4</td>\n",
       "      <td>6164.381824</td>\n",
       "      <td>40.0</td>\n",
       "      <td>2</td>\n",
       "      <td>6</td>\n",
       "      <td>0</td>\n",
       "      <td>199</td>\n",
       "      <td>439.0</td>\n",
       "    </tr>\n",
       "    <tr>\n",
       "      <th>8</th>\n",
       "      <td>2</td>\n",
       "      <td>6</td>\n",
       "      <td>3255.338202</td>\n",
       "      <td>14.0</td>\n",
       "      <td>1</td>\n",
       "      <td>6</td>\n",
       "      <td>0</td>\n",
       "      <td>199</td>\n",
       "      <td>283.0</td>\n",
       "    </tr>\n",
       "    <tr>\n",
       "      <th>9</th>\n",
       "      <td>2</td>\n",
       "      <td>7</td>\n",
       "      <td>6780.722964</td>\n",
       "      <td>48.0</td>\n",
       "      <td>2</td>\n",
       "      <td>6</td>\n",
       "      <td>0</td>\n",
       "      <td>199</td>\n",
       "      <td>487.0</td>\n",
       "    </tr>\n",
       "  </tbody>\n",
       "</table>\n",
       "</div>"
      ],
      "text/plain": [
       "   user_id  date_month  total_distance  total_duration  trip_count  \\\n",
       "0        1           1     7027.511294            42.0           2   \n",
       "1        1           4      754.159807             7.0           1   \n",
       "2        1           8     6723.470560            46.0           2   \n",
       "3        1          10     5809.911100            32.0           2   \n",
       "4        1          11     7003.499363            56.0           3   \n",
       "5        1          12     6751.629942            28.0           2   \n",
       "6        2           3    10187.723006            63.0           3   \n",
       "7        2           4     6164.381824            40.0           2   \n",
       "8        2           6     3255.338202            14.0           1   \n",
       "9        2           7     6780.722964            48.0           2   \n",
       "\n",
       "   minute_price  start_ride_price  subscription_fee  revenue  \n",
       "0             6                 0               199    451.0  \n",
       "1             6                 0               199    241.0  \n",
       "2             6                 0               199    475.0  \n",
       "3             6                 0               199    391.0  \n",
       "4             6                 0               199    535.0  \n",
       "5             6                 0               199    367.0  \n",
       "6             6                 0               199    577.0  \n",
       "7             6                 0               199    439.0  \n",
       "8             6                 0               199    283.0  \n",
       "9             6                 0               199    487.0  "
      ]
     },
     "execution_count": 25,
     "metadata": {},
     "output_type": "execute_result"
    }
   ],
   "source": [
    "import numpy as np\n",
    "\n",
    "data['duration'] = np.ceil(data['duration'])\n",
    "\n",
    "rides_df = data.groupby(['user_id', 'date_month']).agg({\n",
    "    'distance': 'sum',\n",
    "    'duration': 'sum',\n",
    "    'name' : 'count',\n",
    "    'minute_price' : 'first',\n",
    "    'start_ride_price' : 'first',\n",
    "    'subscription_fee' : 'first',\n",
    "}).reset_index()\n",
    "\n",
    "rides_df.columns = ['user_id', 'date_month', 'total_distance', 'total_duration', 'trip_count', 'minute_price', 'start_ride_price', 'subscription_fee']\n",
    "\n",
    "def revenue_func (row):    \n",
    "    return row['minute_price'] * row['total_duration'] + row['start_ride_price'] * row['trip_count'] + row['subscription_fee']\n",
    "    \n",
    "rides_df['revenue'] = rides_df.apply(revenue_func, axis=1)\n",
    "rides_df.head(10)"
   ]
  },
  {
   "cell_type": "markdown",
   "id": "41545ac0",
   "metadata": {},
   "source": [
    "## Шаг 6. Проверка гипотез"
   ]
  },
  {
   "cell_type": "markdown",
   "id": "8cc1a66a",
   "metadata": {},
   "source": [
    "**Проверим гипотезу о том, что пользователи с подпиской тратят больше времени на поездки.<br> Для этого воспользуемся библиотекой `scipy`. Сформулируем гипотезу:**\n",
    "\n",
    "- H0 : Пользователи с подпиской тратят столько же времени на поездки сколько пользователи без подписки.\n",
    "- H1 : Пользователи с подпиской тратят больше времени на поездки чем пользователи без подписки."
   ]
  },
  {
   "cell_type": "code",
   "execution_count": 26,
   "id": "4b94183e",
   "metadata": {},
   "outputs": [
    {
     "name": "stdout",
     "output_type": "stream",
     "text": [
      "p-значение: 1.2804098316645618e-34\n",
      "Отвергаем нулевую гипотезу\n"
     ]
    }
   ],
   "source": [
    "from scipy import stats as st\n",
    "\n",
    "alpha = 0.05\n",
    "\n",
    "results = st.ttest_ind(data_users_ultra['duration'], data_users_free['duration'], alternative='greater')\n",
    "\n",
    "print('p-значение:', results.pvalue)\n",
    "\n",
    "if results.pvalue < alpha:\n",
    "    print('Отвергаем нулевую гипотезу')\n",
    "else:\n",
    "    print('Не получилось отвергнуть нулевую гипотезу') "
   ]
  },
  {
   "cell_type": "markdown",
   "id": "759983db",
   "metadata": {},
   "source": [
    "Таким образом, можно сделать вывод, что средняя длительность поездок для пользователей с подпиской статистически значимо больше, чем для пользователей без подписки.<br> Простыми словами: пользователи с подпиской катаются дольше."
   ]
  },
  {
   "cell_type": "markdown",
   "id": "048a4ab3",
   "metadata": {},
   "source": [
    "**Проверим гипотезу о том, что среднее расстояние, которое проезжают пользователи с подпиской за одну поездку, не превышает \n",
    "3130 метров. Сформулируем гипотезу:**\n",
    "\n",
    "- H0 : Пользователи с подпиской проезжают в среднем 3130 метров.\n",
    "- H1 : Пользователи с подпиской проезжают больше 3130 метров."
   ]
  },
  {
   "cell_type": "code",
   "execution_count": 27,
   "id": "7f597ac7",
   "metadata": {},
   "outputs": [
    {
     "name": "stdout",
     "output_type": "stream",
     "text": [
      "p-значение: 0.9195368847849785\n",
      "Не получилось отвергнуть нулевую гипотезу\n"
     ]
    }
   ],
   "source": [
    "value = 3130\n",
    "\n",
    "alpha = 0.05\n",
    "\n",
    "results = st.ttest_1samp(data_users_ultra['distance'], value, alternative='greater')\n",
    "\n",
    "print('p-значение:', results.pvalue)\n",
    "\n",
    "if results.pvalue < alpha:\n",
    "    print('Отвергаем нулевую гипотезу')\n",
    "else:\n",
    "    print('Не получилось отвергнуть нулевую гипотезу') "
   ]
  },
  {
   "cell_type": "markdown",
   "id": "1875abb2",
   "metadata": {},
   "source": [
    "**Проверим гипотезу о том, будет ли помесячная выручка от пользователей с подпиской по месяцам выше, чем выручка от пользователей без подписки. Сравним среднее значение выручки пользователей с подпиской и без.**\n",
    "\n",
    "- H0 : Пользователи с подпиской приносят выручки столько же сколько пользователи без подписки.\n",
    "- H1 : Пользователи с подпиской приносят выручки больше чем пользователи с подпиской."
   ]
  },
  {
   "cell_type": "code",
   "execution_count": 28,
   "id": "418d2bc2",
   "metadata": {
    "scrolled": true
   },
   "outputs": [
    {
     "name": "stdout",
     "output_type": "stream",
     "text": [
      "p-значение: 1.8850394384715216e-31\n",
      "Отвергаем нулевую гипотезу\n",
      "Среднее значение выручки пользователей без подписки:  328.6413651073845\n",
      "Среднее значение выручки пользователей с подпиской:  362.7921906022502\n"
     ]
    }
   ],
   "source": [
    "alpha = 0.05\n",
    "\n",
    "revenue_users_ultra = rides_df['revenue'][rides_df['user_id'].isin(data_users_ultra['user_id'])]\n",
    "revenue_users_free = rides_df['revenue'][rides_df['user_id'].isin(data_users_free['user_id'])]\n",
    "\n",
    "results = st.ttest_ind(revenue_users_ultra, revenue_users_free, alternative='greater')\n",
    "\n",
    "revenue_users_ultra_mean = revenue_users_ultra.mean() \n",
    "revenue_users_free_mean = revenue_users_free.mean() \n",
    "\n",
    "print('p-значение:', results.pvalue)\n",
    "\n",
    "if results.pvalue < alpha:\n",
    "    print('Отвергаем нулевую гипотезу')\n",
    "else:\n",
    "    print('Не получилось отвергнуть нулевую гипотезу') \n",
    "\n",
    "print('Среднее значение выручки пользователей без подписки: ', revenue_users_free_mean)\n",
    "print('Среднее значение выручки пользователей с подпиской: ', revenue_users_ultra_mean)"
   ]
  },
  {
   "cell_type": "markdown",
   "id": "ff80de51",
   "metadata": {},
   "source": [
    "**Представим такую ситуацию: техническая команда сервиса обновила сервера, с которыми взаимодействует мобильное приложение. Она надеется, что из-за этого количество обращений в техподдержку значимо снизилось. Некоторый файл содержит для каждого пользователя данные о количестве обращений до обновления и после него.** "
   ]
  },
  {
   "cell_type": "markdown",
   "id": "61213c5e",
   "metadata": {},
   "source": [
    "## Шаг 7. Распределения"
   ]
  },
  {
   "cell_type": "markdown",
   "id": "0a84efa7",
   "metadata": {},
   "source": [
    "**Отделу маркетинга GoFast поставили задачу: нужно провести акцию с раздачей промокодов на один бесплатный месяц подписки, в рамках которой как минимум 100 существующих клиентов должны продлить эту подписку. То есть по завершении периода действия подписки пользователь может либо отказаться от неё, либо продлить, совершив соответствующий платёж.** \n",
    "\n",
    "**Эта акция уже проводилась ранее и по итогу выяснилось, что после бесплатного пробного периода подписку продлевают \n",
    "10 % пользователей. Выясните, какое минимальное количество промокодов нужно разослать, чтобы вероятность не выполнить план была примерно 5 %. Подберите параметры распределения, описывающего эту ситуацию, постройте график распределения и сформулируйте ответ на вопрос о количестве промокодов.**"
   ]
  },
  {
   "cell_type": "code",
   "execution_count": 29,
   "id": "9cfbd9f5",
   "metadata": {},
   "outputs": [
    {
     "name": "stdout",
     "output_type": "stream",
     "text": [
      "Минимальное количество промокодов (n): 1161\n"
     ]
    },
    {
     "data": {
      "image/png": "[encoded data removed]",
      "text/plain": [
       "<Figure size 720x432 with 1 Axes>"
      ]
     },
     "metadata": {
      "needs_background": "light"
     },
     "output_type": "display_data"
    }
   ],
   "source": [
    "from scipy.stats import binom\n",
    "\n",
    "# Заданные параметры\n",
    "p_success = 0.10  # Вероятность успеха (продление подписки)\n",
    "desired_successes = 100  # Минимальное количество успешных продлений подписки\n",
    "desired_failure_prob = 0.05  # Желаемая вероятность не выполнения плана\n",
    "\n",
    "# Подбор оптимального n\n",
    "n_values = np.arange(100, 2000, 1)\n",
    "failure_probs = []\n",
    "min_found = None\n",
    "\n",
    "for n in n_values:\n",
    "    failure_prob = binom.cdf(desired_successes - 1, n, p_success)\n",
    "    failure_probs.append(1 - failure_prob)\n",
    "\n",
    "    if failure_prob <= desired_failure_prob and min_found == None:\n",
    "        min_found = n\n",
    "        print(\"Минимальное количество промокодов (n):\", min_found)\n",
    "        \n",
    "\n",
    "# Построение графика\n",
    "plt.figure(figsize=(10, 6))\n",
    "plt.plot(n_values, failure_probs, marker='o', linestyle='-', color='royalblue')\n",
    "plt.axhline(desired_failure_prob, color='red', linestyle='--', label='Желаемая вероятность')\n",
    "plt.title('Вероятность не выполнения плана от количества промокодов')\n",
    "plt.xlabel('Количество промокодов (n)')\n",
    "plt.ylabel('Вероятность не выполнения плана')\n",
    "plt.legend()\n",
    "plt.show()"
   ]
  },
  {
   "cell_type": "markdown",
   "id": "3a151368",
   "metadata": {},
   "source": [
    "# Общий вывод по проекту\n",
    "    \n",
    "   Анализ данных проведен на выборке, включающей 1534 пользователей. Выявлено и успешно устранено 31 дубликат. В качестве целевой аудитории для сервиса были определены пользователи в возрасте от 20 до 30 лет.\n",
    "\n",
    "Изучение предоставленных данных показало, что пользователи без подписки чаще предпочитают короткие поездки по сравнению с пользователями, обладающими подпиской. Особенно актуально это наблюдение для пользователей с возрастом от 20 до 30 лет.\n",
    "\n",
    "Пользователи, обладающие подпиской, в среднем проезжают менее 3.13 км. Это свидетельствует о том, что расстояние, которое они преодолевают, находится в оптимальных пределах с точки зрения износа самокатов. Следовательно, можно заключить, что уровень износа самокатов данными пользователями не завышен и соответствует нормативам.    \n",
    "    \n",
    "Также установлено, что пользователи с подпиской в среднем приносят больше выручки, превышая выручку от пользователей без подписки на приблизительно 40 рублей. Эта информация является ключевой для определения максимально допустимой стоимости привлечения одного пользователя с учетом экономической целесообразности.\n",
    "\n",
    "Необходимо отметить, что на текущий момент две трети пользователей сервиса не обладают подпиской, что создает потенциальные перспективы для их привлечения. Учитывая вышеуказанные финансовые параметры, эффективные маркетинговые стратегии должны быть разработаны с учетом привлечения этой значительной части пользовательской базы, при условии, что затраты на привлечение не превысят усредненную выручку от подписанных пользователей.\n",
    "    "
   ]
  },
  {
   "cell_type": "code",
   "execution_count": null,
   "id": "10a28c80",
   "metadata": {},
   "outputs": [],
   "source": []
  }
 ],
 "metadata": {
  "ExecuteTimeLog": [
   {
    "duration": 357,
    "start_time": "2024-02-03T10:49:21.413Z"
   },
   {
    "duration": 2,
    "start_time": "2024-02-03T10:49:23.891Z"
   },
   {
    "duration": 78,
    "start_time": "2024-02-03T11:01:37.625Z"
   },
   {
    "duration": 15,
    "start_time": "2024-02-03T11:04:52.434Z"
   },
   {
    "duration": 11,
    "start_time": "2024-02-03T11:05:30.409Z"
   },
   {
    "duration": 10,
    "start_time": "2024-02-03T11:06:53.025Z"
   },
   {
    "duration": 63,
    "start_time": "2024-02-03T11:08:40.171Z"
   },
   {
    "duration": 149,
    "start_time": "2024-02-03T11:08:54.239Z"
   },
   {
    "duration": 9,
    "start_time": "2024-02-03T11:08:58.492Z"
   },
   {
    "duration": 6,
    "start_time": "2024-02-03T11:10:56.519Z"
   },
   {
    "duration": 66,
    "start_time": "2024-02-03T11:11:05.678Z"
   },
   {
    "duration": 9,
    "start_time": "2024-02-03T11:11:08.686Z"
   },
   {
    "duration": 8,
    "start_time": "2024-02-03T11:12:08.684Z"
   },
   {
    "duration": 6,
    "start_time": "2024-02-03T11:12:30.431Z"
   },
   {
    "duration": 67,
    "start_time": "2024-02-03T11:12:45.586Z"
   },
   {
    "duration": 9,
    "start_time": "2024-02-03T11:12:51.104Z"
   },
   {
    "duration": 7,
    "start_time": "2024-02-03T11:12:54.991Z"
   },
   {
    "duration": 6,
    "start_time": "2024-02-03T11:13:31.351Z"
   },
   {
    "duration": 70,
    "start_time": "2024-02-03T11:13:36.001Z"
   },
   {
    "duration": 6,
    "start_time": "2024-02-03T11:13:38.538Z"
   },
   {
    "duration": 66,
    "start_time": "2024-02-03T11:13:49.944Z"
   },
   {
    "duration": 10,
    "start_time": "2024-02-03T11:13:52.148Z"
   },
   {
    "duration": 12,
    "start_time": "2024-02-03T11:13:54.559Z"
   },
   {
    "duration": 416,
    "start_time": "2024-02-03T11:14:07.619Z"
   },
   {
    "duration": 11,
    "start_time": "2024-02-03T11:14:08.037Z"
   },
   {
    "duration": 16,
    "start_time": "2024-02-03T11:14:08.049Z"
   },
   {
    "duration": 10,
    "start_time": "2024-02-03T11:14:08.067Z"
   },
   {
    "duration": 8,
    "start_time": "2024-02-03T11:14:08.078Z"
   },
   {
    "duration": 11,
    "start_time": "2024-02-03T11:14:08.088Z"
   },
   {
    "duration": 6,
    "start_time": "2024-02-03T11:14:08.100Z"
   },
   {
    "duration": 7,
    "start_time": "2024-02-03T11:16:00.275Z"
   },
   {
    "duration": 1446,
    "start_time": "2024-02-03T11:21:08.599Z"
   },
   {
    "duration": 459,
    "start_time": "2024-02-03T11:21:17.075Z"
   },
   {
    "duration": 11,
    "start_time": "2024-02-03T11:21:17.535Z"
   },
   {
    "duration": 30,
    "start_time": "2024-02-03T11:21:17.550Z"
   },
   {
    "duration": 11,
    "start_time": "2024-02-03T11:21:17.582Z"
   },
   {
    "duration": 9,
    "start_time": "2024-02-03T11:21:17.594Z"
   },
   {
    "duration": 11,
    "start_time": "2024-02-03T11:21:17.604Z"
   },
   {
    "duration": 8,
    "start_time": "2024-02-03T11:21:17.616Z"
   },
   {
    "duration": 1231,
    "start_time": "2024-02-03T11:21:17.625Z"
   },
   {
    "duration": 9,
    "start_time": "2024-02-03T11:21:39.954Z"
   },
   {
    "duration": 6,
    "start_time": "2024-02-03T11:22:56.481Z"
   },
   {
    "duration": 6,
    "start_time": "2024-02-03T11:23:03.578Z"
   },
   {
    "duration": 12,
    "start_time": "2024-02-03T11:28:54.757Z"
   },
   {
    "duration": 17,
    "start_time": "2024-02-03T11:29:12.039Z"
   },
   {
    "duration": 15,
    "start_time": "2024-02-03T11:38:22.432Z"
   },
   {
    "duration": 5,
    "start_time": "2024-02-03T11:38:54.398Z"
   },
   {
    "duration": 6,
    "start_time": "2024-02-03T11:39:40.706Z"
   },
   {
    "duration": 413,
    "start_time": "2024-02-03T11:42:24.285Z"
   },
   {
    "duration": 160,
    "start_time": "2024-02-03T11:48:35.297Z"
   },
   {
    "duration": 146,
    "start_time": "2024-02-03T11:49:40.025Z"
   },
   {
    "duration": 16074,
    "start_time": "2024-02-03T11:52:05.838Z"
   },
   {
    "duration": 140,
    "start_time": "2024-02-03T11:52:39.882Z"
   },
   {
    "duration": 147,
    "start_time": "2024-02-03T11:52:48.584Z"
   },
   {
    "duration": 258,
    "start_time": "2024-02-03T11:54:06.664Z"
   },
   {
    "duration": 163,
    "start_time": "2024-02-03T11:54:19.620Z"
   },
   {
    "duration": 274,
    "start_time": "2024-02-03T11:55:37.995Z"
   },
   {
    "duration": 117,
    "start_time": "2024-02-03T11:56:23.922Z"
   },
   {
    "duration": 117,
    "start_time": "2024-02-03T11:57:09.598Z"
   },
   {
    "duration": 6,
    "start_time": "2024-02-03T12:29:15.585Z"
   },
   {
    "duration": 14,
    "start_time": "2024-02-03T12:29:32.845Z"
   },
   {
    "duration": 108,
    "start_time": "2024-02-03T12:29:42.893Z"
   },
   {
    "duration": 8,
    "start_time": "2024-02-03T12:31:41.997Z"
   },
   {
    "duration": 5,
    "start_time": "2024-02-03T12:31:46.042Z"
   },
   {
    "duration": 225,
    "start_time": "2024-02-03T12:32:24.821Z"
   },
   {
    "duration": 240,
    "start_time": "2024-02-03T12:32:36.511Z"
   },
   {
    "duration": 227,
    "start_time": "2024-02-03T12:33:11.012Z"
   },
   {
    "duration": 252,
    "start_time": "2024-02-03T12:33:18.867Z"
   },
   {
    "duration": 179,
    "start_time": "2024-02-03T12:33:26.883Z"
   },
   {
    "duration": 150,
    "start_time": "2024-02-03T12:33:31.470Z"
   },
   {
    "duration": 259,
    "start_time": "2024-02-03T12:34:00.806Z"
   },
   {
    "duration": 141,
    "start_time": "2024-02-03T12:34:24.109Z"
   },
   {
    "duration": 163,
    "start_time": "2024-02-03T12:34:52.918Z"
   },
   {
    "duration": 11,
    "start_time": "2024-02-03T12:35:59.035Z"
   },
   {
    "duration": 277,
    "start_time": "2024-02-03T12:36:41.482Z"
   },
   {
    "duration": 247,
    "start_time": "2024-02-03T12:37:53.127Z"
   },
   {
    "duration": 246,
    "start_time": "2024-02-03T12:38:19.402Z"
   },
   {
    "duration": 1505,
    "start_time": "2024-02-03T12:45:11.916Z"
   },
   {
    "duration": 226,
    "start_time": "2024-02-03T12:45:44.099Z"
   },
   {
    "duration": 187,
    "start_time": "2024-02-03T12:46:28.612Z"
   },
   {
    "duration": 74,
    "start_time": "2024-02-03T12:46:51.365Z"
   },
   {
    "duration": 177,
    "start_time": "2024-02-03T12:47:06.699Z"
   },
   {
    "duration": 158,
    "start_time": "2024-02-03T12:47:36.377Z"
   },
   {
    "duration": 163,
    "start_time": "2024-02-03T12:47:43.398Z"
   },
   {
    "duration": 164,
    "start_time": "2024-02-03T12:48:13.236Z"
   },
   {
    "duration": 7,
    "start_time": "2024-02-03T12:57:14.369Z"
   },
   {
    "duration": 23,
    "start_time": "2024-02-03T12:57:34.842Z"
   },
   {
    "duration": 29,
    "start_time": "2024-02-03T13:03:33.991Z"
   },
   {
    "duration": 54,
    "start_time": "2024-02-03T13:05:14.501Z"
   },
   {
    "duration": 18,
    "start_time": "2024-02-03T13:05:36.034Z"
   },
   {
    "duration": 17,
    "start_time": "2024-02-03T13:06:07.717Z"
   },
   {
    "duration": 346,
    "start_time": "2024-02-03T13:08:55.456Z"
   },
   {
    "duration": 164,
    "start_time": "2024-02-03T13:09:43.752Z"
   },
   {
    "duration": 310,
    "start_time": "2024-02-03T13:10:17.187Z"
   },
   {
    "duration": 424,
    "start_time": "2024-02-03T13:11:43.305Z"
   },
   {
    "duration": 332,
    "start_time": "2024-02-03T13:11:46.739Z"
   },
   {
    "duration": 167,
    "start_time": "2024-02-03T13:16:01.648Z"
   },
   {
    "duration": 141,
    "start_time": "2024-02-03T13:16:05.002Z"
   },
   {
    "duration": 262,
    "start_time": "2024-02-03T13:16:09.147Z"
   },
   {
    "duration": 16,
    "start_time": "2024-02-03T13:17:56.097Z"
   },
   {
    "duration": 26,
    "start_time": "2024-02-03T13:31:32.582Z"
   },
   {
    "duration": 47091,
    "start_time": "2024-02-03T13:31:43.895Z"
   },
   {
    "duration": 14,
    "start_time": "2024-02-03T13:33:00.808Z"
   },
   {
    "duration": 9,
    "start_time": "2024-02-03T13:41:36.509Z"
   },
   {
    "duration": 8,
    "start_time": "2024-02-03T13:41:51.372Z"
   },
   {
    "duration": 17,
    "start_time": "2024-02-03T13:43:03.768Z"
   },
   {
    "duration": 13,
    "start_time": "2024-02-03T13:43:17.939Z"
   },
   {
    "duration": 18,
    "start_time": "2024-02-03T13:44:11.107Z"
   },
   {
    "duration": 15,
    "start_time": "2024-02-03T13:44:39.496Z"
   },
   {
    "duration": 16,
    "start_time": "2024-02-03T13:44:44.093Z"
   },
   {
    "duration": 17,
    "start_time": "2024-02-03T13:45:21.737Z"
   },
   {
    "duration": 14,
    "start_time": "2024-02-03T13:46:58.335Z"
   },
   {
    "duration": 19,
    "start_time": "2024-02-03T13:47:18.888Z"
   },
   {
    "duration": 12,
    "start_time": "2024-02-03T13:47:50.240Z"
   },
   {
    "duration": 88,
    "start_time": "2024-02-03T13:48:10.081Z"
   },
   {
    "duration": 17,
    "start_time": "2024-02-03T13:49:36.533Z"
   },
   {
    "duration": 86,
    "start_time": "2024-02-03T13:50:19.695Z"
   },
   {
    "duration": 17,
    "start_time": "2024-02-03T13:50:45.656Z"
   },
   {
    "duration": 16,
    "start_time": "2024-02-03T13:51:37.152Z"
   },
   {
    "duration": 18,
    "start_time": "2024-02-03T13:52:28.465Z"
   },
   {
    "duration": 15,
    "start_time": "2024-02-03T13:54:12.021Z"
   },
   {
    "duration": 19,
    "start_time": "2024-02-03T13:54:41.794Z"
   },
   {
    "duration": 19,
    "start_time": "2024-02-03T13:54:57.635Z"
   },
   {
    "duration": 7,
    "start_time": "2024-02-03T13:57:41.403Z"
   },
   {
    "duration": 19,
    "start_time": "2024-02-03T13:57:45.217Z"
   },
   {
    "duration": 5,
    "start_time": "2024-02-03T13:57:47.683Z"
   },
   {
    "duration": 286,
    "start_time": "2024-02-03T14:13:33.403Z"
   },
   {
    "duration": 203,
    "start_time": "2024-02-03T14:14:04.304Z"
   },
   {
    "duration": 443,
    "start_time": "2024-02-03T14:27:29.853Z"
   },
   {
    "duration": 6,
    "start_time": "2024-02-03T14:34:32.450Z"
   },
   {
    "duration": 6,
    "start_time": "2024-02-03T14:37:12.606Z"
   },
   {
    "duration": 33,
    "start_time": "2024-02-03T14:46:39.823Z"
   },
   {
    "duration": 5,
    "start_time": "2024-02-03T14:47:08.839Z"
   },
   {
    "duration": 1185,
    "start_time": "2024-02-03T14:51:05.170Z"
   },
   {
    "duration": 114,
    "start_time": "2024-02-03T14:53:44.050Z"
   },
   {
    "duration": 11,
    "start_time": "2024-02-03T14:54:30.213Z"
   },
   {
    "duration": 7,
    "start_time": "2024-02-03T14:55:11.257Z"
   },
   {
    "duration": 83,
    "start_time": "2024-02-03T14:58:07.729Z"
   },
   {
    "duration": 6,
    "start_time": "2024-02-03T14:58:24.243Z"
   },
   {
    "duration": 287,
    "start_time": "2024-02-03T15:21:01.897Z"
   },
   {
    "duration": 271,
    "start_time": "2024-02-03T15:22:02.163Z"
   },
   {
    "duration": 273,
    "start_time": "2024-02-03T15:23:04.727Z"
   },
   {
    "duration": 1470,
    "start_time": "2024-02-03T15:33:01.272Z"
   },
   {
    "duration": 375,
    "start_time": "2024-02-03T15:33:30.053Z"
   },
   {
    "duration": 12,
    "start_time": "2024-02-03T15:38:39.027Z"
   },
   {
    "duration": 9,
    "start_time": "2024-02-03T15:38:47.649Z"
   },
   {
    "duration": 10,
    "start_time": "2024-02-03T15:39:05.601Z"
   },
   {
    "duration": 217,
    "start_time": "2024-02-03T15:39:19.188Z"
   },
   {
    "duration": 1325,
    "start_time": "2024-02-03T15:39:32.305Z"
   },
   {
    "duration": 342,
    "start_time": "2024-02-03T15:39:43.415Z"
   },
   {
    "duration": 261,
    "start_time": "2024-02-03T15:40:28.872Z"
   },
   {
    "duration": 249,
    "start_time": "2024-02-03T15:41:34.291Z"
   },
   {
    "duration": 471,
    "start_time": "2024-02-03T15:41:43.173Z"
   },
   {
    "duration": 11,
    "start_time": "2024-02-03T15:41:43.645Z"
   },
   {
    "duration": 28,
    "start_time": "2024-02-03T15:41:43.657Z"
   },
   {
    "duration": 30,
    "start_time": "2024-02-03T15:41:43.687Z"
   },
   {
    "duration": 35,
    "start_time": "2024-02-03T15:41:43.719Z"
   },
   {
    "duration": 64,
    "start_time": "2024-02-03T15:41:43.755Z"
   },
   {
    "duration": 30,
    "start_time": "2024-02-03T15:41:43.821Z"
   },
   {
    "duration": 29,
    "start_time": "2024-02-03T15:41:43.852Z"
   },
   {
    "duration": 33,
    "start_time": "2024-02-03T15:41:43.882Z"
   },
   {
    "duration": 35,
    "start_time": "2024-02-03T15:41:43.917Z"
   },
   {
    "duration": 26,
    "start_time": "2024-02-03T15:41:43.953Z"
   },
   {
    "duration": 404,
    "start_time": "2024-02-03T15:41:43.980Z"
   },
   {
    "duration": 160,
    "start_time": "2024-02-03T15:41:44.386Z"
   },
   {
    "duration": 273,
    "start_time": "2024-02-03T15:41:44.549Z"
   },
   {
    "duration": 221,
    "start_time": "2024-02-03T15:41:44.824Z"
   },
   {
    "duration": 174,
    "start_time": "2024-02-03T15:41:45.046Z"
   },
   {
    "duration": 23,
    "start_time": "2024-02-03T15:41:45.222Z"
   },
   {
    "duration": 63,
    "start_time": "2024-02-03T15:41:45.247Z"
   },
   {
    "duration": 29,
    "start_time": "2024-02-03T15:41:45.312Z"
   },
   {
    "duration": 333,
    "start_time": "2024-02-03T15:41:45.343Z"
   },
   {
    "duration": 422,
    "start_time": "2024-02-03T15:41:45.678Z"
   },
   {
    "duration": 199,
    "start_time": "2024-02-03T15:41:46.102Z"
   },
   {
    "duration": 447,
    "start_time": "2024-02-03T15:41:46.303Z"
   },
   {
    "duration": 5,
    "start_time": "2024-02-03T15:41:46.751Z"
   },
   {
    "duration": 12,
    "start_time": "2024-02-03T15:41:46.757Z"
   },
   {
    "duration": 274,
    "start_time": "2024-02-03T15:41:46.771Z"
   },
   {
    "duration": 414,
    "start_time": "2024-02-03T15:43:18.109Z"
   },
   {
    "duration": 397,
    "start_time": "2024-02-03T15:43:29.513Z"
   },
   {
    "duration": 398,
    "start_time": "2024-02-03T15:44:42.567Z"
   },
   {
    "duration": 405,
    "start_time": "2024-02-03T15:44:50.971Z"
   },
   {
    "duration": 273,
    "start_time": "2024-02-03T15:46:43.572Z"
   },
   {
    "duration": 267,
    "start_time": "2024-02-03T15:47:04.331Z"
   },
   {
    "duration": 172,
    "start_time": "2024-02-03T15:47:10.275Z"
   },
   {
    "duration": 321,
    "start_time": "2024-02-03T15:47:16.050Z"
   },
   {
    "duration": 303,
    "start_time": "2024-02-03T15:47:27.649Z"
   },
   {
    "duration": 276,
    "start_time": "2024-02-03T15:47:58.856Z"
   },
   {
    "duration": 333,
    "start_time": "2024-02-03T15:49:24.009Z"
   },
   {
    "duration": 296,
    "start_time": "2024-02-03T15:49:40.443Z"
   },
   {
    "duration": 273,
    "start_time": "2024-02-03T15:50:15.582Z"
   },
   {
    "duration": 4,
    "start_time": "2024-02-03T15:57:37.423Z"
   },
   {
    "duration": 4,
    "start_time": "2024-02-03T15:57:53.748Z"
   },
   {
    "duration": 4,
    "start_time": "2024-02-03T15:57:56.435Z"
   },
   {
    "duration": 3,
    "start_time": "2024-02-03T15:58:02.054Z"
   },
   {
    "duration": 455,
    "start_time": "2024-02-03T16:21:42.682Z"
   },
   {
    "duration": 11,
    "start_time": "2024-02-03T16:21:43.139Z"
   },
   {
    "duration": 19,
    "start_time": "2024-02-03T16:21:43.151Z"
   },
   {
    "duration": 11,
    "start_time": "2024-02-03T16:21:43.172Z"
   },
   {
    "duration": 8,
    "start_time": "2024-02-03T16:21:43.185Z"
   },
   {
    "duration": 9,
    "start_time": "2024-02-03T16:21:43.195Z"
   },
   {
    "duration": 22,
    "start_time": "2024-02-03T16:21:43.206Z"
   },
   {
    "duration": 9,
    "start_time": "2024-02-03T16:21:43.230Z"
   },
   {
    "duration": 6,
    "start_time": "2024-02-03T16:21:43.241Z"
   },
   {
    "duration": 11,
    "start_time": "2024-02-03T16:21:43.250Z"
   },
   {
    "duration": 23,
    "start_time": "2024-02-03T16:21:43.263Z"
   },
   {
    "duration": 453,
    "start_time": "2024-02-03T16:21:43.287Z"
   },
   {
    "duration": 155,
    "start_time": "2024-02-03T16:21:43.741Z"
   },
   {
    "duration": 302,
    "start_time": "2024-02-03T16:21:43.898Z"
   },
   {
    "duration": 230,
    "start_time": "2024-02-03T16:21:44.202Z"
   },
   {
    "duration": 171,
    "start_time": "2024-02-03T16:21:44.434Z"
   },
   {
    "duration": 34,
    "start_time": "2024-02-03T16:21:44.606Z"
   },
   {
    "duration": 17,
    "start_time": "2024-02-03T16:21:44.642Z"
   },
   {
    "duration": 14,
    "start_time": "2024-02-03T16:21:44.660Z"
   },
   {
    "duration": 389,
    "start_time": "2024-02-03T16:21:44.676Z"
   },
   {
    "duration": 344,
    "start_time": "2024-02-03T16:21:45.067Z"
   },
   {
    "duration": 229,
    "start_time": "2024-02-03T16:21:45.413Z"
   },
   {
    "duration": 462,
    "start_time": "2024-02-03T16:21:45.644Z"
   },
   {
    "duration": 5,
    "start_time": "2024-02-03T16:21:46.108Z"
   },
   {
    "duration": 13,
    "start_time": "2024-02-03T16:21:46.114Z"
   },
   {
    "duration": 9,
    "start_time": "2024-02-03T16:21:46.128Z"
   },
   {
    "duration": 13,
    "start_time": "2024-02-03T16:25:38.939Z"
   },
   {
    "duration": 29,
    "start_time": "2024-02-03T16:28:28.916Z"
   },
   {
    "duration": 103,
    "start_time": "2024-02-03T16:30:18.364Z"
   },
   {
    "duration": 215,
    "start_time": "2024-02-03T16:32:34.669Z"
   },
   {
    "duration": 16,
    "start_time": "2024-02-03T16:32:37.557Z"
   },
   {
    "duration": 167,
    "start_time": "2024-02-03T16:33:23.920Z"
   },
   {
    "duration": 16,
    "start_time": "2024-02-03T16:33:25.845Z"
   },
   {
    "duration": 215,
    "start_time": "2024-02-03T16:34:41.402Z"
   },
   {
    "duration": 80,
    "start_time": "2024-02-03T16:34:50.997Z"
   },
   {
    "duration": 113,
    "start_time": "2024-02-03T16:35:02.821Z"
   },
   {
    "duration": 160,
    "start_time": "2024-02-03T16:35:04.109Z"
   },
   {
    "duration": 16,
    "start_time": "2024-02-03T16:35:05.917Z"
   },
   {
    "duration": 310,
    "start_time": "2024-02-03T16:35:35.797Z"
   },
   {
    "duration": 176,
    "start_time": "2024-02-03T16:35:45.293Z"
   },
   {
    "duration": 10,
    "start_time": "2024-02-03T16:35:51.421Z"
   },
   {
    "duration": 138,
    "start_time": "2024-02-03T16:37:02.386Z"
   },
   {
    "duration": 9,
    "start_time": "2024-02-03T16:37:05.678Z"
   },
   {
    "duration": 21,
    "start_time": "2024-02-03T16:37:33.422Z"
   },
   {
    "duration": 23,
    "start_time": "2024-02-03T16:37:45.605Z"
   },
   {
    "duration": 303,
    "start_time": "2024-02-03T16:37:55.941Z"
   },
   {
    "duration": 11,
    "start_time": "2024-02-03T16:38:04.381Z"
   },
   {
    "duration": 196,
    "start_time": "2024-02-03T16:38:47.894Z"
   },
   {
    "duration": 16,
    "start_time": "2024-02-03T16:39:02.174Z"
   },
   {
    "duration": 502,
    "start_time": "2024-02-03T16:46:42.103Z"
   },
   {
    "duration": 12,
    "start_time": "2024-02-03T16:46:42.607Z"
   },
   {
    "duration": 21,
    "start_time": "2024-02-03T16:46:42.620Z"
   },
   {
    "duration": 11,
    "start_time": "2024-02-03T16:46:42.643Z"
   },
   {
    "duration": 8,
    "start_time": "2024-02-03T16:46:42.657Z"
   },
   {
    "duration": 10,
    "start_time": "2024-02-03T16:46:42.666Z"
   },
   {
    "duration": 13,
    "start_time": "2024-02-03T16:46:42.678Z"
   },
   {
    "duration": 35,
    "start_time": "2024-02-03T16:46:42.693Z"
   },
   {
    "duration": 7,
    "start_time": "2024-02-03T16:46:42.729Z"
   },
   {
    "duration": 12,
    "start_time": "2024-02-03T16:46:42.737Z"
   },
   {
    "duration": 15,
    "start_time": "2024-02-03T16:46:42.750Z"
   },
   {
    "duration": 440,
    "start_time": "2024-02-03T16:46:42.766Z"
   },
   {
    "duration": 157,
    "start_time": "2024-02-03T16:46:43.208Z"
   },
   {
    "duration": 294,
    "start_time": "2024-02-03T16:46:43.368Z"
   },
   {
    "duration": 236,
    "start_time": "2024-02-03T16:46:43.663Z"
   },
   {
    "duration": 194,
    "start_time": "2024-02-03T16:46:43.901Z"
   },
   {
    "duration": 29,
    "start_time": "2024-02-03T16:46:44.097Z"
   },
   {
    "duration": 18,
    "start_time": "2024-02-03T16:46:44.128Z"
   },
   {
    "duration": 14,
    "start_time": "2024-02-03T16:46:44.147Z"
   },
   {
    "duration": 371,
    "start_time": "2024-02-03T16:46:44.163Z"
   },
   {
    "duration": 377,
    "start_time": "2024-02-03T16:46:44.536Z"
   },
   {
    "duration": 211,
    "start_time": "2024-02-03T16:46:44.915Z"
   },
   {
    "duration": 533,
    "start_time": "2024-02-03T16:46:45.128Z"
   },
   {
    "duration": 5,
    "start_time": "2024-02-03T16:46:45.663Z"
   },
   {
    "duration": 19,
    "start_time": "2024-02-03T16:46:45.669Z"
   },
   {
    "duration": 14,
    "start_time": "2024-02-03T16:46:45.690Z"
   },
   {
    "duration": 476,
    "start_time": "2024-02-03T16:48:52.331Z"
   },
   {
    "duration": 11,
    "start_time": "2024-02-03T16:48:52.809Z"
   },
   {
    "duration": 32,
    "start_time": "2024-02-03T16:48:52.824Z"
   },
   {
    "duration": 26,
    "start_time": "2024-02-03T16:48:52.858Z"
   },
   {
    "duration": 19,
    "start_time": "2024-02-03T16:48:52.886Z"
   },
   {
    "duration": 44,
    "start_time": "2024-02-03T16:48:52.906Z"
   },
   {
    "duration": 17,
    "start_time": "2024-02-03T16:48:52.952Z"
   },
   {
    "duration": 35,
    "start_time": "2024-02-03T16:48:52.970Z"
   },
   {
    "duration": 23,
    "start_time": "2024-02-03T16:48:53.008Z"
   },
   {
    "duration": 22,
    "start_time": "2024-02-03T16:48:53.033Z"
   },
   {
    "duration": 16,
    "start_time": "2024-02-03T16:48:53.057Z"
   },
   {
    "duration": 434,
    "start_time": "2024-02-03T16:48:53.074Z"
   },
   {
    "duration": 173,
    "start_time": "2024-02-03T16:48:53.510Z"
   },
   {
    "duration": 277,
    "start_time": "2024-02-03T16:48:53.685Z"
   },
   {
    "duration": 229,
    "start_time": "2024-02-03T16:48:53.964Z"
   },
   {
    "duration": 183,
    "start_time": "2024-02-03T16:48:54.195Z"
   },
   {
    "duration": 24,
    "start_time": "2024-02-03T16:48:54.379Z"
   },
   {
    "duration": 28,
    "start_time": "2024-02-03T16:48:54.405Z"
   },
   {
    "duration": 14,
    "start_time": "2024-02-03T16:48:54.434Z"
   },
   {
    "duration": 374,
    "start_time": "2024-02-03T16:48:54.449Z"
   },
   {
    "duration": 373,
    "start_time": "2024-02-03T16:48:54.825Z"
   },
   {
    "duration": 212,
    "start_time": "2024-02-03T16:48:55.200Z"
   },
   {
    "duration": 497,
    "start_time": "2024-02-03T16:48:55.413Z"
   },
   {
    "duration": 4,
    "start_time": "2024-02-03T16:48:55.912Z"
   },
   {
    "duration": 41,
    "start_time": "2024-02-03T16:48:55.922Z"
   },
   {
    "duration": 27,
    "start_time": "2024-02-03T16:48:55.965Z"
   },
   {
    "duration": 52,
    "start_time": "2024-02-04T06:52:19.032Z"
   },
   {
    "duration": 653,
    "start_time": "2024-02-04T06:52:26.646Z"
   },
   {
    "duration": 12,
    "start_time": "2024-02-04T06:52:27.301Z"
   },
   {
    "duration": 30,
    "start_time": "2024-02-04T06:52:27.315Z"
   },
   {
    "duration": 25,
    "start_time": "2024-02-04T06:52:27.347Z"
   },
   {
    "duration": 21,
    "start_time": "2024-02-04T06:52:27.373Z"
   },
   {
    "duration": 26,
    "start_time": "2024-02-04T06:52:27.395Z"
   },
   {
    "duration": 45,
    "start_time": "2024-02-04T06:52:27.423Z"
   },
   {
    "duration": 10,
    "start_time": "2024-02-04T06:52:27.470Z"
   },
   {
    "duration": 7,
    "start_time": "2024-02-04T06:52:27.482Z"
   },
   {
    "duration": 37,
    "start_time": "2024-02-04T06:52:27.491Z"
   },
   {
    "duration": 13,
    "start_time": "2024-02-04T06:52:27.530Z"
   },
   {
    "duration": 16,
    "start_time": "2024-02-04T06:52:27.544Z"
   },
   {
    "duration": 644,
    "start_time": "2024-02-04T06:52:27.561Z"
   },
   {
    "duration": 166,
    "start_time": "2024-02-04T06:52:28.209Z"
   },
   {
    "duration": 294,
    "start_time": "2024-02-04T06:52:28.377Z"
   },
   {
    "duration": 245,
    "start_time": "2024-02-04T06:52:28.673Z"
   },
   {
    "duration": 198,
    "start_time": "2024-02-04T06:52:28.920Z"
   },
   {
    "duration": 27,
    "start_time": "2024-02-04T06:52:29.120Z"
   },
   {
    "duration": 20,
    "start_time": "2024-02-04T06:52:29.148Z"
   },
   {
    "duration": 37,
    "start_time": "2024-02-04T06:52:29.169Z"
   },
   {
    "duration": 372,
    "start_time": "2024-02-04T06:52:29.207Z"
   },
   {
    "duration": 395,
    "start_time": "2024-02-04T06:52:29.581Z"
   },
   {
    "duration": 231,
    "start_time": "2024-02-04T06:52:29.978Z"
   },
   {
    "duration": 493,
    "start_time": "2024-02-04T06:52:30.211Z"
   },
   {
    "duration": 5,
    "start_time": "2024-02-04T06:52:30.706Z"
   },
   {
    "duration": 96,
    "start_time": "2024-02-04T06:52:30.712Z"
   },
   {
    "duration": 68,
    "start_time": "2024-02-04T06:52:30.810Z"
   },
   {
    "duration": 70,
    "start_time": "2024-02-04T06:56:08.704Z"
   },
   {
    "duration": 76,
    "start_time": "2024-02-04T06:56:19.423Z"
   },
   {
    "duration": 7,
    "start_time": "2024-02-04T06:57:57.291Z"
   },
   {
    "duration": 12,
    "start_time": "2024-02-04T06:58:33.750Z"
   },
   {
    "duration": 199,
    "start_time": "2024-02-04T07:00:31.735Z"
   },
   {
    "duration": 210,
    "start_time": "2024-02-04T07:02:21.753Z"
   },
   {
    "duration": 112,
    "start_time": "2024-02-04T07:04:27.236Z"
   },
   {
    "duration": 101,
    "start_time": "2024-02-04T07:05:12.325Z"
   },
   {
    "duration": 126,
    "start_time": "2024-02-04T07:05:21.117Z"
   },
   {
    "duration": 91,
    "start_time": "2024-02-04T07:05:26.399Z"
   },
   {
    "duration": 89,
    "start_time": "2024-02-04T07:05:37.265Z"
   },
   {
    "duration": 9,
    "start_time": "2024-02-04T07:07:46.834Z"
   },
   {
    "duration": 20,
    "start_time": "2024-02-04T07:16:36.268Z"
   },
   {
    "duration": 27,
    "start_time": "2024-02-04T07:19:30.419Z"
   },
   {
    "duration": 20,
    "start_time": "2024-02-04T07:19:35.910Z"
   },
   {
    "duration": 35,
    "start_time": "2024-02-04T07:19:56.576Z"
   },
   {
    "duration": 33,
    "start_time": "2024-02-04T07:22:12.466Z"
   },
   {
    "duration": 18,
    "start_time": "2024-02-04T07:22:28.335Z"
   },
   {
    "duration": 11,
    "start_time": "2024-02-04T07:22:55.436Z"
   },
   {
    "duration": 2791,
    "start_time": "2024-02-04T07:23:25.553Z"
   },
   {
    "duration": 13,
    "start_time": "2024-02-04T07:23:45.740Z"
   },
   {
    "duration": 11,
    "start_time": "2024-02-04T07:25:37.256Z"
   },
   {
    "duration": 11,
    "start_time": "2024-02-04T07:26:15.937Z"
   },
   {
    "duration": 16,
    "start_time": "2024-02-04T07:27:46.504Z"
   },
   {
    "duration": 486,
    "start_time": "2024-02-04T07:28:12.099Z"
   },
   {
    "duration": 11,
    "start_time": "2024-02-04T07:28:12.587Z"
   },
   {
    "duration": 26,
    "start_time": "2024-02-04T07:28:12.600Z"
   },
   {
    "duration": 11,
    "start_time": "2024-02-04T07:28:12.627Z"
   },
   {
    "duration": 11,
    "start_time": "2024-02-04T07:28:12.640Z"
   },
   {
    "duration": 13,
    "start_time": "2024-02-04T07:28:12.653Z"
   },
   {
    "duration": 25,
    "start_time": "2024-02-04T07:28:12.667Z"
   },
   {
    "duration": 9,
    "start_time": "2024-02-04T07:28:12.694Z"
   },
   {
    "duration": 8,
    "start_time": "2024-02-04T07:28:12.705Z"
   },
   {
    "duration": 14,
    "start_time": "2024-02-04T07:28:12.714Z"
   },
   {
    "duration": 10,
    "start_time": "2024-02-04T07:28:12.729Z"
   },
   {
    "duration": 21,
    "start_time": "2024-02-04T07:28:12.740Z"
   },
   {
    "duration": 491,
    "start_time": "2024-02-04T07:28:12.762Z"
   },
   {
    "duration": 101,
    "start_time": "2024-02-04T07:28:13.256Z"
   },
   {
    "duration": 305,
    "start_time": "2024-02-04T07:28:13.359Z"
   },
   {
    "duration": 9,
    "start_time": "2024-02-04T07:28:13.665Z"
   },
   {
    "duration": 251,
    "start_time": "2024-02-04T07:28:13.675Z"
   },
   {
    "duration": 192,
    "start_time": "2024-02-04T07:28:13.927Z"
   },
   {
    "duration": 13,
    "start_time": "2024-02-04T07:28:14.120Z"
   },
   {
    "duration": 88,
    "start_time": "2024-02-04T07:28:14.134Z"
   },
   {
    "duration": 0,
    "start_time": "2024-02-04T07:28:14.223Z"
   },
   {
    "duration": 1,
    "start_time": "2024-02-04T07:28:14.224Z"
   },
   {
    "duration": 0,
    "start_time": "2024-02-04T07:28:14.226Z"
   },
   {
    "duration": 0,
    "start_time": "2024-02-04T07:28:14.227Z"
   },
   {
    "duration": 0,
    "start_time": "2024-02-04T07:28:14.228Z"
   },
   {
    "duration": 0,
    "start_time": "2024-02-04T07:28:14.229Z"
   },
   {
    "duration": 0,
    "start_time": "2024-02-04T07:28:14.230Z"
   },
   {
    "duration": 0,
    "start_time": "2024-02-04T07:28:14.231Z"
   },
   {
    "duration": 0,
    "start_time": "2024-02-04T07:28:14.232Z"
   },
   {
    "duration": 34,
    "start_time": "2024-02-04T07:31:49.979Z"
   },
   {
    "duration": 491,
    "start_time": "2024-02-04T07:32:04.397Z"
   },
   {
    "duration": 12,
    "start_time": "2024-02-04T07:32:04.889Z"
   },
   {
    "duration": 19,
    "start_time": "2024-02-04T07:32:04.902Z"
   },
   {
    "duration": 11,
    "start_time": "2024-02-04T07:32:04.923Z"
   },
   {
    "duration": 10,
    "start_time": "2024-02-04T07:32:04.936Z"
   },
   {
    "duration": 26,
    "start_time": "2024-02-04T07:32:04.947Z"
   },
   {
    "duration": 21,
    "start_time": "2024-02-04T07:32:04.975Z"
   },
   {
    "duration": 11,
    "start_time": "2024-02-04T07:32:04.997Z"
   },
   {
    "duration": 9,
    "start_time": "2024-02-04T07:32:05.010Z"
   },
   {
    "duration": 8,
    "start_time": "2024-02-04T07:32:05.022Z"
   },
   {
    "duration": 26,
    "start_time": "2024-02-04T07:32:05.032Z"
   },
   {
    "duration": 32,
    "start_time": "2024-02-04T07:32:05.060Z"
   },
   {
    "duration": 459,
    "start_time": "2024-02-04T07:32:05.094Z"
   },
   {
    "duration": 102,
    "start_time": "2024-02-04T07:32:05.555Z"
   },
   {
    "duration": 314,
    "start_time": "2024-02-04T07:32:05.658Z"
   },
   {
    "duration": 8,
    "start_time": "2024-02-04T07:32:05.973Z"
   },
   {
    "duration": 245,
    "start_time": "2024-02-04T07:32:05.983Z"
   },
   {
    "duration": 194,
    "start_time": "2024-02-04T07:32:06.229Z"
   },
   {
    "duration": 29,
    "start_time": "2024-02-04T07:32:06.424Z"
   },
   {
    "duration": 19,
    "start_time": "2024-02-04T07:32:06.454Z"
   },
   {
    "duration": 33,
    "start_time": "2024-02-04T07:32:06.475Z"
   },
   {
    "duration": 15,
    "start_time": "2024-02-04T07:32:06.510Z"
   },
   {
    "duration": 390,
    "start_time": "2024-02-04T07:32:06.526Z"
   },
   {
    "duration": 381,
    "start_time": "2024-02-04T07:32:06.918Z"
   },
   {
    "duration": 227,
    "start_time": "2024-02-04T07:32:07.301Z"
   },
   {
    "duration": 476,
    "start_time": "2024-02-04T07:32:07.530Z"
   },
   {
    "duration": 5,
    "start_time": "2024-02-04T07:32:08.008Z"
   },
   {
    "duration": 10,
    "start_time": "2024-02-04T07:32:08.015Z"
   },
   {
    "duration": 4,
    "start_time": "2024-02-04T07:32:08.027Z"
   },
   {
    "duration": 22,
    "start_time": "2024-02-04T07:37:09.662Z"
   },
   {
    "duration": 5,
    "start_time": "2024-02-04T07:38:12.903Z"
   },
   {
    "duration": 5,
    "start_time": "2024-02-04T07:38:23.132Z"
   },
   {
    "duration": 12,
    "start_time": "2024-02-04T07:38:37.754Z"
   },
   {
    "duration": 489,
    "start_time": "2024-02-04T07:38:48.809Z"
   },
   {
    "duration": 11,
    "start_time": "2024-02-04T07:38:49.300Z"
   },
   {
    "duration": 23,
    "start_time": "2024-02-04T07:38:49.313Z"
   },
   {
    "duration": 12,
    "start_time": "2024-02-04T07:38:49.337Z"
   },
   {
    "duration": 9,
    "start_time": "2024-02-04T07:38:49.351Z"
   },
   {
    "duration": 14,
    "start_time": "2024-02-04T07:38:49.361Z"
   },
   {
    "duration": 7,
    "start_time": "2024-02-04T07:38:49.391Z"
   },
   {
    "duration": 11,
    "start_time": "2024-02-04T07:38:49.400Z"
   },
   {
    "duration": 8,
    "start_time": "2024-02-04T07:38:49.413Z"
   },
   {
    "duration": 4,
    "start_time": "2024-02-04T07:38:49.422Z"
   },
   {
    "duration": 11,
    "start_time": "2024-02-04T07:38:49.428Z"
   },
   {
    "duration": 13,
    "start_time": "2024-02-04T07:38:49.441Z"
   },
   {
    "duration": 496,
    "start_time": "2024-02-04T07:38:49.491Z"
   },
   {
    "duration": 102,
    "start_time": "2024-02-04T07:38:49.991Z"
   },
   {
    "duration": 314,
    "start_time": "2024-02-04T07:38:50.095Z"
   },
   {
    "duration": 9,
    "start_time": "2024-02-04T07:38:50.410Z"
   },
   {
    "duration": 249,
    "start_time": "2024-02-04T07:38:50.421Z"
   },
   {
    "duration": 193,
    "start_time": "2024-02-04T07:38:50.672Z"
   },
   {
    "duration": 31,
    "start_time": "2024-02-04T07:38:50.866Z"
   },
   {
    "duration": 19,
    "start_time": "2024-02-04T07:38:50.899Z"
   },
   {
    "duration": 19,
    "start_time": "2024-02-04T07:38:50.920Z"
   },
   {
    "duration": 15,
    "start_time": "2024-02-04T07:38:50.941Z"
   },
   {
    "duration": 423,
    "start_time": "2024-02-04T07:38:50.958Z"
   },
   {
    "duration": 378,
    "start_time": "2024-02-04T07:38:51.391Z"
   },
   {
    "duration": 213,
    "start_time": "2024-02-04T07:38:51.771Z"
   },
   {
    "duration": 515,
    "start_time": "2024-02-04T07:38:51.985Z"
   },
   {
    "duration": 5,
    "start_time": "2024-02-04T07:38:52.502Z"
   },
   {
    "duration": 19,
    "start_time": "2024-02-04T07:38:52.509Z"
   },
   {
    "duration": 25,
    "start_time": "2024-02-04T07:38:52.529Z"
   },
   {
    "duration": 15,
    "start_time": "2024-02-04T07:40:51.227Z"
   },
   {
    "duration": 15,
    "start_time": "2024-02-04T07:41:22.831Z"
   },
   {
    "duration": 29,
    "start_time": "2024-02-04T07:41:34.707Z"
   },
   {
    "duration": 259,
    "start_time": "2024-02-04T07:43:58.274Z"
   },
   {
    "duration": 254,
    "start_time": "2024-02-04T07:44:27.644Z"
   },
   {
    "duration": 299,
    "start_time": "2024-02-04T07:45:46.613Z"
   },
   {
    "duration": 259,
    "start_time": "2024-02-04T07:46:33.146Z"
   },
   {
    "duration": 274,
    "start_time": "2024-02-04T07:48:34.794Z"
   },
   {
    "duration": 300,
    "start_time": "2024-02-04T07:58:41.672Z"
   },
   {
    "duration": 303,
    "start_time": "2024-02-04T07:59:00.567Z"
   },
   {
    "duration": 173,
    "start_time": "2024-02-04T08:01:37.373Z"
   },
   {
    "duration": 81,
    "start_time": "2024-02-04T08:03:41.226Z"
   },
   {
    "duration": 71,
    "start_time": "2024-02-04T08:03:49.909Z"
   },
   {
    "duration": 399,
    "start_time": "2024-02-04T08:03:56.591Z"
   },
   {
    "duration": 176,
    "start_time": "2024-02-04T08:04:59.565Z"
   },
   {
    "duration": 80,
    "start_time": "2024-02-04T08:07:15.208Z"
   },
   {
    "duration": 175,
    "start_time": "2024-02-04T08:07:23.487Z"
   },
   {
    "duration": 195,
    "start_time": "2024-02-04T08:10:18.588Z"
   },
   {
    "duration": 219,
    "start_time": "2024-02-04T08:11:08.737Z"
   },
   {
    "duration": 242,
    "start_time": "2024-02-04T08:13:27.607Z"
   },
   {
    "duration": 6,
    "start_time": "2024-02-04T10:46:45.945Z"
   },
   {
    "duration": 69,
    "start_time": "2024-02-04T10:47:49.026Z"
   },
   {
    "duration": 7,
    "start_time": "2024-02-04T10:53:57.532Z"
   },
   {
    "duration": 17,
    "start_time": "2024-02-04T11:13:00.079Z"
   },
   {
    "duration": 289,
    "start_time": "2024-02-04T11:14:33.814Z"
   },
   {
    "duration": 427,
    "start_time": "2024-02-04T17:54:26.378Z"
   },
   {
    "duration": 10,
    "start_time": "2024-02-04T17:54:26.807Z"
   },
   {
    "duration": 20,
    "start_time": "2024-02-04T17:54:26.819Z"
   },
   {
    "duration": 12,
    "start_time": "2024-02-04T17:54:26.841Z"
   },
   {
    "duration": 14,
    "start_time": "2024-02-04T17:54:26.854Z"
   },
   {
    "duration": 10,
    "start_time": "2024-02-04T17:54:26.869Z"
   },
   {
    "duration": 7,
    "start_time": "2024-02-04T17:54:26.880Z"
   },
   {
    "duration": 9,
    "start_time": "2024-02-04T17:54:26.888Z"
   },
   {
    "duration": 7,
    "start_time": "2024-02-04T17:54:26.899Z"
   },
   {
    "duration": 36,
    "start_time": "2024-02-04T17:54:26.909Z"
   },
   {
    "duration": 11,
    "start_time": "2024-02-04T17:54:26.949Z"
   },
   {
    "duration": 12,
    "start_time": "2024-02-04T17:54:26.961Z"
   },
   {
    "duration": 412,
    "start_time": "2024-02-04T17:54:26.975Z"
   },
   {
    "duration": 89,
    "start_time": "2024-02-04T17:54:27.389Z"
   },
   {
    "duration": 302,
    "start_time": "2024-02-04T17:54:27.480Z"
   },
   {
    "duration": 10,
    "start_time": "2024-02-04T17:54:27.783Z"
   },
   {
    "duration": 248,
    "start_time": "2024-02-04T17:54:27.794Z"
   },
   {
    "duration": 174,
    "start_time": "2024-02-04T17:54:28.044Z"
   },
   {
    "duration": 33,
    "start_time": "2024-02-04T17:54:28.220Z"
   },
   {
    "duration": 13,
    "start_time": "2024-02-04T17:54:28.255Z"
   },
   {
    "duration": 16,
    "start_time": "2024-02-04T17:54:28.270Z"
   },
   {
    "duration": 14,
    "start_time": "2024-02-04T17:54:28.288Z"
   },
   {
    "duration": 235,
    "start_time": "2024-02-04T17:54:28.335Z"
   },
   {
    "duration": 236,
    "start_time": "2024-02-04T17:54:28.571Z"
   },
   {
    "duration": 211,
    "start_time": "2024-02-04T17:54:28.809Z"
   },
   {
    "duration": 397,
    "start_time": "2024-02-04T17:54:29.022Z"
   },
   {
    "duration": 5,
    "start_time": "2024-02-04T17:54:29.420Z"
   },
   {
    "duration": 8,
    "start_time": "2024-02-04T17:54:29.439Z"
   },
   {
    "duration": 334,
    "start_time": "2024-02-04T17:54:29.449Z"
   },
   {
    "duration": 103,
    "start_time": "2024-02-04T18:03:28.884Z"
   },
   {
    "duration": 11,
    "start_time": "2024-02-04T18:03:34.914Z"
   },
   {
    "duration": 5,
    "start_time": "2024-02-04T18:04:24.588Z"
   },
   {
    "duration": 685,
    "start_time": "2024-02-04T18:08:09.725Z"
   },
   {
    "duration": 286,
    "start_time": "2024-02-04T18:09:37.414Z"
   },
   {
    "duration": 295,
    "start_time": "2024-02-04T18:09:57.613Z"
   },
   {
    "duration": 291,
    "start_time": "2024-02-04T18:10:07.181Z"
   },
   {
    "duration": 259,
    "start_time": "2024-02-04T18:10:48.853Z"
   },
   {
    "duration": 11,
    "start_time": "2024-02-04T18:13:06.645Z"
   },
   {
    "duration": 314,
    "start_time": "2024-02-04T18:13:13.805Z"
   },
   {
    "duration": 163,
    "start_time": "2024-02-04T18:13:21.117Z"
   },
   {
    "duration": 32,
    "start_time": "2024-02-04T18:13:29.373Z"
   },
   {
    "duration": 47,
    "start_time": "2024-02-04T18:13:43.505Z"
   },
   {
    "duration": 21,
    "start_time": "2024-02-04T18:13:55.877Z"
   },
   {
    "duration": 280,
    "start_time": "2024-02-04T18:15:25.925Z"
   },
   {
    "duration": 271,
    "start_time": "2024-02-04T18:16:03.641Z"
   },
   {
    "duration": 282,
    "start_time": "2024-02-04T18:16:21.821Z"
   },
   {
    "duration": 244,
    "start_time": "2024-02-04T18:16:28.766Z"
   },
   {
    "duration": 197,
    "start_time": "2024-02-04T18:16:34.345Z"
   },
   {
    "duration": 20,
    "start_time": "2024-02-04T18:16:40.126Z"
   },
   {
    "duration": 16,
    "start_time": "2024-02-04T18:16:56.277Z"
   },
   {
    "duration": 21,
    "start_time": "2024-02-04T18:17:01.822Z"
   },
   {
    "duration": 128,
    "start_time": "2024-02-04T18:18:11.557Z"
   },
   {
    "duration": 27,
    "start_time": "2024-02-04T18:18:19.822Z"
   },
   {
    "duration": 270,
    "start_time": "2024-02-04T18:18:36.336Z"
   },
   {
    "duration": 133,
    "start_time": "2024-02-04T18:18:42.509Z"
   },
   {
    "duration": 125,
    "start_time": "2024-02-04T18:18:48.270Z"
   },
   {
    "duration": 137,
    "start_time": "2024-02-04T18:18:52.765Z"
   },
   {
    "duration": 17,
    "start_time": "2024-02-04T18:18:59.550Z"
   },
   {
    "duration": 28,
    "start_time": "2024-02-04T18:19:05.742Z"
   },
   {
    "duration": 316,
    "start_time": "2024-02-04T18:19:13.612Z"
   },
   {
    "duration": 20,
    "start_time": "2024-02-04T18:21:58.310Z"
   },
   {
    "duration": 145,
    "start_time": "2024-02-04T18:22:05.918Z"
   },
   {
    "duration": 450,
    "start_time": "2024-02-04T18:27:37.055Z"
   },
   {
    "duration": 10,
    "start_time": "2024-02-04T18:27:37.507Z"
   },
   {
    "duration": 21,
    "start_time": "2024-02-04T18:27:37.519Z"
   },
   {
    "duration": 12,
    "start_time": "2024-02-04T18:27:37.544Z"
   },
   {
    "duration": 8,
    "start_time": "2024-02-04T18:27:37.558Z"
   },
   {
    "duration": 11,
    "start_time": "2024-02-04T18:27:37.567Z"
   },
   {
    "duration": 7,
    "start_time": "2024-02-04T18:27:37.580Z"
   },
   {
    "duration": 12,
    "start_time": "2024-02-04T18:27:37.589Z"
   },
   {
    "duration": 6,
    "start_time": "2024-02-04T18:27:37.603Z"
   },
   {
    "duration": 8,
    "start_time": "2024-02-04T18:27:37.635Z"
   },
   {
    "duration": 13,
    "start_time": "2024-02-04T18:27:37.645Z"
   },
   {
    "duration": 27,
    "start_time": "2024-02-04T18:27:37.660Z"
   },
   {
    "duration": 414,
    "start_time": "2024-02-04T18:27:37.689Z"
   },
   {
    "duration": 90,
    "start_time": "2024-02-04T18:27:38.107Z"
   },
   {
    "duration": 275,
    "start_time": "2024-02-04T18:27:38.199Z"
   },
   {
    "duration": 7,
    "start_time": "2024-02-04T18:27:38.476Z"
   },
   {
    "duration": 244,
    "start_time": "2024-02-04T18:27:38.485Z"
   },
   {
    "duration": 173,
    "start_time": "2024-02-04T18:27:38.732Z"
   },
   {
    "duration": 30,
    "start_time": "2024-02-04T18:27:38.906Z"
   },
   {
    "duration": 18,
    "start_time": "2024-02-04T18:27:38.942Z"
   },
   {
    "duration": 36,
    "start_time": "2024-02-04T18:27:38.962Z"
   },
   {
    "duration": 17,
    "start_time": "2024-02-04T18:27:39.000Z"
   },
   {
    "duration": 251,
    "start_time": "2024-02-04T18:27:39.019Z"
   },
   {
    "duration": 237,
    "start_time": "2024-02-04T18:27:39.271Z"
   },
   {
    "duration": 217,
    "start_time": "2024-02-04T18:27:39.509Z"
   },
   {
    "duration": 403,
    "start_time": "2024-02-04T18:27:39.728Z"
   },
   {
    "duration": 8,
    "start_time": "2024-02-04T18:27:40.136Z"
   },
   {
    "duration": 21,
    "start_time": "2024-02-04T18:27:40.154Z"
   },
   {
    "duration": 325,
    "start_time": "2024-02-04T18:27:40.177Z"
   },
   {
    "duration": 487,
    "start_time": "2024-02-04T18:28:09.044Z"
   },
   {
    "duration": 18,
    "start_time": "2024-02-04T18:28:09.533Z"
   },
   {
    "duration": 23,
    "start_time": "2024-02-04T18:28:09.552Z"
   },
   {
    "duration": 17,
    "start_time": "2024-02-04T18:28:09.577Z"
   },
   {
    "duration": 18,
    "start_time": "2024-02-04T18:28:09.596Z"
   },
   {
    "duration": 13,
    "start_time": "2024-02-04T18:28:09.615Z"
   },
   {
    "duration": 24,
    "start_time": "2024-02-04T18:28:09.629Z"
   },
   {
    "duration": 14,
    "start_time": "2024-02-04T18:28:09.655Z"
   },
   {
    "duration": 15,
    "start_time": "2024-02-04T18:28:09.671Z"
   },
   {
    "duration": 9,
    "start_time": "2024-02-04T18:28:09.687Z"
   },
   {
    "duration": 22,
    "start_time": "2024-02-04T18:28:09.697Z"
   },
   {
    "duration": 13,
    "start_time": "2024-02-04T18:28:09.720Z"
   },
   {
    "duration": 441,
    "start_time": "2024-02-04T18:28:09.735Z"
   },
   {
    "duration": 92,
    "start_time": "2024-02-04T18:28:10.179Z"
   },
   {
    "duration": 301,
    "start_time": "2024-02-04T18:28:10.273Z"
   },
   {
    "duration": 8,
    "start_time": "2024-02-04T18:28:10.576Z"
   },
   {
    "duration": 255,
    "start_time": "2024-02-04T18:28:10.586Z"
   },
   {
    "duration": 164,
    "start_time": "2024-02-04T18:28:10.846Z"
   },
   {
    "duration": 28,
    "start_time": "2024-02-04T18:28:11.011Z"
   },
   {
    "duration": 16,
    "start_time": "2024-02-04T18:28:11.041Z"
   },
   {
    "duration": 17,
    "start_time": "2024-02-04T18:28:11.059Z"
   },
   {
    "duration": 12,
    "start_time": "2024-02-04T18:28:11.077Z"
   },
   {
    "duration": 264,
    "start_time": "2024-02-04T18:28:11.091Z"
   },
   {
    "duration": 236,
    "start_time": "2024-02-04T18:28:11.357Z"
   },
   {
    "duration": 249,
    "start_time": "2024-02-04T18:28:11.595Z"
   },
   {
    "duration": 401,
    "start_time": "2024-02-04T18:28:11.849Z"
   },
   {
    "duration": 6,
    "start_time": "2024-02-04T18:28:12.252Z"
   },
   {
    "duration": 7,
    "start_time": "2024-02-04T18:28:12.259Z"
   },
   {
    "duration": 348,
    "start_time": "2024-02-04T18:28:12.267Z"
   },
   {
    "duration": 273,
    "start_time": "2024-02-05T12:48:19.949Z"
   },
   {
    "duration": 529,
    "start_time": "2024-02-05T12:48:25.902Z"
   },
   {
    "duration": 12,
    "start_time": "2024-02-05T12:48:26.433Z"
   },
   {
    "duration": 42,
    "start_time": "2024-02-05T12:48:26.447Z"
   },
   {
    "duration": 20,
    "start_time": "2024-02-05T12:48:26.490Z"
   },
   {
    "duration": 39,
    "start_time": "2024-02-05T12:48:26.512Z"
   },
   {
    "duration": 26,
    "start_time": "2024-02-05T12:48:26.553Z"
   },
   {
    "duration": 22,
    "start_time": "2024-02-05T12:48:26.580Z"
   },
   {
    "duration": 17,
    "start_time": "2024-02-05T12:48:26.603Z"
   },
   {
    "duration": 17,
    "start_time": "2024-02-05T12:48:26.621Z"
   },
   {
    "duration": 22,
    "start_time": "2024-02-05T12:48:26.639Z"
   },
   {
    "duration": 18,
    "start_time": "2024-02-05T12:48:26.663Z"
   },
   {
    "duration": 19,
    "start_time": "2024-02-05T12:48:26.683Z"
   },
   {
    "duration": 571,
    "start_time": "2024-02-05T12:48:26.703Z"
   },
   {
    "duration": 85,
    "start_time": "2024-02-05T12:48:27.277Z"
   },
   {
    "duration": 264,
    "start_time": "2024-02-05T12:48:27.364Z"
   },
   {
    "duration": 17,
    "start_time": "2024-02-05T12:48:27.629Z"
   },
   {
    "duration": 229,
    "start_time": "2024-02-05T12:48:27.648Z"
   },
   {
    "duration": 166,
    "start_time": "2024-02-05T12:48:27.879Z"
   },
   {
    "duration": 23,
    "start_time": "2024-02-05T12:48:28.046Z"
   },
   {
    "duration": 14,
    "start_time": "2024-02-05T12:48:28.070Z"
   },
   {
    "duration": 16,
    "start_time": "2024-02-05T12:48:28.085Z"
   },
   {
    "duration": 16,
    "start_time": "2024-02-05T12:48:28.103Z"
   },
   {
    "duration": 263,
    "start_time": "2024-02-05T12:48:28.121Z"
   },
   {
    "duration": 234,
    "start_time": "2024-02-05T12:48:28.385Z"
   },
   {
    "duration": 213,
    "start_time": "2024-02-05T12:48:28.621Z"
   },
   {
    "duration": 420,
    "start_time": "2024-02-05T12:48:28.836Z"
   },
   {
    "duration": 5,
    "start_time": "2024-02-05T12:48:29.258Z"
   },
   {
    "duration": 13,
    "start_time": "2024-02-05T12:48:29.264Z"
   },
   {
    "duration": 373,
    "start_time": "2024-02-05T12:48:29.279Z"
   },
   {
    "duration": 467,
    "start_time": "2024-02-05T12:52:36.234Z"
   },
   {
    "duration": 9,
    "start_time": "2024-02-05T12:52:36.703Z"
   },
   {
    "duration": 16,
    "start_time": "2024-02-05T12:52:36.714Z"
   },
   {
    "duration": 10,
    "start_time": "2024-02-05T12:52:36.731Z"
   },
   {
    "duration": 8,
    "start_time": "2024-02-05T12:52:36.743Z"
   },
   {
    "duration": 11,
    "start_time": "2024-02-05T12:52:36.752Z"
   },
   {
    "duration": 7,
    "start_time": "2024-02-05T12:52:36.765Z"
   },
   {
    "duration": 13,
    "start_time": "2024-02-05T12:52:36.773Z"
   },
   {
    "duration": 6,
    "start_time": "2024-02-05T12:52:36.788Z"
   },
   {
    "duration": 4,
    "start_time": "2024-02-05T12:52:36.796Z"
   },
   {
    "duration": 10,
    "start_time": "2024-02-05T12:52:36.801Z"
   },
   {
    "duration": 35,
    "start_time": "2024-02-05T12:52:36.813Z"
   },
   {
    "duration": 416,
    "start_time": "2024-02-05T12:52:36.850Z"
   },
   {
    "duration": 90,
    "start_time": "2024-02-05T12:52:37.269Z"
   },
   {
    "duration": 273,
    "start_time": "2024-02-05T12:52:37.361Z"
   },
   {
    "duration": 14,
    "start_time": "2024-02-05T12:52:37.636Z"
   },
   {
    "duration": 215,
    "start_time": "2024-02-05T12:52:37.651Z"
   },
   {
    "duration": 163,
    "start_time": "2024-02-05T12:52:37.867Z"
   },
   {
    "duration": 28,
    "start_time": "2024-02-05T12:52:38.031Z"
   },
   {
    "duration": 12,
    "start_time": "2024-02-05T12:52:38.061Z"
   },
   {
    "duration": 22,
    "start_time": "2024-02-05T12:52:38.075Z"
   },
   {
    "duration": 17,
    "start_time": "2024-02-05T12:52:38.098Z"
   },
   {
    "duration": 253,
    "start_time": "2024-02-05T12:52:38.116Z"
   },
   {
    "duration": 233,
    "start_time": "2024-02-05T12:52:38.370Z"
   },
   {
    "duration": 204,
    "start_time": "2024-02-05T12:52:38.604Z"
   },
   {
    "duration": 435,
    "start_time": "2024-02-05T12:52:38.810Z"
   },
   {
    "duration": 4,
    "start_time": "2024-02-05T12:52:39.246Z"
   },
   {
    "duration": 14,
    "start_time": "2024-02-05T12:52:39.252Z"
   },
   {
    "duration": 353,
    "start_time": "2024-02-05T12:52:39.268Z"
   },
   {
    "duration": 5,
    "start_time": "2024-02-05T13:11:35.827Z"
   },
   {
    "duration": 4,
    "start_time": "2024-02-05T13:11:41.277Z"
   },
   {
    "duration": 52,
    "start_time": "2024-02-05T21:22:02.299Z"
   },
   {
    "duration": 588,
    "start_time": "2024-02-05T21:22:08.804Z"
   },
   {
    "duration": 13,
    "start_time": "2024-02-05T21:22:09.394Z"
   },
   {
    "duration": 18,
    "start_time": "2024-02-05T21:22:09.408Z"
   },
   {
    "duration": 13,
    "start_time": "2024-02-05T21:22:09.428Z"
   },
   {
    "duration": 18,
    "start_time": "2024-02-05T21:22:09.442Z"
   },
   {
    "duration": 13,
    "start_time": "2024-02-05T21:22:09.462Z"
   },
   {
    "duration": 8,
    "start_time": "2024-02-05T21:22:09.477Z"
   },
   {
    "duration": 10,
    "start_time": "2024-02-05T21:22:09.486Z"
   },
   {
    "duration": 7,
    "start_time": "2024-02-05T21:22:09.498Z"
   },
   {
    "duration": 4,
    "start_time": "2024-02-05T21:22:09.510Z"
   },
   {
    "duration": 50,
    "start_time": "2024-02-05T21:22:09.516Z"
   },
   {
    "duration": 13,
    "start_time": "2024-02-05T21:22:09.568Z"
   },
   {
    "duration": 672,
    "start_time": "2024-02-05T21:22:09.583Z"
   },
   {
    "duration": 89,
    "start_time": "2024-02-05T21:22:10.257Z"
   },
   {
    "duration": 302,
    "start_time": "2024-02-05T21:22:10.348Z"
   },
   {
    "duration": 13,
    "start_time": "2024-02-05T21:22:10.651Z"
   },
   {
    "duration": 257,
    "start_time": "2024-02-05T21:22:10.666Z"
   },
   {
    "duration": 198,
    "start_time": "2024-02-05T21:22:10.925Z"
   },
   {
    "duration": 48,
    "start_time": "2024-02-05T21:22:11.125Z"
   },
   {
    "duration": 18,
    "start_time": "2024-02-05T21:22:11.175Z"
   },
   {
    "duration": 19,
    "start_time": "2024-02-05T21:22:11.195Z"
   },
   {
    "duration": 22,
    "start_time": "2024-02-05T21:22:11.216Z"
   },
   {
    "duration": 285,
    "start_time": "2024-02-05T21:22:11.259Z"
   },
   {
    "duration": 275,
    "start_time": "2024-02-05T21:22:11.546Z"
   },
   {
    "duration": 244,
    "start_time": "2024-02-05T21:22:11.822Z"
   },
   {
    "duration": 98,
    "start_time": "2024-02-05T21:22:12.068Z"
   },
   {
    "duration": 0,
    "start_time": "2024-02-05T21:22:12.168Z"
   },
   {
    "duration": 0,
    "start_time": "2024-02-05T21:22:12.169Z"
   },
   {
    "duration": 0,
    "start_time": "2024-02-05T21:22:12.170Z"
   },
   {
    "duration": 0,
    "start_time": "2024-02-05T21:22:12.171Z"
   },
   {
    "duration": 10,
    "start_time": "2024-02-05T21:22:26.209Z"
   },
   {
    "duration": 541,
    "start_time": "2024-02-05T21:23:19.058Z"
   },
   {
    "duration": 12,
    "start_time": "2024-02-05T21:23:19.601Z"
   },
   {
    "duration": 16,
    "start_time": "2024-02-05T21:23:19.615Z"
   },
   {
    "duration": 16,
    "start_time": "2024-02-05T21:23:19.634Z"
   },
   {
    "duration": 10,
    "start_time": "2024-02-05T21:23:19.652Z"
   },
   {
    "duration": 11,
    "start_time": "2024-02-05T21:23:19.664Z"
   },
   {
    "duration": 14,
    "start_time": "2024-02-05T21:23:19.677Z"
   },
   {
    "duration": 12,
    "start_time": "2024-02-05T21:23:19.693Z"
   },
   {
    "duration": 11,
    "start_time": "2024-02-05T21:23:19.706Z"
   },
   {
    "duration": 38,
    "start_time": "2024-02-05T21:23:19.723Z"
   },
   {
    "duration": 11,
    "start_time": "2024-02-05T21:23:19.763Z"
   },
   {
    "duration": 12,
    "start_time": "2024-02-05T21:23:19.777Z"
   },
   {
    "duration": 522,
    "start_time": "2024-02-05T21:23:19.791Z"
   },
   {
    "duration": 114,
    "start_time": "2024-02-05T21:23:20.315Z"
   },
   {
    "duration": 329,
    "start_time": "2024-02-05T21:23:20.431Z"
   },
   {
    "duration": 9,
    "start_time": "2024-02-05T21:23:20.762Z"
   },
   {
    "duration": 266,
    "start_time": "2024-02-05T21:23:20.772Z"
   },
   {
    "duration": 221,
    "start_time": "2024-02-05T21:23:21.040Z"
   },
   {
    "duration": 26,
    "start_time": "2024-02-05T21:23:21.262Z"
   },
   {
    "duration": 15,
    "start_time": "2024-02-05T21:23:21.289Z"
   },
   {
    "duration": 35,
    "start_time": "2024-02-05T21:23:21.306Z"
   },
   {
    "duration": 29,
    "start_time": "2024-02-05T21:23:21.343Z"
   },
   {
    "duration": 297,
    "start_time": "2024-02-05T21:23:21.374Z"
   },
   {
    "duration": 286,
    "start_time": "2024-02-05T21:23:21.673Z"
   },
   {
    "duration": 240,
    "start_time": "2024-02-05T21:23:21.960Z"
   },
   {
    "duration": 442,
    "start_time": "2024-02-05T21:23:22.202Z"
   },
   {
    "duration": 6,
    "start_time": "2024-02-05T21:23:22.646Z"
   },
   {
    "duration": 8,
    "start_time": "2024-02-05T21:23:22.661Z"
   },
   {
    "duration": 363,
    "start_time": "2024-02-05T21:23:22.671Z"
   },
   {
    "duration": 508,
    "start_time": "2024-02-05T21:25:42.030Z"
   },
   {
    "duration": 12,
    "start_time": "2024-02-05T21:25:42.540Z"
   },
   {
    "duration": 41,
    "start_time": "2024-02-05T21:25:42.553Z"
   },
   {
    "duration": 33,
    "start_time": "2024-02-05T21:25:42.596Z"
   },
   {
    "duration": 22,
    "start_time": "2024-02-05T21:25:42.631Z"
   },
   {
    "duration": 39,
    "start_time": "2024-02-05T21:25:42.655Z"
   },
   {
    "duration": 30,
    "start_time": "2024-02-05T21:25:42.695Z"
   },
   {
    "duration": 23,
    "start_time": "2024-02-05T21:25:42.727Z"
   },
   {
    "duration": 18,
    "start_time": "2024-02-05T21:25:42.752Z"
   },
   {
    "duration": 27,
    "start_time": "2024-02-05T21:25:42.774Z"
   },
   {
    "duration": 21,
    "start_time": "2024-02-05T21:25:42.802Z"
   },
   {
    "duration": 20,
    "start_time": "2024-02-05T21:25:42.824Z"
   },
   {
    "duration": 475,
    "start_time": "2024-02-05T21:25:42.846Z"
   },
   {
    "duration": 98,
    "start_time": "2024-02-05T21:25:43.323Z"
   },
   {
    "duration": 299,
    "start_time": "2024-02-05T21:25:43.422Z"
   },
   {
    "duration": 8,
    "start_time": "2024-02-05T21:25:43.723Z"
   },
   {
    "duration": 253,
    "start_time": "2024-02-05T21:25:43.732Z"
   },
   {
    "duration": 216,
    "start_time": "2024-02-05T21:25:43.986Z"
   },
   {
    "duration": 25,
    "start_time": "2024-02-05T21:25:44.204Z"
   },
   {
    "duration": 29,
    "start_time": "2024-02-05T21:25:44.231Z"
   },
   {
    "duration": 19,
    "start_time": "2024-02-05T21:25:44.261Z"
   },
   {
    "duration": 16,
    "start_time": "2024-02-05T21:25:44.282Z"
   },
   {
    "duration": 299,
    "start_time": "2024-02-05T21:25:44.299Z"
   },
   {
    "duration": 276,
    "start_time": "2024-02-05T21:25:44.600Z"
   },
   {
    "duration": 234,
    "start_time": "2024-02-05T21:25:44.878Z"
   },
   {
    "duration": 484,
    "start_time": "2024-02-05T21:25:45.114Z"
   },
   {
    "duration": 5,
    "start_time": "2024-02-05T21:25:45.600Z"
   },
   {
    "duration": 7,
    "start_time": "2024-02-05T21:25:45.608Z"
   },
   {
    "duration": 407,
    "start_time": "2024-02-05T21:25:45.617Z"
   },
   {
    "duration": 728,
    "start_time": "2024-02-06T08:16:08.757Z"
   },
   {
    "duration": 13,
    "start_time": "2024-02-06T08:16:09.487Z"
   },
   {
    "duration": 42,
    "start_time": "2024-02-06T08:16:09.501Z"
   },
   {
    "duration": 12,
    "start_time": "2024-02-06T08:16:09.544Z"
   },
   {
    "duration": 11,
    "start_time": "2024-02-06T08:16:09.559Z"
   },
   {
    "duration": 12,
    "start_time": "2024-02-06T08:16:09.572Z"
   },
   {
    "duration": 29,
    "start_time": "2024-02-06T08:16:09.586Z"
   },
   {
    "duration": 37,
    "start_time": "2024-02-06T08:16:09.617Z"
   },
   {
    "duration": 78,
    "start_time": "2024-02-06T08:16:09.656Z"
   },
   {
    "duration": 5,
    "start_time": "2024-02-06T08:16:09.736Z"
   },
   {
    "duration": 13,
    "start_time": "2024-02-06T08:16:09.743Z"
   },
   {
    "duration": 16,
    "start_time": "2024-02-06T08:16:09.757Z"
   },
   {
    "duration": 681,
    "start_time": "2024-02-06T08:16:09.775Z"
   },
   {
    "duration": 101,
    "start_time": "2024-02-06T08:16:10.460Z"
   },
   {
    "duration": 307,
    "start_time": "2024-02-06T08:16:10.563Z"
   },
   {
    "duration": 8,
    "start_time": "2024-02-06T08:16:10.872Z"
   },
   {
    "duration": 265,
    "start_time": "2024-02-06T08:16:10.891Z"
   },
   {
    "duration": 220,
    "start_time": "2024-02-06T08:16:11.159Z"
   },
   {
    "duration": 32,
    "start_time": "2024-02-06T08:16:11.380Z"
   },
   {
    "duration": 26,
    "start_time": "2024-02-06T08:16:11.414Z"
   },
   {
    "duration": 33,
    "start_time": "2024-02-06T08:16:11.442Z"
   },
   {
    "duration": 22,
    "start_time": "2024-02-06T08:16:11.476Z"
   },
   {
    "duration": 298,
    "start_time": "2024-02-06T08:16:11.500Z"
   },
   {
    "duration": 298,
    "start_time": "2024-02-06T08:16:11.799Z"
   },
   {
    "duration": 232,
    "start_time": "2024-02-06T08:16:12.098Z"
   },
   {
    "duration": 444,
    "start_time": "2024-02-06T08:16:12.332Z"
   },
   {
    "duration": 6,
    "start_time": "2024-02-06T08:16:12.777Z"
   },
   {
    "duration": 38,
    "start_time": "2024-02-06T08:16:12.784Z"
   },
   {
    "duration": 399,
    "start_time": "2024-02-06T08:16:12.824Z"
   },
   {
    "duration": 8,
    "start_time": "2024-02-06T08:21:41.297Z"
   },
   {
    "duration": 286,
    "start_time": "2024-02-06T08:28:34.593Z"
   },
   {
    "duration": 610,
    "start_time": "2024-02-06T08:28:42.885Z"
   },
   {
    "duration": 567,
    "start_time": "2024-02-06T08:29:17.748Z"
   },
   {
    "duration": 426,
    "start_time": "2024-02-06T19:31:59.009Z"
   },
   {
    "duration": 11,
    "start_time": "2024-02-06T19:31:59.437Z"
   },
   {
    "duration": 14,
    "start_time": "2024-02-06T19:31:59.449Z"
   },
   {
    "duration": 10,
    "start_time": "2024-02-06T19:31:59.465Z"
   },
   {
    "duration": 8,
    "start_time": "2024-02-06T19:31:59.476Z"
   },
   {
    "duration": 10,
    "start_time": "2024-02-06T19:31:59.485Z"
   },
   {
    "duration": 17,
    "start_time": "2024-02-06T19:31:59.496Z"
   },
   {
    "duration": 8,
    "start_time": "2024-02-06T19:31:59.514Z"
   },
   {
    "duration": 6,
    "start_time": "2024-02-06T19:31:59.523Z"
   },
   {
    "duration": 4,
    "start_time": "2024-02-06T19:31:59.532Z"
   },
   {
    "duration": 8,
    "start_time": "2024-02-06T19:31:59.565Z"
   },
   {
    "duration": 10,
    "start_time": "2024-02-06T19:31:59.574Z"
   },
   {
    "duration": 417,
    "start_time": "2024-02-06T19:31:59.585Z"
   },
   {
    "duration": 90,
    "start_time": "2024-02-06T19:32:00.004Z"
   },
   {
    "duration": 276,
    "start_time": "2024-02-06T19:32:00.096Z"
   },
   {
    "duration": 8,
    "start_time": "2024-02-06T19:32:00.374Z"
   },
   {
    "duration": 269,
    "start_time": "2024-02-06T19:32:00.384Z"
   },
   {
    "duration": 162,
    "start_time": "2024-02-06T19:32:00.654Z"
   },
   {
    "duration": 22,
    "start_time": "2024-02-06T19:32:00.817Z"
   },
   {
    "duration": 28,
    "start_time": "2024-02-06T19:32:00.840Z"
   },
   {
    "duration": 30,
    "start_time": "2024-02-06T19:32:00.870Z"
   },
   {
    "duration": 29,
    "start_time": "2024-02-06T19:32:00.902Z"
   },
   {
    "duration": 269,
    "start_time": "2024-02-06T19:32:00.932Z"
   },
   {
    "duration": 252,
    "start_time": "2024-02-06T19:32:01.203Z"
   },
   {
    "duration": 228,
    "start_time": "2024-02-06T19:32:01.457Z"
   },
   {
    "duration": 378,
    "start_time": "2024-02-06T19:32:01.687Z"
   },
   {
    "duration": 5,
    "start_time": "2024-02-06T19:32:02.066Z"
   },
   {
    "duration": 12,
    "start_time": "2024-02-06T19:32:02.074Z"
   },
   {
    "duration": 584,
    "start_time": "2024-02-06T19:32:02.087Z"
   },
   {
    "duration": 492,
    "start_time": "2024-02-06T19:34:50.538Z"
   },
   {
    "duration": 11,
    "start_time": "2024-02-06T19:34:51.033Z"
   },
   {
    "duration": 16,
    "start_time": "2024-02-06T19:34:51.045Z"
   },
   {
    "duration": 11,
    "start_time": "2024-02-06T19:34:51.063Z"
   },
   {
    "duration": 11,
    "start_time": "2024-02-06T19:34:51.076Z"
   },
   {
    "duration": 11,
    "start_time": "2024-02-06T19:34:51.088Z"
   },
   {
    "duration": 7,
    "start_time": "2024-02-06T19:34:51.100Z"
   },
   {
    "duration": 12,
    "start_time": "2024-02-06T19:34:51.109Z"
   },
   {
    "duration": 6,
    "start_time": "2024-02-06T19:34:51.122Z"
   },
   {
    "duration": 4,
    "start_time": "2024-02-06T19:34:51.131Z"
   },
   {
    "duration": 33,
    "start_time": "2024-02-06T19:34:51.136Z"
   },
   {
    "duration": 11,
    "start_time": "2024-02-06T19:34:51.171Z"
   },
   {
    "duration": 407,
    "start_time": "2024-02-06T19:34:51.183Z"
   },
   {
    "duration": 92,
    "start_time": "2024-02-06T19:34:51.592Z"
   },
   {
    "duration": 263,
    "start_time": "2024-02-06T19:34:51.686Z"
   },
   {
    "duration": 16,
    "start_time": "2024-02-06T19:34:51.950Z"
   },
   {
    "duration": 216,
    "start_time": "2024-02-06T19:34:51.967Z"
   },
   {
    "duration": 164,
    "start_time": "2024-02-06T19:34:52.184Z"
   },
   {
    "duration": 32,
    "start_time": "2024-02-06T19:34:52.350Z"
   },
   {
    "duration": 16,
    "start_time": "2024-02-06T19:34:52.384Z"
   },
   {
    "duration": 17,
    "start_time": "2024-02-06T19:34:52.401Z"
   },
   {
    "duration": 17,
    "start_time": "2024-02-06T19:34:52.420Z"
   },
   {
    "duration": 244,
    "start_time": "2024-02-06T19:34:52.439Z"
   },
   {
    "duration": 224,
    "start_time": "2024-02-06T19:34:52.684Z"
   },
   {
    "duration": 210,
    "start_time": "2024-02-06T19:34:52.909Z"
   },
   {
    "duration": 451,
    "start_time": "2024-02-06T19:34:53.121Z"
   },
   {
    "duration": 5,
    "start_time": "2024-02-06T19:34:53.573Z"
   },
   {
    "duration": 9,
    "start_time": "2024-02-06T19:34:53.580Z"
   },
   {
    "duration": 563,
    "start_time": "2024-02-06T19:34:53.591Z"
   }
  ],
  "kernelspec": {
   "display_name": "Python 3 (ipykernel)",
   "language": "python",
   "name": "python3"
  },
  "language_info": {
   "codemirror_mode": {
    "name": "ipython",
    "version": 3
   },
   "file_extension": ".py",
   "mimetype": "text/x-python",
   "name": "python",
   "nbconvert_exporter": "python",
   "pygments_lexer": "ipython3",
   "version": "3.11.5"
  },
  "toc": {
   "base_numbering": 1,
   "nav_menu": {},
   "number_sections": true,
   "sideBar": true,
   "skip_h1_title": true,
   "title_cell": "Table of Contents",
   "title_sidebar": "Contents",
   "toc_cell": false,
   "toc_position": {},
   "toc_section_display": true,
   "toc_window_display": true
  }
 },
 "nbformat": 4,
 "nbformat_minor": 5
}
