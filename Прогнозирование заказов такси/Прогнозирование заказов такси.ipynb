{
 "cells": [
  {
   "cell_type": "markdown",
   "metadata": {},
   "source": [
    "#  Прогнозирование заказов такси"
   ]
  },
  {
   "cell_type": "markdown",
   "metadata": {},
   "source": [
    "Компания «Чётенькое такси» собрала исторические данные о заказах такси в аэропортах. Чтобы привлекать больше водителей в период пиковой нагрузки, нужно спрогнозировать количество заказов такси на следующий час. Постройте модель для такого предсказания.\n",
    "\n",
    "Значение метрики *RMSE* на тестовой выборке должно быть не больше 48.\n",
    "\n",
    "Вам нужно:\n",
    "\n",
    "1. Загрузить данные и выполнить их ресемплирование по одному часу.\n",
    "2. Проанализировать данные.\n",
    "3. Обучить разные модели с различными гиперпараметрами. Сделать тестовую выборку размером 10% от исходных данных.\n",
    "4. Проверить данные на тестовой выборке и сделать выводы.\n",
    "\n",
    "\n",
    "Данные лежат в файле `taxi.csv`. Количество заказов находится в столбце `num_orders` (от англ. *number of orders*, «число заказов»)."
   ]
  },
  {
   "cell_type": "markdown",
   "metadata": {},
   "source": [
    "## Подготовка"
   ]
  },
  {
   "cell_type": "markdown",
   "metadata": {},
   "source": [
    "**Импортируем библиотеки для работы с данными.**"
   ]
  },
  {
   "cell_type": "code",
   "execution_count": 1,
   "metadata": {},
   "outputs": [],
   "source": [
    "import pandas as pd\n",
    "import numpy as np\n",
    "import os\n",
    "import matplotlib.pyplot as plt\n",
    "\n",
    "from statsmodels.tsa.seasonal import seasonal_decompose\n",
    "from statsmodels.tsa.stattools import adfuller\n",
    "from statsmodels.graphics.tsaplots import plot_acf\n",
    "\n",
    "from sklearn.model_selection import train_test_split\n",
    "from sklearn.metrics import mean_squared_error\n",
    "from sklearn.pipeline import Pipeline\n",
    "from sklearn.model_selection import GridSearchCV, TimeSeriesSplit\n",
    "from sklearn.compose import ColumnTransformer\n",
    "from sklearn.preprocessing import StandardScaler, OrdinalEncoder\n",
    "from sklearn.ensemble import GradientBoostingRegressor, RandomForestRegressor"
   ]
  },
  {
   "cell_type": "markdown",
   "metadata": {},
   "source": [
    "**Считаем данные из csv-файла train_job_satisfaction_rate.csv в датафрейм, сохраним в переменную и выведем несколько первых строк. Выведем общую информацию загруженного датафрейма.**"
   ]
  },
  {
   "cell_type": "code",
   "execution_count": 2,
   "metadata": {},
   "outputs": [
    {
     "data": {
      "text/html": [
       "<div>\n",
       "<style scoped>\n",
       "    .dataframe tbody tr th:only-of-type {\n",
       "        vertical-align: middle;\n",
       "    }\n",
       "\n",
       "    .dataframe tbody tr th {\n",
       "        vertical-align: top;\n",
       "    }\n",
       "\n",
       "    .dataframe thead th {\n",
       "        text-align: right;\n",
       "    }\n",
       "</style>\n",
       "<table border=\"1\" class=\"dataframe\">\n",
       "  <thead>\n",
       "    <tr style=\"text-align: right;\">\n",
       "      <th></th>\n",
       "      <th>num_orders</th>\n",
       "    </tr>\n",
       "    <tr>\n",
       "      <th>datetime</th>\n",
       "      <th></th>\n",
       "    </tr>\n",
       "  </thead>\n",
       "  <tbody>\n",
       "    <tr>\n",
       "      <th>2018-03-01 00:00:00</th>\n",
       "      <td>9</td>\n",
       "    </tr>\n",
       "    <tr>\n",
       "      <th>2018-03-01 00:10:00</th>\n",
       "      <td>14</td>\n",
       "    </tr>\n",
       "    <tr>\n",
       "      <th>2018-03-01 00:20:00</th>\n",
       "      <td>28</td>\n",
       "    </tr>\n",
       "    <tr>\n",
       "      <th>2018-03-01 00:30:00</th>\n",
       "      <td>20</td>\n",
       "    </tr>\n",
       "    <tr>\n",
       "      <th>2018-03-01 00:40:00</th>\n",
       "      <td>32</td>\n",
       "    </tr>\n",
       "    <tr>\n",
       "      <th>...</th>\n",
       "      <td>...</td>\n",
       "    </tr>\n",
       "    <tr>\n",
       "      <th>2018-08-31 23:10:00</th>\n",
       "      <td>32</td>\n",
       "    </tr>\n",
       "    <tr>\n",
       "      <th>2018-08-31 23:20:00</th>\n",
       "      <td>24</td>\n",
       "    </tr>\n",
       "    <tr>\n",
       "      <th>2018-08-31 23:30:00</th>\n",
       "      <td>27</td>\n",
       "    </tr>\n",
       "    <tr>\n",
       "      <th>2018-08-31 23:40:00</th>\n",
       "      <td>39</td>\n",
       "    </tr>\n",
       "    <tr>\n",
       "      <th>2018-08-31 23:50:00</th>\n",
       "      <td>53</td>\n",
       "    </tr>\n",
       "  </tbody>\n",
       "</table>\n",
       "<p>26496 rows × 1 columns</p>\n",
       "</div>"
      ],
      "text/plain": [
       "                     num_orders\n",
       "datetime                       \n",
       "2018-03-01 00:00:00           9\n",
       "2018-03-01 00:10:00          14\n",
       "2018-03-01 00:20:00          28\n",
       "2018-03-01 00:30:00          20\n",
       "2018-03-01 00:40:00          32\n",
       "...                         ...\n",
       "2018-08-31 23:10:00          32\n",
       "2018-08-31 23:20:00          24\n",
       "2018-08-31 23:30:00          27\n",
       "2018-08-31 23:40:00          39\n",
       "2018-08-31 23:50:00          53\n",
       "\n",
       "[26496 rows x 1 columns]"
      ]
     },
     "metadata": {},
     "output_type": "display_data"
    },
    {
     "name": "stdout",
     "output_type": "stream",
     "text": [
      "<class 'pandas.core.frame.DataFrame'>\n",
      "DatetimeIndex: 26496 entries, 2018-03-01 00:00:00 to 2018-08-31 23:50:00\n",
      "Data columns (total 1 columns):\n",
      " #   Column      Non-Null Count  Dtype\n",
      "---  ------      --------------  -----\n",
      " 0   num_orders  26496 non-null  int64\n",
      "dtypes: int64(1)\n",
      "memory usage: 414.0 KB\n"
     ]
    }
   ],
   "source": [
    "pth = '/datasets/taxi.csv'\n",
    "\n",
    "if os.path.exists(pth):\n",
    "    taxi = pd.read_csv(pth, sep=',', index_col=['datetime'], parse_dates=['datetime'])\n",
    "else:\n",
    "    print('Something is wrong')\n",
    "\n",
    "display(taxi)\n",
    "taxi.info()"
   ]
  },
  {
   "cell_type": "markdown",
   "metadata": {},
   "source": [
    "**Выполним ресемплирование данных по одному часу.**"
   ]
  },
  {
   "cell_type": "code",
   "execution_count": 3,
   "metadata": {},
   "outputs": [],
   "source": [
    "taxi.sort_index(inplace=True)\n",
    "taxi = taxi.resample('1H').sum()"
   ]
  },
  {
   "cell_type": "markdown",
   "metadata": {},
   "source": [
    "**Убедимся в корректности сортировки индексов.**"
   ]
  },
  {
   "cell_type": "code",
   "execution_count": 4,
   "metadata": {},
   "outputs": [
    {
     "name": "stdout",
     "output_type": "stream",
     "text": [
      "Минимальное значение даты:  2018-03-01 00:00:00 . Первое значение:  2018-03-01 00:00:00\n",
      "Максимальное значение даты:  2018-08-31 23:00:00 . Последнее значение:  2018-08-31 23:00:00\n",
      "True\n"
     ]
    }
   ],
   "source": [
    "print('Минимальное значение даты: ', taxi.index.min(), '. Первое значение: ',taxi.index[0])\n",
    "print('Максимальное значение даты: ', taxi.index.max(), '. Последнее значение: ', taxi.index[-1])\n",
    "print(taxi.index.is_monotonic)"
   ]
  },
  {
   "cell_type": "markdown",
   "metadata": {},
   "source": [
    "У нас присутствуют данные за 2018 год с марта по август включительно."
   ]
  },
  {
   "cell_type": "markdown",
   "metadata": {},
   "source": [
    "## Анализ"
   ]
  },
  {
   "cell_type": "markdown",
   "metadata": {},
   "source": [
    "**Разложим временной ряд на тренд и сезонную компоненту.**"
   ]
  },
  {
   "cell_type": "code",
   "execution_count": 5,
   "metadata": {},
   "outputs": [
    {
     "data": {
      "image/png": "[encoded data removed]",
      "text/plain": [
       "<Figure size 720x576 with 3 Axes>"
      ]
     },
     "metadata": {
      "needs_background": "light"
     },
     "output_type": "display_data"
    }
   ],
   "source": [
    "taxi_daily = taxi.resample('1D').sum()\n",
    "\n",
    "plt.figure(figsize=(10, 8))\n",
    "plt.subplot(311)\n",
    "decomposed = seasonal_decompose(taxi_daily['num_orders'], model='additive', period=7)\n",
    "decomposed.trend.plot(ax=plt.gca())\n",
    "plt.title('Trend')\n",
    "plt.subplot(312)\n",
    "decomposed.seasonal.plot(ax=plt.gca())\n",
    "plt.title('Seasonality')\n",
    "plt.subplot(313)\n",
    "decomposed.resid.plot(ax=plt.gca())\n",
    "plt.title('Residuals')\n",
    "plt.tight_layout()"
   ]
  },
  {
   "cell_type": "markdown",
   "metadata": {},
   "source": [
    "**Проведем анализ полученных данных. Построим график количества заказов такси со скользящим средним и медианой.**"
   ]
  },
  {
   "cell_type": "code",
   "execution_count": 6,
   "metadata": {},
   "outputs": [
    {
     "data": {
      "image/png": "[encoded data removed]",
      "text/plain": [
       "<Figure size 720x576 with 1 Axes>"
      ]
     },
     "metadata": {
      "needs_background": "light"
     },
     "output_type": "display_data"
    }
   ],
   "source": [
    "taxi['mean'] = taxi['num_orders'].rolling(5).mean()\n",
    "taxi['std'] = taxi['num_orders'].rolling(5).std()\n",
    "\n",
    "plt.figure(figsize=(10, 8))\n",
    "plt.plot(taxi.index, taxi['num_orders'], label='Num Orders')\n",
    "plt.plot(taxi.index, taxi['mean'], label='Rolling Mean (5 hours)')\n",
    "plt.plot(taxi.index, taxi['std'], label='Rolling Std (5 hours)')\n",
    "\n",
    "plt.xlabel('Hour')\n",
    "plt.ylabel('Number of Orders')\n",
    "plt.title('Number of Orders with Rolling Mean and Std')\n",
    "plt.legend()\n",
    "plt.grid(True)\n",
    "plt.show()"
   ]
  },
  {
   "cell_type": "markdown",
   "metadata": {},
   "source": [
    "По графику не очень понятно наличие стационарности."
   ]
  },
  {
   "cell_type": "markdown",
   "metadata": {},
   "source": [
    "**Проверим стационарность модели тестом Дики-Фуллера.**"
   ]
  },
  {
   "cell_type": "code",
   "execution_count": 7,
   "metadata": {},
   "outputs": [
    {
     "name": "stdout",
     "output_type": "stream",
     "text": [
      "ADF Statistic: -3.0689242890279558\n",
      "p-value: 0.028940051402612906\n",
      "Critical Values:\n",
      "   1%: -3.431842162413052\n",
      "   5%: -2.8621993540813637\n",
      "   10%: -2.567120978470452\n",
      "Временной ряд стационарен (отвергаем нулевую гипотезу).\n"
     ]
    }
   ],
   "source": [
    "# Применение теста Дики-Фуллера\n",
    "result = adfuller(taxi['num_orders'])\n",
    "\n",
    "# Вывод результатов теста\n",
    "print('ADF Statistic:', result[0])\n",
    "print('p-value:', result[1])\n",
    "print('Critical Values:')\n",
    "for key, value in result[4].items():\n",
    "    print(f'   {key}: {value}')\n",
    "\n",
    "# Интерпретация результатов\n",
    "if result[1] < 0.05:\n",
    "    print(\"Временной ряд стационарен (отвергаем нулевую гипотезу).\")\n",
    "else:\n",
    "    print(\"Временной ряд нестационарен (не можем отвергнуть нулевую гипотезу).\")"
   ]
  },
  {
   "cell_type": "markdown",
   "metadata": {},
   "source": [
    "Таким образом, на основании результатов теста Дики-Фуллера можно заключить, что ваш временной ряд стационарен."
   ]
  },
  {
   "cell_type": "markdown",
   "metadata": {},
   "source": [
    "## Обучение"
   ]
  },
  {
   "cell_type": "markdown",
   "metadata": {},
   "source": [
    "**Визуализируем корреляцию признаков для нахождения лучшего доп. признака с помощью метода plot_acf**"
   ]
  },
  {
   "cell_type": "code",
   "execution_count": 8,
   "metadata": {},
   "outputs": [
    {
     "data": {
      "text/plain": [
       "<Figure size 720x576 with 0 Axes>"
      ]
     },
     "metadata": {},
     "output_type": "display_data"
    },
    {
     "data": {
      "image/png": "[encoded data removed]",
      "text/plain": [
       "<Figure size 432x288 with 1 Axes>"
      ]
     },
     "metadata": {
      "needs_background": "light"
     },
     "output_type": "display_data"
    }
   ],
   "source": [
    "# Визуализация автокорреляционной функции (ACF)\n",
    "plt.figure(figsize=(10, 8))\n",
    "plot_acf(taxi['num_orders'].dropna(), lags=50)\n",
    "plt.show()"
   ]
  },
  {
   "cell_type": "markdown",
   "metadata": {},
   "source": [
    "Судя по графику нам подойдет значение 24, потом идет дублирование."
   ]
  },
  {
   "cell_type": "markdown",
   "metadata": {},
   "source": [
    "**Создадим признаки для горизонта прогнозирования в один шаг.**"
   ]
  },
  {
   "cell_type": "code",
   "execution_count": 9,
   "metadata": {},
   "outputs": [
    {
     "data": {
      "text/html": [
       "<div>\n",
       "<style scoped>\n",
       "    .dataframe tbody tr th:only-of-type {\n",
       "        vertical-align: middle;\n",
       "    }\n",
       "\n",
       "    .dataframe tbody tr th {\n",
       "        vertical-align: top;\n",
       "    }\n",
       "\n",
       "    .dataframe thead th {\n",
       "        text-align: right;\n",
       "    }\n",
       "</style>\n",
       "<table border=\"1\" class=\"dataframe\">\n",
       "  <thead>\n",
       "    <tr style=\"text-align: right;\">\n",
       "      <th></th>\n",
       "      <th>num_orders</th>\n",
       "      <th>mean</th>\n",
       "      <th>std</th>\n",
       "      <th>hour</th>\n",
       "      <th>dayofweek</th>\n",
       "      <th>lag_1</th>\n",
       "      <th>lag_2</th>\n",
       "      <th>lag_3</th>\n",
       "      <th>lag_4</th>\n",
       "      <th>lag_5</th>\n",
       "      <th>...</th>\n",
       "      <th>lag_16</th>\n",
       "      <th>lag_17</th>\n",
       "      <th>lag_18</th>\n",
       "      <th>lag_19</th>\n",
       "      <th>lag_20</th>\n",
       "      <th>lag_21</th>\n",
       "      <th>lag_22</th>\n",
       "      <th>lag_23</th>\n",
       "      <th>lag_24</th>\n",
       "      <th>rolling_mean</th>\n",
       "    </tr>\n",
       "    <tr>\n",
       "      <th>datetime</th>\n",
       "      <th></th>\n",
       "      <th></th>\n",
       "      <th></th>\n",
       "      <th></th>\n",
       "      <th></th>\n",
       "      <th></th>\n",
       "      <th></th>\n",
       "      <th></th>\n",
       "      <th></th>\n",
       "      <th></th>\n",
       "      <th></th>\n",
       "      <th></th>\n",
       "      <th></th>\n",
       "      <th></th>\n",
       "      <th></th>\n",
       "      <th></th>\n",
       "      <th></th>\n",
       "      <th></th>\n",
       "      <th></th>\n",
       "      <th></th>\n",
       "      <th></th>\n",
       "    </tr>\n",
       "  </thead>\n",
       "  <tbody>\n",
       "    <tr>\n",
       "      <th>2018-03-01 00:00:00</th>\n",
       "      <td>124</td>\n",
       "      <td>NaN</td>\n",
       "      <td>NaN</td>\n",
       "      <td>0</td>\n",
       "      <td>3</td>\n",
       "      <td>NaN</td>\n",
       "      <td>NaN</td>\n",
       "      <td>NaN</td>\n",
       "      <td>NaN</td>\n",
       "      <td>NaN</td>\n",
       "      <td>...</td>\n",
       "      <td>NaN</td>\n",
       "      <td>NaN</td>\n",
       "      <td>NaN</td>\n",
       "      <td>NaN</td>\n",
       "      <td>NaN</td>\n",
       "      <td>NaN</td>\n",
       "      <td>NaN</td>\n",
       "      <td>NaN</td>\n",
       "      <td>NaN</td>\n",
       "      <td>NaN</td>\n",
       "    </tr>\n",
       "    <tr>\n",
       "      <th>2018-03-01 01:00:00</th>\n",
       "      <td>85</td>\n",
       "      <td>NaN</td>\n",
       "      <td>NaN</td>\n",
       "      <td>1</td>\n",
       "      <td>3</td>\n",
       "      <td>124.0</td>\n",
       "      <td>NaN</td>\n",
       "      <td>NaN</td>\n",
       "      <td>NaN</td>\n",
       "      <td>NaN</td>\n",
       "      <td>...</td>\n",
       "      <td>NaN</td>\n",
       "      <td>NaN</td>\n",
       "      <td>NaN</td>\n",
       "      <td>NaN</td>\n",
       "      <td>NaN</td>\n",
       "      <td>NaN</td>\n",
       "      <td>NaN</td>\n",
       "      <td>NaN</td>\n",
       "      <td>NaN</td>\n",
       "      <td>NaN</td>\n",
       "    </tr>\n",
       "    <tr>\n",
       "      <th>2018-03-01 02:00:00</th>\n",
       "      <td>71</td>\n",
       "      <td>NaN</td>\n",
       "      <td>NaN</td>\n",
       "      <td>2</td>\n",
       "      <td>3</td>\n",
       "      <td>85.0</td>\n",
       "      <td>124.0</td>\n",
       "      <td>NaN</td>\n",
       "      <td>NaN</td>\n",
       "      <td>NaN</td>\n",
       "      <td>...</td>\n",
       "      <td>NaN</td>\n",
       "      <td>NaN</td>\n",
       "      <td>NaN</td>\n",
       "      <td>NaN</td>\n",
       "      <td>NaN</td>\n",
       "      <td>NaN</td>\n",
       "      <td>NaN</td>\n",
       "      <td>NaN</td>\n",
       "      <td>NaN</td>\n",
       "      <td>NaN</td>\n",
       "    </tr>\n",
       "    <tr>\n",
       "      <th>2018-03-01 03:00:00</th>\n",
       "      <td>66</td>\n",
       "      <td>NaN</td>\n",
       "      <td>NaN</td>\n",
       "      <td>3</td>\n",
       "      <td>3</td>\n",
       "      <td>71.0</td>\n",
       "      <td>85.0</td>\n",
       "      <td>124.0</td>\n",
       "      <td>NaN</td>\n",
       "      <td>NaN</td>\n",
       "      <td>...</td>\n",
       "      <td>NaN</td>\n",
       "      <td>NaN</td>\n",
       "      <td>NaN</td>\n",
       "      <td>NaN</td>\n",
       "      <td>NaN</td>\n",
       "      <td>NaN</td>\n",
       "      <td>NaN</td>\n",
       "      <td>NaN</td>\n",
       "      <td>NaN</td>\n",
       "      <td>NaN</td>\n",
       "    </tr>\n",
       "    <tr>\n",
       "      <th>2018-03-01 04:00:00</th>\n",
       "      <td>43</td>\n",
       "      <td>77.8</td>\n",
       "      <td>29.928248</td>\n",
       "      <td>4</td>\n",
       "      <td>3</td>\n",
       "      <td>66.0</td>\n",
       "      <td>71.0</td>\n",
       "      <td>85.0</td>\n",
       "      <td>124.0</td>\n",
       "      <td>NaN</td>\n",
       "      <td>...</td>\n",
       "      <td>NaN</td>\n",
       "      <td>NaN</td>\n",
       "      <td>NaN</td>\n",
       "      <td>NaN</td>\n",
       "      <td>NaN</td>\n",
       "      <td>NaN</td>\n",
       "      <td>NaN</td>\n",
       "      <td>NaN</td>\n",
       "      <td>NaN</td>\n",
       "      <td>NaN</td>\n",
       "    </tr>\n",
       "    <tr>\n",
       "      <th>...</th>\n",
       "      <td>...</td>\n",
       "      <td>...</td>\n",
       "      <td>...</td>\n",
       "      <td>...</td>\n",
       "      <td>...</td>\n",
       "      <td>...</td>\n",
       "      <td>...</td>\n",
       "      <td>...</td>\n",
       "      <td>...</td>\n",
       "      <td>...</td>\n",
       "      <td>...</td>\n",
       "      <td>...</td>\n",
       "      <td>...</td>\n",
       "      <td>...</td>\n",
       "      <td>...</td>\n",
       "      <td>...</td>\n",
       "      <td>...</td>\n",
       "      <td>...</td>\n",
       "      <td>...</td>\n",
       "      <td>...</td>\n",
       "      <td>...</td>\n",
       "    </tr>\n",
       "    <tr>\n",
       "      <th>2018-08-31 19:00:00</th>\n",
       "      <td>136</td>\n",
       "      <td>174.6</td>\n",
       "      <td>45.478566</td>\n",
       "      <td>19</td>\n",
       "      <td>4</td>\n",
       "      <td>207.0</td>\n",
       "      <td>217.0</td>\n",
       "      <td>197.0</td>\n",
       "      <td>116.0</td>\n",
       "      <td>133.0</td>\n",
       "      <td>...</td>\n",
       "      <td>99.0</td>\n",
       "      <td>230.0</td>\n",
       "      <td>194.0</td>\n",
       "      <td>276.0</td>\n",
       "      <td>246.0</td>\n",
       "      <td>158.0</td>\n",
       "      <td>198.0</td>\n",
       "      <td>142.0</td>\n",
       "      <td>72.0</td>\n",
       "      <td>164.875000</td>\n",
       "    </tr>\n",
       "    <tr>\n",
       "      <th>2018-08-31 20:00:00</th>\n",
       "      <td>154</td>\n",
       "      <td>182.2</td>\n",
       "      <td>35.266131</td>\n",
       "      <td>20</td>\n",
       "      <td>4</td>\n",
       "      <td>136.0</td>\n",
       "      <td>207.0</td>\n",
       "      <td>217.0</td>\n",
       "      <td>197.0</td>\n",
       "      <td>116.0</td>\n",
       "      <td>...</td>\n",
       "      <td>268.0</td>\n",
       "      <td>99.0</td>\n",
       "      <td>230.0</td>\n",
       "      <td>194.0</td>\n",
       "      <td>276.0</td>\n",
       "      <td>246.0</td>\n",
       "      <td>158.0</td>\n",
       "      <td>198.0</td>\n",
       "      <td>142.0</td>\n",
       "      <td>167.541667</td>\n",
       "    </tr>\n",
       "    <tr>\n",
       "      <th>2018-08-31 21:00:00</th>\n",
       "      <td>159</td>\n",
       "      <td>174.6</td>\n",
       "      <td>35.373719</td>\n",
       "      <td>21</td>\n",
       "      <td>4</td>\n",
       "      <td>154.0</td>\n",
       "      <td>136.0</td>\n",
       "      <td>207.0</td>\n",
       "      <td>217.0</td>\n",
       "      <td>197.0</td>\n",
       "      <td>...</td>\n",
       "      <td>78.0</td>\n",
       "      <td>268.0</td>\n",
       "      <td>99.0</td>\n",
       "      <td>230.0</td>\n",
       "      <td>194.0</td>\n",
       "      <td>276.0</td>\n",
       "      <td>246.0</td>\n",
       "      <td>158.0</td>\n",
       "      <td>198.0</td>\n",
       "      <td>168.041667</td>\n",
       "    </tr>\n",
       "    <tr>\n",
       "      <th>2018-08-31 22:00:00</th>\n",
       "      <td>223</td>\n",
       "      <td>175.8</td>\n",
       "      <td>37.224992</td>\n",
       "      <td>22</td>\n",
       "      <td>4</td>\n",
       "      <td>159.0</td>\n",
       "      <td>154.0</td>\n",
       "      <td>136.0</td>\n",
       "      <td>207.0</td>\n",
       "      <td>217.0</td>\n",
       "      <td>...</td>\n",
       "      <td>35.0</td>\n",
       "      <td>78.0</td>\n",
       "      <td>268.0</td>\n",
       "      <td>99.0</td>\n",
       "      <td>230.0</td>\n",
       "      <td>194.0</td>\n",
       "      <td>276.0</td>\n",
       "      <td>246.0</td>\n",
       "      <td>158.0</td>\n",
       "      <td>166.416667</td>\n",
       "    </tr>\n",
       "    <tr>\n",
       "      <th>2018-08-31 23:00:00</th>\n",
       "      <td>205</td>\n",
       "      <td>175.4</td>\n",
       "      <td>36.814399</td>\n",
       "      <td>23</td>\n",
       "      <td>4</td>\n",
       "      <td>223.0</td>\n",
       "      <td>159.0</td>\n",
       "      <td>154.0</td>\n",
       "      <td>136.0</td>\n",
       "      <td>207.0</td>\n",
       "      <td>...</td>\n",
       "      <td>46.0</td>\n",
       "      <td>35.0</td>\n",
       "      <td>78.0</td>\n",
       "      <td>268.0</td>\n",
       "      <td>99.0</td>\n",
       "      <td>230.0</td>\n",
       "      <td>194.0</td>\n",
       "      <td>276.0</td>\n",
       "      <td>246.0</td>\n",
       "      <td>169.125000</td>\n",
       "    </tr>\n",
       "  </tbody>\n",
       "</table>\n",
       "<p>4416 rows × 30 columns</p>\n",
       "</div>"
      ],
      "text/plain": [
       "                     num_orders   mean        std  hour  dayofweek  lag_1  \\\n",
       "datetime                                                                    \n",
       "2018-03-01 00:00:00         124    NaN        NaN     0          3    NaN   \n",
       "2018-03-01 01:00:00          85    NaN        NaN     1          3  124.0   \n",
       "2018-03-01 02:00:00          71    NaN        NaN     2          3   85.0   \n",
       "2018-03-01 03:00:00          66    NaN        NaN     3          3   71.0   \n",
       "2018-03-01 04:00:00          43   77.8  29.928248     4          3   66.0   \n",
       "...                         ...    ...        ...   ...        ...    ...   \n",
       "2018-08-31 19:00:00         136  174.6  45.478566    19          4  207.0   \n",
       "2018-08-31 20:00:00         154  182.2  35.266131    20          4  136.0   \n",
       "2018-08-31 21:00:00         159  174.6  35.373719    21          4  154.0   \n",
       "2018-08-31 22:00:00         223  175.8  37.224992    22          4  159.0   \n",
       "2018-08-31 23:00:00         205  175.4  36.814399    23          4  223.0   \n",
       "\n",
       "                     lag_2  lag_3  lag_4  lag_5  ...  lag_16  lag_17  lag_18  \\\n",
       "datetime                                         ...                           \n",
       "2018-03-01 00:00:00    NaN    NaN    NaN    NaN  ...     NaN     NaN     NaN   \n",
       "2018-03-01 01:00:00    NaN    NaN    NaN    NaN  ...     NaN     NaN     NaN   \n",
       "2018-03-01 02:00:00  124.0    NaN    NaN    NaN  ...     NaN     NaN     NaN   \n",
       "2018-03-01 03:00:00   85.0  124.0    NaN    NaN  ...     NaN     NaN     NaN   \n",
       "2018-03-01 04:00:00   71.0   85.0  124.0    NaN  ...     NaN     NaN     NaN   \n",
       "...                    ...    ...    ...    ...  ...     ...     ...     ...   \n",
       "2018-08-31 19:00:00  217.0  197.0  116.0  133.0  ...    99.0   230.0   194.0   \n",
       "2018-08-31 20:00:00  207.0  217.0  197.0  116.0  ...   268.0    99.0   230.0   \n",
       "2018-08-31 21:00:00  136.0  207.0  217.0  197.0  ...    78.0   268.0    99.0   \n",
       "2018-08-31 22:00:00  154.0  136.0  207.0  217.0  ...    35.0    78.0   268.0   \n",
       "2018-08-31 23:00:00  159.0  154.0  136.0  207.0  ...    46.0    35.0    78.0   \n",
       "\n",
       "                     lag_19  lag_20  lag_21  lag_22  lag_23  lag_24  \\\n",
       "datetime                                                              \n",
       "2018-03-01 00:00:00     NaN     NaN     NaN     NaN     NaN     NaN   \n",
       "2018-03-01 01:00:00     NaN     NaN     NaN     NaN     NaN     NaN   \n",
       "2018-03-01 02:00:00     NaN     NaN     NaN     NaN     NaN     NaN   \n",
       "2018-03-01 03:00:00     NaN     NaN     NaN     NaN     NaN     NaN   \n",
       "2018-03-01 04:00:00     NaN     NaN     NaN     NaN     NaN     NaN   \n",
       "...                     ...     ...     ...     ...     ...     ...   \n",
       "2018-08-31 19:00:00   276.0   246.0   158.0   198.0   142.0    72.0   \n",
       "2018-08-31 20:00:00   194.0   276.0   246.0   158.0   198.0   142.0   \n",
       "2018-08-31 21:00:00   230.0   194.0   276.0   246.0   158.0   198.0   \n",
       "2018-08-31 22:00:00    99.0   230.0   194.0   276.0   246.0   158.0   \n",
       "2018-08-31 23:00:00   268.0    99.0   230.0   194.0   276.0   246.0   \n",
       "\n",
       "                     rolling_mean  \n",
       "datetime                           \n",
       "2018-03-01 00:00:00           NaN  \n",
       "2018-03-01 01:00:00           NaN  \n",
       "2018-03-01 02:00:00           NaN  \n",
       "2018-03-01 03:00:00           NaN  \n",
       "2018-03-01 04:00:00           NaN  \n",
       "...                           ...  \n",
       "2018-08-31 19:00:00    164.875000  \n",
       "2018-08-31 20:00:00    167.541667  \n",
       "2018-08-31 21:00:00    168.041667  \n",
       "2018-08-31 22:00:00    166.416667  \n",
       "2018-08-31 23:00:00    169.125000  \n",
       "\n",
       "[4416 rows x 30 columns]"
      ]
     },
     "metadata": {},
     "output_type": "display_data"
    },
    {
     "data": {
      "text/plain": [
       "<Figure size 720x576 with 0 Axes>"
      ]
     },
     "metadata": {},
     "output_type": "display_data"
    },
    {
     "data": {
      "image/png": "[encoded data removed]",
      "text/plain": [
       "<Figure size 432x288 with 1 Axes>"
      ]
     },
     "metadata": {
      "needs_background": "light"
     },
     "output_type": "display_data"
    }
   ],
   "source": [
    "# Определяем функцию make_features\n",
    "def make_features(data, max_lag, rolling_mean_size):\n",
    "    data['hour'] = data.index.hour\n",
    "    data['dayofweek'] = data.index.dayofweek\n",
    "    \n",
    "    for lag in range(1, max_lag + 1):\n",
    "        data['lag_{}'.format(lag)] = data['num_orders'].shift(lag)\n",
    "\n",
    "    data['rolling_mean'] = data['num_orders'].shift().rolling(rolling_mean_size).mean()\n",
    "\n",
    "# На основании графика ACF выбираем max_lag и rolling_mean_size\n",
    "make_features(taxi, max_lag=24, rolling_mean_size=24)\n",
    "\n",
    "display(taxi)\n",
    "\n",
    "# Пример анализа автокорреляций\n",
    "plt.figure(figsize=(10, 8))\n",
    "plot_acf(taxi['num_orders'].dropna(), lags=50)\n",
    "plt.show()"
   ]
  },
  {
   "cell_type": "markdown",
   "metadata": {},
   "source": [
    "**Разделим данные на обучающую и тестовую выборки.**"
   ]
  },
  {
   "cell_type": "code",
   "execution_count": 10,
   "metadata": {},
   "outputs": [],
   "source": [
    "train, test = train_test_split(taxi, shuffle=False, test_size=0.1)\n",
    "train = train.dropna()\n",
    "\n",
    "X_train = train.drop(columns=['num_orders'])\n",
    "y_train = train['num_orders']\n",
    "X_test = test.drop(columns=['num_orders'])\n",
    "y_test = test['num_orders']"
   ]
  },
  {
   "cell_type": "markdown",
   "metadata": {},
   "source": [
    "**Обучим модели линейной регрессии GradientBoostingRegressor и RandomForestRegressor. Выберем лучшую.**"
   ]
  },
  {
   "cell_type": "code",
   "execution_count": 11,
   "metadata": {},
   "outputs": [
    {
     "name": "stdout",
     "output_type": "stream",
     "text": [
      "Best Parameters: {'model': RandomForestRegressor(max_depth=20, n_estimators=70, random_state=42), 'model__max_depth': 20, 'model__n_estimators': 70}\n",
      "Best MRSE: 22.626404618791884\n"
     ]
    }
   ],
   "source": [
    "all_features = taxi.columns.tolist()\n",
    "numeric_features = [feature for feature in all_features if feature not in ['hour', 'dayofweek', 'num_orders']]\n",
    "\n",
    "# Определяем категориальные признаки\n",
    "categorical_features = ['hour', 'dayofweek']\n",
    "\n",
    "# Создаем трансформер для предобработки\n",
    "preprocessor = ColumnTransformer(\n",
    "    transformers=[\n",
    "        ('num', StandardScaler(), numeric_features),\n",
    "        ('cat', OrdinalEncoder(), categorical_features)\n",
    "    ])\n",
    "\n",
    "# Создаем пайплайн\n",
    "pipeline = Pipeline([\n",
    "    ('preprocessor', preprocessor),\n",
    "    ('model', GradientBoostingRegressor())\n",
    "])\n",
    "\n",
    "# Создаем сетку гиперпараметров для обеих моделей\n",
    "param_grid = [\n",
    "    {\n",
    "        'model': [GradientBoostingRegressor(random_state=42)],\n",
    "        'model__learning_rate': [0.1, 0.2],\n",
    "        'model__n_estimators': [30, 50, 70],\n",
    "        'model__max_depth': [20, 30, 40]\n",
    "    },\n",
    "    {\n",
    "        'model': [RandomForestRegressor(random_state=42)],\n",
    "        'model__n_estimators': [30, 50, 70],\n",
    "        'model__max_depth': [20, 30, 40]\n",
    "    }\n",
    "]\n",
    "\n",
    "# Создаем GridSearchCV для поиска лучших гиперпараметров\n",
    "tscv = TimeSeriesSplit(n_splits=3)\n",
    "grid_search = GridSearchCV(pipeline, param_grid, scoring='neg_root_mean_squared_error', cv=tscv)\n",
    "grid_search.fit(X_train, y_train)\n",
    "\n",
    "# Выводим лучшие параметры и оценку на тестовом наборе\n",
    "print(\"Best Parameters:\", grid_search.best_params_)\n",
    "print(\"Best MRSE:\", -grid_search.best_score_)"
   ]
  },
  {
   "cell_type": "markdown",
   "metadata": {},
   "source": [
    "Лучшей моделью оказалась RandomForestRegressor с метрикой RMSE 22.62 на тренировочной выборке."
   ]
  },
  {
   "cell_type": "markdown",
   "metadata": {},
   "source": [
    "## Тестирование"
   ]
  },
  {
   "cell_type": "markdown",
   "metadata": {},
   "source": [
    "**Предскажем тестовые данные и расчитаем метрику RMSE.**"
   ]
  },
  {
   "cell_type": "code",
   "execution_count": 12,
   "metadata": {},
   "outputs": [
    {
     "name": "stdout",
     "output_type": "stream",
     "text": [
      "Test RMSE: 36.18983268687636\n"
     ]
    }
   ],
   "source": [
    "# Предсказание на тестовом наборе с помощью лучшей модели\n",
    "test_predictions = grid_search.predict(X_test)\n",
    "\n",
    "# Вычисление метрики RMSE\n",
    "rmse = mean_squared_error(y_test, test_predictions, squared=False)\n",
    "print(\"Test RMSE:\", rmse)"
   ]
  },
  {
   "cell_type": "markdown",
   "metadata": {},
   "source": [
    "Выводы:\n",
    "- Гиперпараметры: Модель RandomForestRegressor с параметрами max_depth=20 и n_estimators=70 показала наилучшие результаты при кросс-валидации.\n",
    "- Качество модели: Значение RMSE на тестовом наборе (36.19) выше, чем на тренировочном наборе (22.63), что может указывать на некоторое переобучение модели или различия в структуре данных между тренировочным и тестовым наборами.\n",
    "- Обоснованность метрики: RMSE является подходящей метрикой для данной задачи, так как она измеряет среднеквадратичное отклонение между прогнозируемыми и фактическими значениями, что важно для понимания точности модели в реальных числах заказов такси.\n",
    "\n",
    "Таким образом, модель показала хорошие результаты, но есть потенциал для дальнейшего улучшения предсказательной способности."
   ]
  }
 ],
 "metadata": {
  "ExecuteTimeLog": [
   {
    "duration": 1163,
    "start_time": "2024-06-04T11:26:01.185Z"
   },
   {
    "duration": 112,
    "start_time": "2024-06-04T11:29:16.879Z"
   },
   {
    "duration": 3,
    "start_time": "2024-06-04T11:29:28.259Z"
   },
   {
    "duration": 119,
    "start_time": "2024-06-04T11:29:30.113Z"
   },
   {
    "duration": 10,
    "start_time": "2024-06-04T11:31:16.665Z"
   },
   {
    "duration": 11,
    "start_time": "2024-06-04T11:31:20.665Z"
   },
   {
    "duration": 1102,
    "start_time": "2024-06-04T11:38:17.543Z"
   },
   {
    "duration": 6,
    "start_time": "2024-06-04T11:39:50.496Z"
   },
   {
    "duration": 1041,
    "start_time": "2024-06-04T11:40:20.940Z"
   },
   {
    "duration": 8,
    "start_time": "2024-06-04T11:41:04.364Z"
   },
   {
    "duration": 954,
    "start_time": "2024-06-04T11:41:41.304Z"
   },
   {
    "duration": 6,
    "start_time": "2024-06-04T11:42:29.768Z"
   },
   {
    "duration": 669,
    "start_time": "2024-06-04T11:47:46.965Z"
   },
   {
    "duration": 22,
    "start_time": "2024-06-04T11:50:00.721Z"
   },
   {
    "duration": 6,
    "start_time": "2024-06-04T11:50:06.210Z"
   },
   {
    "duration": 219,
    "start_time": "2024-06-04T11:55:08.903Z"
   },
   {
    "duration": 220,
    "start_time": "2024-06-04T11:55:15.281Z"
   },
   {
    "duration": 223,
    "start_time": "2024-06-04T11:55:19.445Z"
   },
   {
    "duration": 222,
    "start_time": "2024-06-04T11:55:26.596Z"
   },
   {
    "duration": 255,
    "start_time": "2024-06-04T11:55:36.687Z"
   },
   {
    "duration": 182,
    "start_time": "2024-06-04T11:55:43.924Z"
   },
   {
    "duration": 189,
    "start_time": "2024-06-04T11:55:49.932Z"
   },
   {
    "duration": 235,
    "start_time": "2024-06-04T11:58:23.774Z"
   },
   {
    "duration": 185,
    "start_time": "2024-06-04T11:59:42.806Z"
   },
   {
    "duration": 8,
    "start_time": "2024-06-04T12:02:24.323Z"
   },
   {
    "duration": 1094,
    "start_time": "2024-06-04T12:02:28.717Z"
   },
   {
    "duration": 74,
    "start_time": "2024-06-04T12:02:29.813Z"
   },
   {
    "duration": 8,
    "start_time": "2024-06-04T12:02:29.889Z"
   },
   {
    "duration": 25,
    "start_time": "2024-06-04T12:02:29.899Z"
   },
   {
    "duration": 574,
    "start_time": "2024-06-04T12:02:29.926Z"
   },
   {
    "duration": 141,
    "start_time": "2024-06-04T12:10:22.368Z"
   },
   {
    "duration": 15,
    "start_time": "2024-06-04T12:11:50.803Z"
   },
   {
    "duration": 3,
    "start_time": "2024-06-04T12:12:03.666Z"
   },
   {
    "duration": 339,
    "start_time": "2024-06-04T12:12:06.998Z"
   },
   {
    "duration": 286,
    "start_time": "2024-06-04T12:12:24.532Z"
   },
   {
    "duration": 269,
    "start_time": "2024-06-04T12:12:31.959Z"
   },
   {
    "duration": 99,
    "start_time": "2024-06-04T12:13:31.747Z"
   },
   {
    "duration": 7,
    "start_time": "2024-06-04T12:14:54.860Z"
   },
   {
    "duration": 31,
    "start_time": "2024-06-04T12:17:49.423Z"
   },
   {
    "duration": 1334,
    "start_time": "2024-06-04T12:18:39.306Z"
   },
   {
    "duration": 66,
    "start_time": "2024-06-04T12:18:40.641Z"
   },
   {
    "duration": 8,
    "start_time": "2024-06-04T12:18:40.709Z"
   },
   {
    "duration": 26,
    "start_time": "2024-06-04T12:18:40.718Z"
   },
   {
    "duration": 121,
    "start_time": "2024-06-04T12:18:40.746Z"
   },
   {
    "duration": 0,
    "start_time": "2024-06-04T12:18:40.869Z"
   },
   {
    "duration": 257,
    "start_time": "2024-06-04T12:19:26.653Z"
   },
   {
    "duration": 23,
    "start_time": "2024-06-04T12:21:47.658Z"
   },
   {
    "duration": 255,
    "start_time": "2024-06-04T12:22:21.400Z"
   },
   {
    "duration": 231,
    "start_time": "2024-06-04T12:27:49.921Z"
   },
   {
    "duration": 657,
    "start_time": "2024-06-04T12:30:06.305Z"
   },
   {
    "duration": 678,
    "start_time": "2024-06-04T12:30:54.284Z"
   },
   {
    "duration": 348,
    "start_time": "2024-06-04T12:36:12.515Z"
   },
   {
    "duration": 1206,
    "start_time": "2024-06-04T12:40:44.906Z"
   },
   {
    "duration": 1422,
    "start_time": "2024-06-04T12:41:59.824Z"
   },
   {
    "duration": 70,
    "start_time": "2024-06-04T12:42:01.248Z"
   },
   {
    "duration": 38,
    "start_time": "2024-06-04T12:42:01.319Z"
   },
   {
    "duration": 87,
    "start_time": "2024-06-04T12:42:01.359Z"
   },
   {
    "duration": 806,
    "start_time": "2024-06-04T12:42:01.449Z"
   },
   {
    "duration": 326,
    "start_time": "2024-06-04T12:42:02.257Z"
   },
   {
    "duration": 30,
    "start_time": "2024-06-04T12:42:02.585Z"
   },
   {
    "duration": 11,
    "start_time": "2024-06-04T12:44:08.009Z"
   },
   {
    "duration": 1377,
    "start_time": "2024-06-04T12:44:33.511Z"
   },
   {
    "duration": 71,
    "start_time": "2024-06-04T12:44:34.891Z"
   },
   {
    "duration": 13,
    "start_time": "2024-06-04T12:44:34.964Z"
   },
   {
    "duration": 6,
    "start_time": "2024-06-04T12:44:34.979Z"
   },
   {
    "duration": 800,
    "start_time": "2024-06-04T12:44:34.987Z"
   },
   {
    "duration": 342,
    "start_time": "2024-06-04T12:44:35.789Z"
   },
   {
    "duration": 20,
    "start_time": "2024-06-04T12:44:36.134Z"
   },
   {
    "duration": 9,
    "start_time": "2024-06-04T12:44:36.156Z"
   },
   {
    "duration": 121,
    "start_time": "2024-06-04T12:48:05.563Z"
   },
   {
    "duration": 161991,
    "start_time": "2024-06-04T12:50:20.486Z"
   },
   {
    "duration": 26302,
    "start_time": "2024-06-04T12:53:59.308Z"
   },
   {
    "duration": 1480,
    "start_time": "2024-06-04T12:55:56.203Z"
   },
   {
    "duration": 65,
    "start_time": "2024-06-04T12:55:57.685Z"
   },
   {
    "duration": 10,
    "start_time": "2024-06-04T12:55:57.752Z"
   },
   {
    "duration": 6,
    "start_time": "2024-06-04T12:55:57.764Z"
   },
   {
    "duration": 780,
    "start_time": "2024-06-04T12:55:57.771Z"
   },
   {
    "duration": 474,
    "start_time": "2024-06-04T12:55:58.553Z"
   },
   {
    "duration": 19,
    "start_time": "2024-06-04T12:55:59.030Z"
   },
   {
    "duration": 8,
    "start_time": "2024-06-04T12:55:59.051Z"
   },
   {
    "duration": 26369,
    "start_time": "2024-06-04T12:55:59.061Z"
   },
   {
    "duration": 27128,
    "start_time": "2024-06-04T12:56:36.305Z"
   },
   {
    "duration": 7,
    "start_time": "2024-06-04T12:59:26.004Z"
   },
   {
    "duration": 100622,
    "start_time": "2024-06-04T13:00:03.612Z"
   },
   {
    "duration": 18,
    "start_time": "2024-06-04T13:01:53.135Z"
   },
   {
    "duration": 151962,
    "start_time": "2024-06-04T13:02:25.885Z"
   },
   {
    "duration": 17,
    "start_time": "2024-06-04T13:05:05.478Z"
   },
   {
    "duration": 29,
    "start_time": "2024-06-04T17:26:01.863Z"
   },
   {
    "duration": 285,
    "start_time": "2024-06-04T17:26:22.176Z"
   },
   {
    "duration": 2599,
    "start_time": "2024-06-04T17:26:52.865Z"
   },
   {
    "duration": 66,
    "start_time": "2024-06-04T17:26:55.466Z"
   },
   {
    "duration": 8,
    "start_time": "2024-06-04T17:26:55.534Z"
   },
   {
    "duration": 20,
    "start_time": "2024-06-04T17:26:55.543Z"
   },
   {
    "duration": 751,
    "start_time": "2024-06-04T17:26:55.564Z"
   },
   {
    "duration": 403,
    "start_time": "2024-06-04T17:26:56.317Z"
   },
   {
    "duration": 128,
    "start_time": "2024-06-04T17:26:56.721Z"
   },
   {
    "duration": 0,
    "start_time": "2024-06-04T17:26:56.850Z"
   },
   {
    "duration": 0,
    "start_time": "2024-06-04T17:26:56.852Z"
   },
   {
    "duration": 0,
    "start_time": "2024-06-04T17:26:56.853Z"
   },
   {
    "duration": 0,
    "start_time": "2024-06-04T17:26:56.855Z"
   },
   {
    "duration": 2101,
    "start_time": "2024-06-04T17:27:35.123Z"
   },
   {
    "duration": 1394,
    "start_time": "2024-06-04T17:30:38.591Z"
   },
   {
    "duration": 67,
    "start_time": "2024-06-04T17:30:39.986Z"
   },
   {
    "duration": 9,
    "start_time": "2024-06-04T17:30:40.054Z"
   },
   {
    "duration": 23,
    "start_time": "2024-06-04T17:30:40.065Z"
   },
   {
    "duration": 717,
    "start_time": "2024-06-04T17:30:40.090Z"
   },
   {
    "duration": 439,
    "start_time": "2024-06-04T17:30:40.808Z"
   },
   {
    "duration": 2072,
    "start_time": "2024-06-04T17:30:41.249Z"
   },
   {
    "duration": 201,
    "start_time": "2024-06-04T17:30:43.323Z"
   },
   {
    "duration": 8,
    "start_time": "2024-06-04T17:30:43.526Z"
   },
   {
    "duration": 166970,
    "start_time": "2024-06-04T17:30:43.536Z"
   },
   {
    "duration": 15,
    "start_time": "2024-06-04T17:33:30.507Z"
   },
   {
    "duration": 111,
    "start_time": "2024-06-04T17:36:48.657Z"
   },
   {
    "duration": 4,
    "start_time": "2024-06-04T17:37:17.802Z"
   },
   {
    "duration": 502,
    "start_time": "2024-06-04T17:37:22.379Z"
   },
   {
    "duration": 535,
    "start_time": "2024-06-04T17:40:19.619Z"
   },
   {
    "duration": 493,
    "start_time": "2024-06-04T17:40:53.789Z"
   },
   {
    "duration": 1369,
    "start_time": "2024-06-04T17:46:28.765Z"
   },
   {
    "duration": 66,
    "start_time": "2024-06-04T17:46:30.135Z"
   },
   {
    "duration": 8,
    "start_time": "2024-06-04T17:46:30.203Z"
   },
   {
    "duration": 21,
    "start_time": "2024-06-04T17:46:30.213Z"
   },
   {
    "duration": 719,
    "start_time": "2024-06-04T17:46:30.236Z"
   },
   {
    "duration": 417,
    "start_time": "2024-06-04T17:46:30.957Z"
   },
   {
    "duration": 2139,
    "start_time": "2024-06-04T17:46:31.376Z"
   },
   {
    "duration": 644,
    "start_time": "2024-06-04T17:46:33.517Z"
   },
   {
    "duration": 13,
    "start_time": "2024-06-04T17:46:34.162Z"
   },
   {
    "duration": 139,
    "start_time": "2024-06-04T17:46:34.177Z"
   },
   {
    "duration": 0,
    "start_time": "2024-06-04T17:46:34.317Z"
   },
   {
    "duration": 4,
    "start_time": "2024-06-04T17:47:07.408Z"
   },
   {
    "duration": 1388,
    "start_time": "2024-06-04T17:47:11.609Z"
   },
   {
    "duration": 69,
    "start_time": "2024-06-04T17:47:13.004Z"
   },
   {
    "duration": 9,
    "start_time": "2024-06-04T17:47:13.075Z"
   },
   {
    "duration": 5,
    "start_time": "2024-06-04T17:47:13.086Z"
   },
   {
    "duration": 693,
    "start_time": "2024-06-04T17:47:13.094Z"
   },
   {
    "duration": 405,
    "start_time": "2024-06-04T17:47:13.788Z"
   },
   {
    "duration": 1821,
    "start_time": "2024-06-04T17:47:14.195Z"
   },
   {
    "duration": 643,
    "start_time": "2024-06-04T17:47:16.020Z"
   },
   {
    "duration": 13,
    "start_time": "2024-06-04T17:47:16.664Z"
   },
   {
    "duration": 18177,
    "start_time": "2024-06-04T17:47:16.678Z"
   },
   {
    "duration": 0,
    "start_time": "2024-06-04T17:47:34.857Z"
   },
   {
    "duration": 5,
    "start_time": "2024-06-04T17:48:32.493Z"
   },
   {
    "duration": 1432,
    "start_time": "2024-06-04T17:50:44.785Z"
   },
   {
    "duration": 67,
    "start_time": "2024-06-04T17:50:46.219Z"
   },
   {
    "duration": 9,
    "start_time": "2024-06-04T17:50:46.288Z"
   },
   {
    "duration": 5,
    "start_time": "2024-06-04T17:50:46.298Z"
   },
   {
    "duration": 693,
    "start_time": "2024-06-04T17:50:46.306Z"
   },
   {
    "duration": 407,
    "start_time": "2024-06-04T17:50:47.001Z"
   },
   {
    "duration": 2112,
    "start_time": "2024-06-04T17:50:47.409Z"
   },
   {
    "duration": 756,
    "start_time": "2024-06-04T17:50:49.523Z"
   },
   {
    "duration": 12,
    "start_time": "2024-06-04T17:50:50.280Z"
   },
   {
    "duration": 147779,
    "start_time": "2024-06-04T17:50:50.294Z"
   },
   {
    "duration": 22,
    "start_time": "2024-06-04T17:53:18.076Z"
   },
   {
    "duration": 249,
    "start_time": "2024-06-04T17:58:39.709Z"
   },
   {
    "duration": 1509,
    "start_time": "2024-06-04T18:02:02.029Z"
   },
   {
    "duration": 67,
    "start_time": "2024-06-04T18:02:03.540Z"
   },
   {
    "duration": 8,
    "start_time": "2024-06-04T18:02:03.609Z"
   },
   {
    "duration": 10,
    "start_time": "2024-06-04T18:02:03.619Z"
   },
   {
    "duration": 716,
    "start_time": "2024-06-04T18:02:03.631Z"
   },
   {
    "duration": 406,
    "start_time": "2024-06-04T18:02:04.349Z"
   },
   {
    "duration": 2463,
    "start_time": "2024-06-04T18:02:04.757Z"
   },
   {
    "duration": 436,
    "start_time": "2024-06-04T18:02:07.222Z"
   },
   {
    "duration": 312,
    "start_time": "2024-06-04T18:02:07.660Z"
   },
   {
    "duration": 12,
    "start_time": "2024-06-04T18:02:07.973Z"
   },
   {
    "duration": 147775,
    "start_time": "2024-06-04T18:02:07.986Z"
   },
   {
    "duration": 30,
    "start_time": "2024-06-04T18:04:35.764Z"
   }
  ],
  "kernelspec": {
   "display_name": "Python 3 (ipykernel)",
   "language": "python",
   "name": "python3"
  },
  "language_info": {
   "codemirror_mode": {
    "name": "ipython",
    "version": 3
   },
   "file_extension": ".py",
   "mimetype": "text/x-python",
   "name": "python",
   "nbconvert_exporter": "python",
   "pygments_lexer": "ipython3",
   "version": "3.11.5"
  },
  "toc": {
   "base_numbering": 1,
   "nav_menu": {},
   "number_sections": true,
   "sideBar": true,
   "skip_h1_title": true,
   "title_cell": "Содержание",
   "title_sidebar": "Contents",
   "toc_cell": true,
   "toc_position": {
    "height": "calc(100% - 180px)",
    "left": "10px",
    "top": "150px",
    "width": "214.391px"
   },
   "toc_section_display": true,
   "toc_window_display": true
  }
 },
 "nbformat": 4,
 "nbformat_minor": 2
}
